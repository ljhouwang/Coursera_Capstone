{
 "cells": [
  {
   "cell_type": "markdown",
   "metadata": {},
   "source": [
    "<a href=\"https://cognitiveclass.ai\"><img src = \"https://ibm.box.com/shared/static/9gegpsmnsoo25ikkbl4qzlvlyjbgxs5x.png\" width = 400> </a>\n",
    "\n",
    "<h1 align=center><font size = 5>Crime and commercial activities in Toronto neighborhoods</font></h1>\n",
    "\n",
    "This notebook will be used for the Capstone project of IBM Applied Data Science courses (via coursera)"
   ]
  },
  {
   "cell_type": "markdown",
   "metadata": {},
   "source": [
    "## Executive summary\n",
    "In this project, we intend to study the relationship between crime rate/types and commercial activities in Toronto neighborhoods. In particular, we want to inspect the relationship/association between certain commercial activities in a neighbourhood, represented by the presence as well as density of certain commercial venues in a neighbourhood, and the types of crime and overall crime rates in the underlying neighbourhood. In order to do so, we have obtained the historical crime statistics from Toronto Open Data Portal, Toronto neighbourhood data from Wikipedia, and also commercial venue information from Foursqaure. The data were first thoroughly cleaned and then transformed and merged together for further analysis. Different data analytical techniques have been employed to analyze the data, for example, data visualization, descriptive statistics, and more advanced machine learning techniques, such as logistic regression, decision tree, support vector machine (SVM) and neural network (NN). Predictive models have been developed to predict the probability of occurance of certain crimes with a specific neighbourhood, given presence and density of all the commercial venues. "
   ]
  },
  {
   "cell_type": "markdown",
   "metadata": {},
   "source": [
    "## 1 Introduction\n",
    "Toronto is the capital city of Ontario as well as the largest city by population in Canada. As of 2016 it had a population of over 2,700,000 (wikipedia). Being the most populous city in the country, Toronto is of great importance both domestically and globally. \n",
    "\n",
    "### 1.1 Business\n",
    "It is an international centre for business and finance. Generally considered the financial capital of Canada, it has a high concentration of banks and brokerage firms on Bay Street. The Toronto Stock Exchange is the world's seventh-largest stock exchange by market capitalization. In particular, the city accounted for nearly one quarter of the country’s employment in the finance and insurance industry (wikipedia).\n",
    "\n",
    "Also the city is an important centre for the media, publishing, telecommunication, information technology and film production industries; it is home to Bell Media, Rogers Communications, and Torstar. Other prominent Canadian corporations in the Greater Toronto Area include Magna International, Celestica, Manulife, Sun Life Financial, the Hudson's Bay Company, and major hotel companies and operators, such as Four Seasons Hotels and Fairmont Hotels and Resorts.\n",
    "\n",
    "### 1.2 Living\n",
    "In 2018, Toronto ranked 7th (tied with Tokyo) for the world’s most livable cities (3rd in North America) according to the Economist Intelligence Unit Opens in new window (toronto.ca), based on . Cities are rated across five categories; stability, healthcare, culture and environment, education and infrastructure. In each of the categories, cities are given a score between 1 and 100, where 1 is considered intolerable and 100 is considered ideal. Once all category scores are compiled and weighted, an overall score is given between 1 and 100. Toronto received an overall score of 97.2. Toronto received high scores (100) in stability, healthcare and education. Toronto’s lowest score (89.3) was in infrastructure. (Toronto.ca)\n",
    "\n",
    "### 1.3 Crime\n",
    "Although being the most populous city in Canada, the overall crime rate in Toronto is below than national average, based on Statistics Canada data. \n",
    "\n",
    "### 1.4 Project description\n",
    "In this project, we intend to study the geo-distribution of crime rate in Toronto and particularly its relation/correlation with commercial activities in the neighborhood. The results would be of great interest for both business persons, who would naturally be interested in doing business in a safe and properous neighborhood, and government, who is keenly interested in making Toronto a more livable city.\n",
    "\n",
    "As it is an exploratory study, we do not foresee what the outcome would look like, but ideally we hope to get some insight regarding interactions between crime activities and business activities. More specifically, we want to answer the following questions:\n",
    "1. How is the crime rate distributed in Toronto neighborhood? Where are neighborhoods with the highest/lowest crime?\n",
    "2. What do the crime rate distributions differ for different crime types?\n",
    "3. How is the business activity (venue density) distributed in Toronto neighborhood? Where are neighborhoods with the highest/lowest, e. g., restaurant concentration and so on?\n",
    "4. Are there any relationship/correlation/association between crime rate (or a specific type of crime rate) and particular type of business venue or vice versa?\n",
    "\n",
    "#### Target Audiance\n",
    "1. Business persons, who are interested in a perfect location for their businesses\n",
    "2. Municipal government, who is interested in making Toronto a more livable city.\n"
   ]
  },
  {
   "cell_type": "markdown",
   "metadata": {},
   "source": [
    "## 2 Data Description\n",
    "In this project, we are planing to use mainly three data sources, namely, Foursquare data, City of Toronto Crime Statistics data and also the neighbourhood data on [Wikipedia](https://en.wikipedia.org/wiki/List_of_postal_codes_of_Canada:_M).\n",
    "\n",
    "### 2.1 Foursquare API data\n",
    "Foursquare provides different endpoints, from which information about venues and/or users can be retrieved. We are particularly interested in the \"explore\" endpoint to get basic information of venues in a neighborhood their categories and so on. This information is then going to be combined with Crime Statistics data above.\n",
    "\n",
    "| Endpoint          | Usage                       |\n",
    "|-------------------|-----------------------------|\n",
    "| search            | Search for Venues           |\n",
    "| __explore__           | __Get Venue Recommendations__   |\n",
    "| select            | Report Venue Selection      |\n",
    "| trending          | Get Trending Venues         |\n",
    "| suggestcompletion | Suggest Completions         |\n",
    "| likes             | Get Users Who Liked a Venue |\n",
    "| categories        | Get Venue Categories        |\n",
    "| similar           | Get Similar Venues          |\n",
    "| nextvenues        | Get Next Venues             |\n",
    "| listed            | Get Lists a Venue is On     |\n",
    "\n",
    "### 2.2 City of Toronto Crime Statistics\n",
    "This data is available via City of Toronto Open Data Portal and is shared by [TorontoPoliceService](http://data.torontopolice.on.ca/datasets/98f7dde610b54b9081dfca80be453ac9_0). This dataset can be downloaded as CSV or JSON file. It includes all Major Crime Indicators (MCI) 2014 to 2018 occurrences by reported date and related offences. Below is a list of variables that are included in the datasets.\n",
    "\n",
    "| Fields              | Field_Description                                                                                           |\n",
    "|---------------------|-------------------------------------------------------------------------------------------------------------|\n",
    "| Index               | Unique ID                                                                                                   |\n",
    "| event_unique_id     | Occurrence number                                                                                           |\n",
    "| occurrencedate      | Date of occurrence                                                                                          |\n",
    "| reporteddate        | Date occurrence was reported                                                                                |\n",
    "| premisetype         | Premise where occurrence took place                                                                         |\n",
    "| ucr_code            | URC Code                                                                                                    |\n",
    "| ucr_ext             | URC Code Extension                                                                                          |\n",
    "| offence             | Offence related to the occurrence                                                                           |\n",
    "| reportedyear        | Year occurrence was reported                                                                                |\n",
    "| reportedmonth       | Month occurrence was reported                                                                               |\n",
    "| reportedday         | Day occurrence was reported                                                                                 |\n",
    "| reporteddayofyear   | Day of week occurrence was reported                                                                         |\n",
    "| reporteddayofweek   | Day of year Occurrence was reported                                                                         |\n",
    "| reportedhour        | Hour occurrence was reported                                                                                |\n",
    "| occurrenceyear      | Occurrence year                                                                                             |\n",
    "| occurrencemonth     | Occurrence month                                                                                            |\n",
    "| occurrenceday       | Occurrence day                                                                                              |\n",
    "| occurrencedayofyear | Occurrence day of year                                                                                      |\n",
    "| occurrencedayofweek | Occurrence day of week                                                                                      |\n",
    "| occurrencehour      | Occurrence hour                                                                                             |\n",
    "| MCI                 | Major Crime Indicator related to the offence                                                                |\n",
    "| Division            | Division Assigned to occurrence after offsetting X and & Coordinates to nearest intersection node           |\n",
    "| Hood_ID             | Nieghbourhood Name Assigned to occurrence after offsetting X and & Coordinates to nearest intersection node |\n",
    "| Neighbourhood       | Nieghbourhood ID Assigned to occurrence after offsetting X and & Coordinates to nearest intersection node   |\n",
    "| Long                | Longitude of point extracted after offsetting X and & Coordinates to nearest intersection node              |\n",
    "| Lat                 | Latitude of point extracted after offsetting X and & Coordinates to nearest intersection node               |\n",
    "\n",
    "### 2.3 Postal codes for Toronto neighbourhoods from Wikipedia\n",
    "The last data source is a table from Wikipedia that contains postal codes for all Toronto neighbourhoods. We'll need it to get the geo-codes of the neighbourhoods. The Crime dataset does contain the geo-codes of all crime incidents and corresponding neighbourhood, however, there is no geo-code for neighbourhoods. Therefore we shall take a little detour to get it.\n",
    "\n",
    "### 2.4 Data usage\n",
    "The two data sources will eventually be combined on __Neighbourhood__. Further data analysis and modelling will be based on the final dataset."
   ]
  },
  {
   "cell_type": "markdown",
   "metadata": {},
   "source": [
    "## 3 Data Exploration"
   ]
  },
  {
   "cell_type": "markdown",
   "metadata": {},
   "source": [
    "Import common libraries"
   ]
  },
  {
   "cell_type": "code",
   "execution_count": 1,
   "metadata": {},
   "outputs": [
    {
     "name": "stdout",
     "output_type": "stream",
     "text": [
      "Libraries imported.\n"
     ]
    }
   ],
   "source": [
    "import random # library for random number generation\n",
    "import numpy as np # library for vectorized computation\n",
    "import pandas as pd # library to process data as dataframes\n",
    "\n",
    "import matplotlib.pyplot as plt # plotting library\n",
    "# backend for rendering plots within the browser\n",
    "%matplotlib inline \n",
    "print('Libraries imported.')"
   ]
  },
  {
   "cell_type": "markdown",
   "metadata": {},
   "source": [
    "### 3.1 Import the crime data"
   ]
  },
  {
   "cell_type": "code",
   "execution_count": 2,
   "metadata": {},
   "outputs": [
    {
     "data": {
      "text/html": [
       "<div>\n",
       "<style scoped>\n",
       "    .dataframe tbody tr th:only-of-type {\n",
       "        vertical-align: middle;\n",
       "    }\n",
       "\n",
       "    .dataframe tbody tr th {\n",
       "        vertical-align: top;\n",
       "    }\n",
       "\n",
       "    .dataframe thead th {\n",
       "        text-align: right;\n",
       "    }\n",
       "</style>\n",
       "<table border=\"1\" class=\"dataframe\">\n",
       "  <thead>\n",
       "    <tr style=\"text-align: right;\">\n",
       "      <th></th>\n",
       "      <th>X</th>\n",
       "      <th>Y</th>\n",
       "      <th>Index_</th>\n",
       "      <th>event_unique_id</th>\n",
       "      <th>occurrencedate</th>\n",
       "      <th>reporteddate</th>\n",
       "      <th>premisetype</th>\n",
       "      <th>ucr_code</th>\n",
       "      <th>ucr_ext</th>\n",
       "      <th>offence</th>\n",
       "      <th>...</th>\n",
       "      <th>occurrencedayofyear</th>\n",
       "      <th>occurrencedayofweek</th>\n",
       "      <th>occurrencehour</th>\n",
       "      <th>MCI</th>\n",
       "      <th>Division</th>\n",
       "      <th>Hood_ID</th>\n",
       "      <th>Neighbourhood</th>\n",
       "      <th>Lat</th>\n",
       "      <th>Long</th>\n",
       "      <th>ObjectId</th>\n",
       "    </tr>\n",
       "  </thead>\n",
       "  <tbody>\n",
       "    <tr>\n",
       "      <th>0</th>\n",
       "      <td>-79.343094</td>\n",
       "      <td>43.668449</td>\n",
       "      <td>214</td>\n",
       "      <td>GO-20141948968</td>\n",
       "      <td>2014-04-24T11:29:00.000Z</td>\n",
       "      <td>2014-04-24T12:46:00.000Z</td>\n",
       "      <td>Commercial</td>\n",
       "      <td>1610</td>\n",
       "      <td>200</td>\n",
       "      <td>Robbery - Mugging</td>\n",
       "      <td>...</td>\n",
       "      <td>114.0</td>\n",
       "      <td>Thursday</td>\n",
       "      <td>11</td>\n",
       "      <td>Robbery</td>\n",
       "      <td>D55</td>\n",
       "      <td>68</td>\n",
       "      <td>North Riverdale (68)</td>\n",
       "      <td>43.668449</td>\n",
       "      <td>-79.343094</td>\n",
       "      <td>1</td>\n",
       "    </tr>\n",
       "    <tr>\n",
       "      <th>1</th>\n",
       "      <td>-79.507927</td>\n",
       "      <td>43.759285</td>\n",
       "      <td>215</td>\n",
       "      <td>GO-20141950728</td>\n",
       "      <td>2014-04-24T13:00:00.000Z</td>\n",
       "      <td>2014-04-24T15:58:00.000Z</td>\n",
       "      <td>House</td>\n",
       "      <td>2120</td>\n",
       "      <td>200</td>\n",
       "      <td>B&amp;E</td>\n",
       "      <td>...</td>\n",
       "      <td>114.0</td>\n",
       "      <td>Thursday</td>\n",
       "      <td>13</td>\n",
       "      <td>Break and Enter</td>\n",
       "      <td>D31</td>\n",
       "      <td>24</td>\n",
       "      <td>Black Creek (24)</td>\n",
       "      <td>43.759285</td>\n",
       "      <td>-79.507927</td>\n",
       "      <td>2</td>\n",
       "    </tr>\n",
       "    <tr>\n",
       "      <th>2</th>\n",
       "      <td>-79.501663</td>\n",
       "      <td>43.697552</td>\n",
       "      <td>216</td>\n",
       "      <td>GO-20141956416</td>\n",
       "      <td>2014-04-25T13:20:00.000Z</td>\n",
       "      <td>2014-04-25T13:52:00.000Z</td>\n",
       "      <td>Apartment</td>\n",
       "      <td>1430</td>\n",
       "      <td>100</td>\n",
       "      <td>Assault</td>\n",
       "      <td>...</td>\n",
       "      <td>115.0</td>\n",
       "      <td>Friday</td>\n",
       "      <td>13</td>\n",
       "      <td>Assault</td>\n",
       "      <td>D12</td>\n",
       "      <td>30</td>\n",
       "      <td>Brookhaven-Amesbury (30)</td>\n",
       "      <td>43.697552</td>\n",
       "      <td>-79.501663</td>\n",
       "      <td>3</td>\n",
       "    </tr>\n",
       "    <tr>\n",
       "      <th>3</th>\n",
       "      <td>-79.571510</td>\n",
       "      <td>43.721703</td>\n",
       "      <td>217</td>\n",
       "      <td>GO-20141956867</td>\n",
       "      <td>2014-04-24T17:00:00.000Z</td>\n",
       "      <td>2014-04-25T10:30:00.000Z</td>\n",
       "      <td>Outside</td>\n",
       "      <td>1430</td>\n",
       "      <td>100</td>\n",
       "      <td>Assault</td>\n",
       "      <td>...</td>\n",
       "      <td>114.0</td>\n",
       "      <td>Thursday</td>\n",
       "      <td>17</td>\n",
       "      <td>Assault</td>\n",
       "      <td>D23</td>\n",
       "      <td>4</td>\n",
       "      <td>Rexdale-Kipling (4)</td>\n",
       "      <td>43.721703</td>\n",
       "      <td>-79.571510</td>\n",
       "      <td>4</td>\n",
       "    </tr>\n",
       "    <tr>\n",
       "      <th>4</th>\n",
       "      <td>-79.503487</td>\n",
       "      <td>43.663891</td>\n",
       "      <td>218</td>\n",
       "      <td>GO-20141957505</td>\n",
       "      <td>2014-04-25T16:00:00.000Z</td>\n",
       "      <td>2014-04-25T16:15:00.000Z</td>\n",
       "      <td>Apartment</td>\n",
       "      <td>1430</td>\n",
       "      <td>100</td>\n",
       "      <td>Assault</td>\n",
       "      <td>...</td>\n",
       "      <td>115.0</td>\n",
       "      <td>Friday</td>\n",
       "      <td>16</td>\n",
       "      <td>Assault</td>\n",
       "      <td>D11</td>\n",
       "      <td>114</td>\n",
       "      <td>Lambton Baby Point (114)</td>\n",
       "      <td>43.663891</td>\n",
       "      <td>-79.503487</td>\n",
       "      <td>5</td>\n",
       "    </tr>\n",
       "  </tbody>\n",
       "</table>\n",
       "<p>5 rows × 29 columns</p>\n",
       "</div>"
      ],
      "text/plain": [
       "           X          Y  Index_ event_unique_id            occurrencedate  \\\n",
       "0 -79.343094  43.668449     214  GO-20141948968  2014-04-24T11:29:00.000Z   \n",
       "1 -79.507927  43.759285     215  GO-20141950728  2014-04-24T13:00:00.000Z   \n",
       "2 -79.501663  43.697552     216  GO-20141956416  2014-04-25T13:20:00.000Z   \n",
       "3 -79.571510  43.721703     217  GO-20141956867  2014-04-24T17:00:00.000Z   \n",
       "4 -79.503487  43.663891     218  GO-20141957505  2014-04-25T16:00:00.000Z   \n",
       "\n",
       "               reporteddate premisetype  ucr_code  ucr_ext            offence  \\\n",
       "0  2014-04-24T12:46:00.000Z  Commercial      1610      200  Robbery - Mugging   \n",
       "1  2014-04-24T15:58:00.000Z       House      2120      200                B&E   \n",
       "2  2014-04-25T13:52:00.000Z   Apartment      1430      100            Assault   \n",
       "3  2014-04-25T10:30:00.000Z     Outside      1430      100            Assault   \n",
       "4  2014-04-25T16:15:00.000Z   Apartment      1430      100            Assault   \n",
       "\n",
       "   ...  occurrencedayofyear occurrencedayofweek  occurrencehour  \\\n",
       "0  ...                114.0          Thursday                11   \n",
       "1  ...                114.0          Thursday                13   \n",
       "2  ...                115.0          Friday                  13   \n",
       "3  ...                114.0          Thursday                17   \n",
       "4  ...                115.0          Friday                  16   \n",
       "\n",
       "               MCI Division  Hood_ID             Neighbourhood        Lat  \\\n",
       "0          Robbery      D55       68      North Riverdale (68)  43.668449   \n",
       "1  Break and Enter      D31       24          Black Creek (24)  43.759285   \n",
       "2          Assault      D12       30  Brookhaven-Amesbury (30)  43.697552   \n",
       "3          Assault      D23        4       Rexdale-Kipling (4)  43.721703   \n",
       "4          Assault      D11      114  Lambton Baby Point (114)  43.663891   \n",
       "\n",
       "        Long  ObjectId  \n",
       "0 -79.343094         1  \n",
       "1 -79.507927         2  \n",
       "2 -79.501663         3  \n",
       "3 -79.571510         4  \n",
       "4 -79.503487         5  \n",
       "\n",
       "[5 rows x 29 columns]"
      ]
     },
     "execution_count": 2,
     "metadata": {},
     "output_type": "execute_result"
    }
   ],
   "source": [
    "crime=pd.read_csv(\"D:\\\\Documents\\\\personal\\\\Coursera\\\\IBM Applied Data Science\\\\4 Capstone\\\\Toronto Crime Rate\\\\MCI_2014_to_2018.csv\")\n",
    "crime.head()"
   ]
  },
  {
   "cell_type": "code",
   "execution_count": 3,
   "metadata": {},
   "outputs": [
    {
     "data": {
      "text/html": [
       "<div>\n",
       "<style scoped>\n",
       "    .dataframe tbody tr th:only-of-type {\n",
       "        vertical-align: middle;\n",
       "    }\n",
       "\n",
       "    .dataframe tbody tr th {\n",
       "        vertical-align: top;\n",
       "    }\n",
       "\n",
       "    .dataframe thead th {\n",
       "        text-align: right;\n",
       "    }\n",
       "</style>\n",
       "<table border=\"1\" class=\"dataframe\">\n",
       "  <thead>\n",
       "    <tr style=\"text-align: right;\">\n",
       "      <th></th>\n",
       "      <th>X</th>\n",
       "      <th>Y</th>\n",
       "      <th>Index_</th>\n",
       "      <th>event_unique_id</th>\n",
       "      <th>occurrencedate</th>\n",
       "      <th>reporteddate</th>\n",
       "      <th>premisetype</th>\n",
       "      <th>ucr_code</th>\n",
       "      <th>ucr_ext</th>\n",
       "      <th>offence</th>\n",
       "      <th>...</th>\n",
       "      <th>occurrencedayofyear</th>\n",
       "      <th>occurrencedayofweek</th>\n",
       "      <th>occurrencehour</th>\n",
       "      <th>MCI</th>\n",
       "      <th>Division</th>\n",
       "      <th>Hood_ID</th>\n",
       "      <th>Neighbourhood</th>\n",
       "      <th>Lat</th>\n",
       "      <th>Long</th>\n",
       "      <th>ObjectId</th>\n",
       "    </tr>\n",
       "  </thead>\n",
       "  <tbody>\n",
       "    <tr>\n",
       "      <th>count</th>\n",
       "      <td>167525.000000</td>\n",
       "      <td>167525.000000</td>\n",
       "      <td>167525.000000</td>\n",
       "      <td>167525</td>\n",
       "      <td>167525</td>\n",
       "      <td>167525</td>\n",
       "      <td>167525</td>\n",
       "      <td>167525.000000</td>\n",
       "      <td>167525.000000</td>\n",
       "      <td>167525</td>\n",
       "      <td>...</td>\n",
       "      <td>167476.000000</td>\n",
       "      <td>167476</td>\n",
       "      <td>167525.000000</td>\n",
       "      <td>167525</td>\n",
       "      <td>167525</td>\n",
       "      <td>167525.000000</td>\n",
       "      <td>167525</td>\n",
       "      <td>167525.000000</td>\n",
       "      <td>167525.000000</td>\n",
       "      <td>167525.00000</td>\n",
       "    </tr>\n",
       "    <tr>\n",
       "      <th>unique</th>\n",
       "      <td>NaN</td>\n",
       "      <td>NaN</td>\n",
       "      <td>NaN</td>\n",
       "      <td>145817</td>\n",
       "      <td>117472</td>\n",
       "      <td>141057</td>\n",
       "      <td>5</td>\n",
       "      <td>NaN</td>\n",
       "      <td>NaN</td>\n",
       "      <td>49</td>\n",
       "      <td>...</td>\n",
       "      <td>NaN</td>\n",
       "      <td>7</td>\n",
       "      <td>NaN</td>\n",
       "      <td>5</td>\n",
       "      <td>17</td>\n",
       "      <td>NaN</td>\n",
       "      <td>141</td>\n",
       "      <td>NaN</td>\n",
       "      <td>NaN</td>\n",
       "      <td>NaN</td>\n",
       "    </tr>\n",
       "    <tr>\n",
       "      <th>top</th>\n",
       "      <td>NaN</td>\n",
       "      <td>NaN</td>\n",
       "      <td>NaN</td>\n",
       "      <td>GO-20151785704</td>\n",
       "      <td>2014-01-01T00:01:00.000Z</td>\n",
       "      <td>2015-10-16T20:56:00.000Z</td>\n",
       "      <td>Outside</td>\n",
       "      <td>NaN</td>\n",
       "      <td>NaN</td>\n",
       "      <td>Assault</td>\n",
       "      <td>...</td>\n",
       "      <td>NaN</td>\n",
       "      <td>Friday</td>\n",
       "      <td>NaN</td>\n",
       "      <td>Assault</td>\n",
       "      <td>D51</td>\n",
       "      <td>NaN</td>\n",
       "      <td>Church-Yonge Corridor (75)</td>\n",
       "      <td>NaN</td>\n",
       "      <td>NaN</td>\n",
       "      <td>NaN</td>\n",
       "    </tr>\n",
       "    <tr>\n",
       "      <th>freq</th>\n",
       "      <td>NaN</td>\n",
       "      <td>NaN</td>\n",
       "      <td>NaN</td>\n",
       "      <td>24</td>\n",
       "      <td>37</td>\n",
       "      <td>24</td>\n",
       "      <td>44495</td>\n",
       "      <td>NaN</td>\n",
       "      <td>NaN</td>\n",
       "      <td>62194</td>\n",
       "      <td>...</td>\n",
       "      <td>NaN</td>\n",
       "      <td>25442</td>\n",
       "      <td>NaN</td>\n",
       "      <td>90878</td>\n",
       "      <td>13169</td>\n",
       "      <td>NaN</td>\n",
       "      <td>6301</td>\n",
       "      <td>NaN</td>\n",
       "      <td>NaN</td>\n",
       "      <td>NaN</td>\n",
       "    </tr>\n",
       "    <tr>\n",
       "      <th>mean</th>\n",
       "      <td>-79.394695</td>\n",
       "      <td>43.707617</td>\n",
       "      <td>90774.939830</td>\n",
       "      <td>NaN</td>\n",
       "      <td>NaN</td>\n",
       "      <td>NaN</td>\n",
       "      <td>NaN</td>\n",
       "      <td>1692.719869</td>\n",
       "      <td>145.596019</td>\n",
       "      <td>NaN</td>\n",
       "      <td>...</td>\n",
       "      <td>186.515136</td>\n",
       "      <td>NaN</td>\n",
       "      <td>12.591947</td>\n",
       "      <td>NaN</td>\n",
       "      <td>NaN</td>\n",
       "      <td>72.762692</td>\n",
       "      <td>NaN</td>\n",
       "      <td>43.707617</td>\n",
       "      <td>-79.394695</td>\n",
       "      <td>83763.00000</td>\n",
       "    </tr>\n",
       "    <tr>\n",
       "      <th>std</th>\n",
       "      <td>0.104861</td>\n",
       "      <td>0.052683</td>\n",
       "      <td>52262.483408</td>\n",
       "      <td>NaN</td>\n",
       "      <td>NaN</td>\n",
       "      <td>NaN</td>\n",
       "      <td>NaN</td>\n",
       "      <td>321.895107</td>\n",
       "      <td>51.646894</td>\n",
       "      <td>NaN</td>\n",
       "      <td>...</td>\n",
       "      <td>104.026822</td>\n",
       "      <td>NaN</td>\n",
       "      <td>7.210097</td>\n",
       "      <td>NaN</td>\n",
       "      <td>NaN</td>\n",
       "      <td>41.059873</td>\n",
       "      <td>NaN</td>\n",
       "      <td>0.052683</td>\n",
       "      <td>0.104861</td>\n",
       "      <td>48360.44626</td>\n",
       "    </tr>\n",
       "    <tr>\n",
       "      <th>min</th>\n",
       "      <td>-79.639267</td>\n",
       "      <td>43.587093</td>\n",
       "      <td>0.000000</td>\n",
       "      <td>NaN</td>\n",
       "      <td>NaN</td>\n",
       "      <td>NaN</td>\n",
       "      <td>NaN</td>\n",
       "      <td>1410.000000</td>\n",
       "      <td>100.000000</td>\n",
       "      <td>NaN</td>\n",
       "      <td>...</td>\n",
       "      <td>1.000000</td>\n",
       "      <td>NaN</td>\n",
       "      <td>0.000000</td>\n",
       "      <td>NaN</td>\n",
       "      <td>NaN</td>\n",
       "      <td>1.000000</td>\n",
       "      <td>NaN</td>\n",
       "      <td>43.587093</td>\n",
       "      <td>-79.639267</td>\n",
       "      <td>1.00000</td>\n",
       "    </tr>\n",
       "    <tr>\n",
       "      <th>25%</th>\n",
       "      <td>-79.471931</td>\n",
       "      <td>43.661373</td>\n",
       "      <td>45845.000000</td>\n",
       "      <td>NaN</td>\n",
       "      <td>NaN</td>\n",
       "      <td>NaN</td>\n",
       "      <td>NaN</td>\n",
       "      <td>1430.000000</td>\n",
       "      <td>100.000000</td>\n",
       "      <td>NaN</td>\n",
       "      <td>...</td>\n",
       "      <td>99.000000</td>\n",
       "      <td>NaN</td>\n",
       "      <td>7.000000</td>\n",
       "      <td>NaN</td>\n",
       "      <td>NaN</td>\n",
       "      <td>36.000000</td>\n",
       "      <td>NaN</td>\n",
       "      <td>43.661373</td>\n",
       "      <td>-79.471931</td>\n",
       "      <td>41882.00000</td>\n",
       "    </tr>\n",
       "    <tr>\n",
       "      <th>50%</th>\n",
       "      <td>-79.393295</td>\n",
       "      <td>43.701721</td>\n",
       "      <td>90429.000000</td>\n",
       "      <td>NaN</td>\n",
       "      <td>NaN</td>\n",
       "      <td>NaN</td>\n",
       "      <td>NaN</td>\n",
       "      <td>1450.000000</td>\n",
       "      <td>100.000000</td>\n",
       "      <td>NaN</td>\n",
       "      <td>...</td>\n",
       "      <td>188.000000</td>\n",
       "      <td>NaN</td>\n",
       "      <td>14.000000</td>\n",
       "      <td>NaN</td>\n",
       "      <td>NaN</td>\n",
       "      <td>75.000000</td>\n",
       "      <td>NaN</td>\n",
       "      <td>43.701721</td>\n",
       "      <td>-79.393295</td>\n",
       "      <td>83763.00000</td>\n",
       "    </tr>\n",
       "    <tr>\n",
       "      <th>75%</th>\n",
       "      <td>-79.317978</td>\n",
       "      <td>43.752197</td>\n",
       "      <td>136028.000000</td>\n",
       "      <td>NaN</td>\n",
       "      <td>NaN</td>\n",
       "      <td>NaN</td>\n",
       "      <td>NaN</td>\n",
       "      <td>2120.000000</td>\n",
       "      <td>200.000000</td>\n",
       "      <td>NaN</td>\n",
       "      <td>...</td>\n",
       "      <td>276.000000</td>\n",
       "      <td>NaN</td>\n",
       "      <td>19.000000</td>\n",
       "      <td>NaN</td>\n",
       "      <td>NaN</td>\n",
       "      <td>110.000000</td>\n",
       "      <td>NaN</td>\n",
       "      <td>43.752197</td>\n",
       "      <td>-79.317978</td>\n",
       "      <td>125644.00000</td>\n",
       "    </tr>\n",
       "    <tr>\n",
       "      <th>max</th>\n",
       "      <td>-79.123100</td>\n",
       "      <td>43.847954</td>\n",
       "      <td>180554.000000</td>\n",
       "      <td>NaN</td>\n",
       "      <td>NaN</td>\n",
       "      <td>NaN</td>\n",
       "      <td>NaN</td>\n",
       "      <td>2135.000000</td>\n",
       "      <td>230.000000</td>\n",
       "      <td>NaN</td>\n",
       "      <td>...</td>\n",
       "      <td>366.000000</td>\n",
       "      <td>NaN</td>\n",
       "      <td>23.000000</td>\n",
       "      <td>NaN</td>\n",
       "      <td>NaN</td>\n",
       "      <td>140.000000</td>\n",
       "      <td>NaN</td>\n",
       "      <td>43.847954</td>\n",
       "      <td>-79.123100</td>\n",
       "      <td>167525.00000</td>\n",
       "    </tr>\n",
       "  </tbody>\n",
       "</table>\n",
       "<p>11 rows × 29 columns</p>\n",
       "</div>"
      ],
      "text/plain": [
       "                    X              Y         Index_ event_unique_id  \\\n",
       "count   167525.000000  167525.000000  167525.000000          167525   \n",
       "unique            NaN            NaN            NaN          145817   \n",
       "top               NaN            NaN            NaN  GO-20151785704   \n",
       "freq              NaN            NaN            NaN              24   \n",
       "mean       -79.394695      43.707617   90774.939830             NaN   \n",
       "std          0.104861       0.052683   52262.483408             NaN   \n",
       "min        -79.639267      43.587093       0.000000             NaN   \n",
       "25%        -79.471931      43.661373   45845.000000             NaN   \n",
       "50%        -79.393295      43.701721   90429.000000             NaN   \n",
       "75%        -79.317978      43.752197  136028.000000             NaN   \n",
       "max        -79.123100      43.847954  180554.000000             NaN   \n",
       "\n",
       "                  occurrencedate              reporteddate premisetype  \\\n",
       "count                     167525                    167525      167525   \n",
       "unique                    117472                    141057           5   \n",
       "top     2014-01-01T00:01:00.000Z  2015-10-16T20:56:00.000Z     Outside   \n",
       "freq                          37                        24       44495   \n",
       "mean                         NaN                       NaN         NaN   \n",
       "std                          NaN                       NaN         NaN   \n",
       "min                          NaN                       NaN         NaN   \n",
       "25%                          NaN                       NaN         NaN   \n",
       "50%                          NaN                       NaN         NaN   \n",
       "75%                          NaN                       NaN         NaN   \n",
       "max                          NaN                       NaN         NaN   \n",
       "\n",
       "             ucr_code        ucr_ext  offence  ...  occurrencedayofyear  \\\n",
       "count   167525.000000  167525.000000   167525  ...        167476.000000   \n",
       "unique            NaN            NaN       49  ...                  NaN   \n",
       "top               NaN            NaN  Assault  ...                  NaN   \n",
       "freq              NaN            NaN    62194  ...                  NaN   \n",
       "mean      1692.719869     145.596019      NaN  ...           186.515136   \n",
       "std        321.895107      51.646894      NaN  ...           104.026822   \n",
       "min       1410.000000     100.000000      NaN  ...             1.000000   \n",
       "25%       1430.000000     100.000000      NaN  ...            99.000000   \n",
       "50%       1450.000000     100.000000      NaN  ...           188.000000   \n",
       "75%       2120.000000     200.000000      NaN  ...           276.000000   \n",
       "max       2135.000000     230.000000      NaN  ...           366.000000   \n",
       "\n",
       "       occurrencedayofweek  occurrencehour      MCI Division        Hood_ID  \\\n",
       "count               167476   167525.000000   167525   167525  167525.000000   \n",
       "unique                   7             NaN        5       17            NaN   \n",
       "top             Friday                 NaN  Assault      D51            NaN   \n",
       "freq                 25442             NaN    90878    13169            NaN   \n",
       "mean                   NaN       12.591947      NaN      NaN      72.762692   \n",
       "std                    NaN        7.210097      NaN      NaN      41.059873   \n",
       "min                    NaN        0.000000      NaN      NaN       1.000000   \n",
       "25%                    NaN        7.000000      NaN      NaN      36.000000   \n",
       "50%                    NaN       14.000000      NaN      NaN      75.000000   \n",
       "75%                    NaN       19.000000      NaN      NaN     110.000000   \n",
       "max                    NaN       23.000000      NaN      NaN     140.000000   \n",
       "\n",
       "                     Neighbourhood            Lat           Long      ObjectId  \n",
       "count                       167525  167525.000000  167525.000000  167525.00000  \n",
       "unique                         141            NaN            NaN           NaN  \n",
       "top     Church-Yonge Corridor (75)            NaN            NaN           NaN  \n",
       "freq                          6301            NaN            NaN           NaN  \n",
       "mean                           NaN      43.707617     -79.394695   83763.00000  \n",
       "std                            NaN       0.052683       0.104861   48360.44626  \n",
       "min                            NaN      43.587093     -79.639267       1.00000  \n",
       "25%                            NaN      43.661373     -79.471931   41882.00000  \n",
       "50%                            NaN      43.701721     -79.393295   83763.00000  \n",
       "75%                            NaN      43.752197     -79.317978  125644.00000  \n",
       "max                            NaN      43.847954     -79.123100  167525.00000  \n",
       "\n",
       "[11 rows x 29 columns]"
      ]
     },
     "execution_count": 3,
     "metadata": {},
     "output_type": "execute_result"
    }
   ],
   "source": [
    "crime.describe(include=\"all\")"
   ]
  },
  {
   "cell_type": "code",
   "execution_count": 4,
   "metadata": {},
   "outputs": [],
   "source": [
    "crime_groupby=crime.groupby([\"occurrencedayofweek\",\"Neighbourhood\"])"
   ]
  },
  {
   "cell_type": "code",
   "execution_count": 5,
   "metadata": {},
   "outputs": [
    {
     "data": {
      "text/html": [
       "<div>\n",
       "<style scoped>\n",
       "    .dataframe tbody tr th:only-of-type {\n",
       "        vertical-align: middle;\n",
       "    }\n",
       "\n",
       "    .dataframe tbody tr th {\n",
       "        vertical-align: top;\n",
       "    }\n",
       "\n",
       "    .dataframe thead th {\n",
       "        text-align: right;\n",
       "    }\n",
       "</style>\n",
       "<table border=\"1\" class=\"dataframe\">\n",
       "  <thead>\n",
       "    <tr style=\"text-align: right;\">\n",
       "      <th></th>\n",
       "      <th></th>\n",
       "      <th>count</th>\n",
       "      <th>mean</th>\n",
       "      <th>std</th>\n",
       "      <th>min</th>\n",
       "      <th>25%</th>\n",
       "      <th>50%</th>\n",
       "      <th>75%</th>\n",
       "      <th>max</th>\n",
       "    </tr>\n",
       "    <tr>\n",
       "      <th>occurrencedayofweek</th>\n",
       "      <th>Neighbourhood</th>\n",
       "      <th></th>\n",
       "      <th></th>\n",
       "      <th></th>\n",
       "      <th></th>\n",
       "      <th></th>\n",
       "      <th></th>\n",
       "      <th></th>\n",
       "      <th></th>\n",
       "    </tr>\n",
       "  </thead>\n",
       "  <tbody>\n",
       "    <tr>\n",
       "      <th rowspan=\"30\" valign=\"top\">Friday</th>\n",
       "      <th>Agincourt North (129)</th>\n",
       "      <td>183.0</td>\n",
       "      <td>129.0</td>\n",
       "      <td>0.0</td>\n",
       "      <td>129.0</td>\n",
       "      <td>129.0</td>\n",
       "      <td>129.0</td>\n",
       "      <td>129.0</td>\n",
       "      <td>129.0</td>\n",
       "    </tr>\n",
       "    <tr>\n",
       "      <th>Agincourt South-Malvern West (128)</th>\n",
       "      <td>222.0</td>\n",
       "      <td>128.0</td>\n",
       "      <td>0.0</td>\n",
       "      <td>128.0</td>\n",
       "      <td>128.0</td>\n",
       "      <td>128.0</td>\n",
       "      <td>128.0</td>\n",
       "      <td>128.0</td>\n",
       "    </tr>\n",
       "    <tr>\n",
       "      <th>Alderwood (20)</th>\n",
       "      <td>76.0</td>\n",
       "      <td>20.0</td>\n",
       "      <td>0.0</td>\n",
       "      <td>20.0</td>\n",
       "      <td>20.0</td>\n",
       "      <td>20.0</td>\n",
       "      <td>20.0</td>\n",
       "      <td>20.0</td>\n",
       "    </tr>\n",
       "    <tr>\n",
       "      <th>Annex (95)</th>\n",
       "      <td>472.0</td>\n",
       "      <td>95.0</td>\n",
       "      <td>0.0</td>\n",
       "      <td>95.0</td>\n",
       "      <td>95.0</td>\n",
       "      <td>95.0</td>\n",
       "      <td>95.0</td>\n",
       "      <td>95.0</td>\n",
       "    </tr>\n",
       "    <tr>\n",
       "      <th>Banbury-Don Mills (42)</th>\n",
       "      <td>159.0</td>\n",
       "      <td>42.0</td>\n",
       "      <td>0.0</td>\n",
       "      <td>42.0</td>\n",
       "      <td>42.0</td>\n",
       "      <td>42.0</td>\n",
       "      <td>42.0</td>\n",
       "      <td>42.0</td>\n",
       "    </tr>\n",
       "    <tr>\n",
       "      <th>Bathurst Manor (34)</th>\n",
       "      <td>141.0</td>\n",
       "      <td>34.0</td>\n",
       "      <td>0.0</td>\n",
       "      <td>34.0</td>\n",
       "      <td>34.0</td>\n",
       "      <td>34.0</td>\n",
       "      <td>34.0</td>\n",
       "      <td>34.0</td>\n",
       "    </tr>\n",
       "    <tr>\n",
       "      <th>Bay Street Corridor (76)</th>\n",
       "      <td>569.0</td>\n",
       "      <td>76.0</td>\n",
       "      <td>0.0</td>\n",
       "      <td>76.0</td>\n",
       "      <td>76.0</td>\n",
       "      <td>76.0</td>\n",
       "      <td>76.0</td>\n",
       "      <td>76.0</td>\n",
       "    </tr>\n",
       "    <tr>\n",
       "      <th>Bayview Village (52)</th>\n",
       "      <td>131.0</td>\n",
       "      <td>52.0</td>\n",
       "      <td>0.0</td>\n",
       "      <td>52.0</td>\n",
       "      <td>52.0</td>\n",
       "      <td>52.0</td>\n",
       "      <td>52.0</td>\n",
       "      <td>52.0</td>\n",
       "    </tr>\n",
       "    <tr>\n",
       "      <th>Bayview Woods-Steeles (49)</th>\n",
       "      <td>58.0</td>\n",
       "      <td>49.0</td>\n",
       "      <td>0.0</td>\n",
       "      <td>49.0</td>\n",
       "      <td>49.0</td>\n",
       "      <td>49.0</td>\n",
       "      <td>49.0</td>\n",
       "      <td>49.0</td>\n",
       "    </tr>\n",
       "    <tr>\n",
       "      <th>Bedford Park-Nortown (39)</th>\n",
       "      <td>194.0</td>\n",
       "      <td>39.0</td>\n",
       "      <td>0.0</td>\n",
       "      <td>39.0</td>\n",
       "      <td>39.0</td>\n",
       "      <td>39.0</td>\n",
       "      <td>39.0</td>\n",
       "      <td>39.0</td>\n",
       "    </tr>\n",
       "    <tr>\n",
       "      <th>Beechborough-Greenbrook (112)</th>\n",
       "      <td>108.0</td>\n",
       "      <td>112.0</td>\n",
       "      <td>0.0</td>\n",
       "      <td>112.0</td>\n",
       "      <td>112.0</td>\n",
       "      <td>112.0</td>\n",
       "      <td>112.0</td>\n",
       "      <td>112.0</td>\n",
       "    </tr>\n",
       "    <tr>\n",
       "      <th>Bendale (127)</th>\n",
       "      <td>376.0</td>\n",
       "      <td>127.0</td>\n",
       "      <td>0.0</td>\n",
       "      <td>127.0</td>\n",
       "      <td>127.0</td>\n",
       "      <td>127.0</td>\n",
       "      <td>127.0</td>\n",
       "      <td>127.0</td>\n",
       "    </tr>\n",
       "    <tr>\n",
       "      <th>Birchcliffe-Cliffside (122)</th>\n",
       "      <td>194.0</td>\n",
       "      <td>122.0</td>\n",
       "      <td>0.0</td>\n",
       "      <td>122.0</td>\n",
       "      <td>122.0</td>\n",
       "      <td>122.0</td>\n",
       "      <td>122.0</td>\n",
       "      <td>122.0</td>\n",
       "    </tr>\n",
       "    <tr>\n",
       "      <th>Black Creek (24)</th>\n",
       "      <td>283.0</td>\n",
       "      <td>24.0</td>\n",
       "      <td>0.0</td>\n",
       "      <td>24.0</td>\n",
       "      <td>24.0</td>\n",
       "      <td>24.0</td>\n",
       "      <td>24.0</td>\n",
       "      <td>24.0</td>\n",
       "    </tr>\n",
       "    <tr>\n",
       "      <th>Blake-Jones (69)</th>\n",
       "      <td>54.0</td>\n",
       "      <td>69.0</td>\n",
       "      <td>0.0</td>\n",
       "      <td>69.0</td>\n",
       "      <td>69.0</td>\n",
       "      <td>69.0</td>\n",
       "      <td>69.0</td>\n",
       "      <td>69.0</td>\n",
       "    </tr>\n",
       "    <tr>\n",
       "      <th>Briar Hill-Belgravia (108)</th>\n",
       "      <td>178.0</td>\n",
       "      <td>108.0</td>\n",
       "      <td>0.0</td>\n",
       "      <td>108.0</td>\n",
       "      <td>108.0</td>\n",
       "      <td>108.0</td>\n",
       "      <td>108.0</td>\n",
       "      <td>108.0</td>\n",
       "    </tr>\n",
       "    <tr>\n",
       "      <th>Bridle Path-Sunnybrook-York Mills (41)</th>\n",
       "      <td>64.0</td>\n",
       "      <td>41.0</td>\n",
       "      <td>0.0</td>\n",
       "      <td>41.0</td>\n",
       "      <td>41.0</td>\n",
       "      <td>41.0</td>\n",
       "      <td>41.0</td>\n",
       "      <td>41.0</td>\n",
       "    </tr>\n",
       "    <tr>\n",
       "      <th>Broadview North (57)</th>\n",
       "      <td>38.0</td>\n",
       "      <td>57.0</td>\n",
       "      <td>0.0</td>\n",
       "      <td>57.0</td>\n",
       "      <td>57.0</td>\n",
       "      <td>57.0</td>\n",
       "      <td>57.0</td>\n",
       "      <td>57.0</td>\n",
       "    </tr>\n",
       "    <tr>\n",
       "      <th>Brookhaven-Amesbury (30)</th>\n",
       "      <td>118.0</td>\n",
       "      <td>30.0</td>\n",
       "      <td>0.0</td>\n",
       "      <td>30.0</td>\n",
       "      <td>30.0</td>\n",
       "      <td>30.0</td>\n",
       "      <td>30.0</td>\n",
       "      <td>30.0</td>\n",
       "    </tr>\n",
       "    <tr>\n",
       "      <th>Cabbagetown-South St.James Town (71)</th>\n",
       "      <td>157.0</td>\n",
       "      <td>71.0</td>\n",
       "      <td>0.0</td>\n",
       "      <td>71.0</td>\n",
       "      <td>71.0</td>\n",
       "      <td>71.0</td>\n",
       "      <td>71.0</td>\n",
       "      <td>71.0</td>\n",
       "    </tr>\n",
       "    <tr>\n",
       "      <th>Caledonia-Fairbank (109)</th>\n",
       "      <td>42.0</td>\n",
       "      <td>109.0</td>\n",
       "      <td>0.0</td>\n",
       "      <td>109.0</td>\n",
       "      <td>109.0</td>\n",
       "      <td>109.0</td>\n",
       "      <td>109.0</td>\n",
       "      <td>109.0</td>\n",
       "    </tr>\n",
       "    <tr>\n",
       "      <th>Casa Loma (96)</th>\n",
       "      <td>82.0</td>\n",
       "      <td>96.0</td>\n",
       "      <td>0.0</td>\n",
       "      <td>96.0</td>\n",
       "      <td>96.0</td>\n",
       "      <td>96.0</td>\n",
       "      <td>96.0</td>\n",
       "      <td>96.0</td>\n",
       "    </tr>\n",
       "    <tr>\n",
       "      <th>Centennial Scarborough (133)</th>\n",
       "      <td>37.0</td>\n",
       "      <td>133.0</td>\n",
       "      <td>0.0</td>\n",
       "      <td>133.0</td>\n",
       "      <td>133.0</td>\n",
       "      <td>133.0</td>\n",
       "      <td>133.0</td>\n",
       "      <td>133.0</td>\n",
       "    </tr>\n",
       "    <tr>\n",
       "      <th>Church-Yonge Corridor (75)</th>\n",
       "      <td>928.0</td>\n",
       "      <td>75.0</td>\n",
       "      <td>0.0</td>\n",
       "      <td>75.0</td>\n",
       "      <td>75.0</td>\n",
       "      <td>75.0</td>\n",
       "      <td>75.0</td>\n",
       "      <td>75.0</td>\n",
       "    </tr>\n",
       "    <tr>\n",
       "      <th>Clairlea-Birchmount (120)</th>\n",
       "      <td>332.0</td>\n",
       "      <td>120.0</td>\n",
       "      <td>0.0</td>\n",
       "      <td>120.0</td>\n",
       "      <td>120.0</td>\n",
       "      <td>120.0</td>\n",
       "      <td>120.0</td>\n",
       "      <td>120.0</td>\n",
       "    </tr>\n",
       "    <tr>\n",
       "      <th>Clanton Park (33)</th>\n",
       "      <td>107.0</td>\n",
       "      <td>33.0</td>\n",
       "      <td>0.0</td>\n",
       "      <td>33.0</td>\n",
       "      <td>33.0</td>\n",
       "      <td>33.0</td>\n",
       "      <td>33.0</td>\n",
       "      <td>33.0</td>\n",
       "    </tr>\n",
       "    <tr>\n",
       "      <th>Cliffcrest (123)</th>\n",
       "      <td>153.0</td>\n",
       "      <td>123.0</td>\n",
       "      <td>0.0</td>\n",
       "      <td>123.0</td>\n",
       "      <td>123.0</td>\n",
       "      <td>123.0</td>\n",
       "      <td>123.0</td>\n",
       "      <td>123.0</td>\n",
       "    </tr>\n",
       "    <tr>\n",
       "      <th>Corso Italia-Davenport (92)</th>\n",
       "      <td>123.0</td>\n",
       "      <td>92.0</td>\n",
       "      <td>0.0</td>\n",
       "      <td>92.0</td>\n",
       "      <td>92.0</td>\n",
       "      <td>92.0</td>\n",
       "      <td>92.0</td>\n",
       "      <td>92.0</td>\n",
       "    </tr>\n",
       "    <tr>\n",
       "      <th>Danforth (66)</th>\n",
       "      <td>175.0</td>\n",
       "      <td>66.0</td>\n",
       "      <td>0.0</td>\n",
       "      <td>66.0</td>\n",
       "      <td>66.0</td>\n",
       "      <td>66.0</td>\n",
       "      <td>66.0</td>\n",
       "      <td>66.0</td>\n",
       "    </tr>\n",
       "    <tr>\n",
       "      <th>Danforth East York (59)</th>\n",
       "      <td>76.0</td>\n",
       "      <td>59.0</td>\n",
       "      <td>0.0</td>\n",
       "      <td>59.0</td>\n",
       "      <td>59.0</td>\n",
       "      <td>59.0</td>\n",
       "      <td>59.0</td>\n",
       "      <td>59.0</td>\n",
       "    </tr>\n",
       "    <tr>\n",
       "      <th>...</th>\n",
       "      <th>...</th>\n",
       "      <td>...</td>\n",
       "      <td>...</td>\n",
       "      <td>...</td>\n",
       "      <td>...</td>\n",
       "      <td>...</td>\n",
       "      <td>...</td>\n",
       "      <td>...</td>\n",
       "      <td>...</td>\n",
       "    </tr>\n",
       "    <tr>\n",
       "      <th rowspan=\"30\" valign=\"top\">Wednesday</th>\n",
       "      <th>South Riverdale (70)</th>\n",
       "      <td>241.0</td>\n",
       "      <td>70.0</td>\n",
       "      <td>0.0</td>\n",
       "      <td>70.0</td>\n",
       "      <td>70.0</td>\n",
       "      <td>70.0</td>\n",
       "      <td>70.0</td>\n",
       "      <td>70.0</td>\n",
       "    </tr>\n",
       "    <tr>\n",
       "      <th>St.Andrew-Windfields (40)</th>\n",
       "      <td>135.0</td>\n",
       "      <td>40.0</td>\n",
       "      <td>0.0</td>\n",
       "      <td>40.0</td>\n",
       "      <td>40.0</td>\n",
       "      <td>40.0</td>\n",
       "      <td>40.0</td>\n",
       "      <td>40.0</td>\n",
       "    </tr>\n",
       "    <tr>\n",
       "      <th>Steeles (116)</th>\n",
       "      <td>104.0</td>\n",
       "      <td>116.0</td>\n",
       "      <td>0.0</td>\n",
       "      <td>116.0</td>\n",
       "      <td>116.0</td>\n",
       "      <td>116.0</td>\n",
       "      <td>116.0</td>\n",
       "      <td>116.0</td>\n",
       "    </tr>\n",
       "    <tr>\n",
       "      <th>Stonegate-Queensway (16)</th>\n",
       "      <td>124.0</td>\n",
       "      <td>16.0</td>\n",
       "      <td>0.0</td>\n",
       "      <td>16.0</td>\n",
       "      <td>16.0</td>\n",
       "      <td>16.0</td>\n",
       "      <td>16.0</td>\n",
       "      <td>16.0</td>\n",
       "    </tr>\n",
       "    <tr>\n",
       "      <th>Tam O'Shanter-Sullivan (118)</th>\n",
       "      <td>144.0</td>\n",
       "      <td>118.0</td>\n",
       "      <td>0.0</td>\n",
       "      <td>118.0</td>\n",
       "      <td>118.0</td>\n",
       "      <td>118.0</td>\n",
       "      <td>118.0</td>\n",
       "      <td>118.0</td>\n",
       "    </tr>\n",
       "    <tr>\n",
       "      <th>Taylor-Massey (61)</th>\n",
       "      <td>120.0</td>\n",
       "      <td>61.0</td>\n",
       "      <td>0.0</td>\n",
       "      <td>61.0</td>\n",
       "      <td>61.0</td>\n",
       "      <td>61.0</td>\n",
       "      <td>61.0</td>\n",
       "      <td>61.0</td>\n",
       "    </tr>\n",
       "    <tr>\n",
       "      <th>The Beaches (63)</th>\n",
       "      <td>117.0</td>\n",
       "      <td>63.0</td>\n",
       "      <td>0.0</td>\n",
       "      <td>63.0</td>\n",
       "      <td>63.0</td>\n",
       "      <td>63.0</td>\n",
       "      <td>63.0</td>\n",
       "      <td>63.0</td>\n",
       "    </tr>\n",
       "    <tr>\n",
       "      <th>Thistletown-Beaumond Heights (3)</th>\n",
       "      <td>81.0</td>\n",
       "      <td>3.0</td>\n",
       "      <td>0.0</td>\n",
       "      <td>3.0</td>\n",
       "      <td>3.0</td>\n",
       "      <td>3.0</td>\n",
       "      <td>3.0</td>\n",
       "      <td>3.0</td>\n",
       "    </tr>\n",
       "    <tr>\n",
       "      <th>Thorncliffe Park (55)</th>\n",
       "      <td>108.0</td>\n",
       "      <td>55.0</td>\n",
       "      <td>0.0</td>\n",
       "      <td>55.0</td>\n",
       "      <td>55.0</td>\n",
       "      <td>55.0</td>\n",
       "      <td>55.0</td>\n",
       "      <td>55.0</td>\n",
       "    </tr>\n",
       "    <tr>\n",
       "      <th>Trinity-Bellwoods (81)</th>\n",
       "      <td>163.0</td>\n",
       "      <td>81.0</td>\n",
       "      <td>0.0</td>\n",
       "      <td>81.0</td>\n",
       "      <td>81.0</td>\n",
       "      <td>81.0</td>\n",
       "      <td>81.0</td>\n",
       "      <td>81.0</td>\n",
       "    </tr>\n",
       "    <tr>\n",
       "      <th>University (79)</th>\n",
       "      <td>152.0</td>\n",
       "      <td>79.0</td>\n",
       "      <td>0.0</td>\n",
       "      <td>79.0</td>\n",
       "      <td>79.0</td>\n",
       "      <td>79.0</td>\n",
       "      <td>79.0</td>\n",
       "      <td>79.0</td>\n",
       "    </tr>\n",
       "    <tr>\n",
       "      <th>Victoria Village (43)</th>\n",
       "      <td>81.0</td>\n",
       "      <td>43.0</td>\n",
       "      <td>0.0</td>\n",
       "      <td>43.0</td>\n",
       "      <td>43.0</td>\n",
       "      <td>43.0</td>\n",
       "      <td>43.0</td>\n",
       "      <td>43.0</td>\n",
       "    </tr>\n",
       "    <tr>\n",
       "      <th>Waterfront Communities-The Island (77)</th>\n",
       "      <td>569.0</td>\n",
       "      <td>77.0</td>\n",
       "      <td>0.0</td>\n",
       "      <td>77.0</td>\n",
       "      <td>77.0</td>\n",
       "      <td>77.0</td>\n",
       "      <td>77.0</td>\n",
       "      <td>77.0</td>\n",
       "    </tr>\n",
       "    <tr>\n",
       "      <th>West Hill (136)</th>\n",
       "      <td>382.0</td>\n",
       "      <td>136.0</td>\n",
       "      <td>0.0</td>\n",
       "      <td>136.0</td>\n",
       "      <td>136.0</td>\n",
       "      <td>136.0</td>\n",
       "      <td>136.0</td>\n",
       "      <td>136.0</td>\n",
       "    </tr>\n",
       "    <tr>\n",
       "      <th>West Humber-Clairville (1)</th>\n",
       "      <td>598.0</td>\n",
       "      <td>1.0</td>\n",
       "      <td>0.0</td>\n",
       "      <td>1.0</td>\n",
       "      <td>1.0</td>\n",
       "      <td>1.0</td>\n",
       "      <td>1.0</td>\n",
       "      <td>1.0</td>\n",
       "    </tr>\n",
       "    <tr>\n",
       "      <th>Westminster-Branson (35)</th>\n",
       "      <td>117.0</td>\n",
       "      <td>35.0</td>\n",
       "      <td>0.0</td>\n",
       "      <td>35.0</td>\n",
       "      <td>35.0</td>\n",
       "      <td>35.0</td>\n",
       "      <td>35.0</td>\n",
       "      <td>35.0</td>\n",
       "    </tr>\n",
       "    <tr>\n",
       "      <th>Weston (113)</th>\n",
       "      <td>211.0</td>\n",
       "      <td>113.0</td>\n",
       "      <td>0.0</td>\n",
       "      <td>113.0</td>\n",
       "      <td>113.0</td>\n",
       "      <td>113.0</td>\n",
       "      <td>113.0</td>\n",
       "      <td>113.0</td>\n",
       "    </tr>\n",
       "    <tr>\n",
       "      <th>Weston-Pellam Park (91)</th>\n",
       "      <td>93.0</td>\n",
       "      <td>91.0</td>\n",
       "      <td>0.0</td>\n",
       "      <td>91.0</td>\n",
       "      <td>91.0</td>\n",
       "      <td>91.0</td>\n",
       "      <td>91.0</td>\n",
       "      <td>91.0</td>\n",
       "    </tr>\n",
       "    <tr>\n",
       "      <th>Wexford/Maryvale (119)</th>\n",
       "      <td>329.0</td>\n",
       "      <td>119.0</td>\n",
       "      <td>0.0</td>\n",
       "      <td>119.0</td>\n",
       "      <td>119.0</td>\n",
       "      <td>119.0</td>\n",
       "      <td>119.0</td>\n",
       "      <td>119.0</td>\n",
       "    </tr>\n",
       "    <tr>\n",
       "      <th>Willowdale East (51)</th>\n",
       "      <td>236.0</td>\n",
       "      <td>51.0</td>\n",
       "      <td>0.0</td>\n",
       "      <td>51.0</td>\n",
       "      <td>51.0</td>\n",
       "      <td>51.0</td>\n",
       "      <td>51.0</td>\n",
       "      <td>51.0</td>\n",
       "    </tr>\n",
       "    <tr>\n",
       "      <th>Willowdale West (37)</th>\n",
       "      <td>68.0</td>\n",
       "      <td>37.0</td>\n",
       "      <td>0.0</td>\n",
       "      <td>37.0</td>\n",
       "      <td>37.0</td>\n",
       "      <td>37.0</td>\n",
       "      <td>37.0</td>\n",
       "      <td>37.0</td>\n",
       "    </tr>\n",
       "    <tr>\n",
       "      <th>Willowridge-Martingrove-Richview (7)</th>\n",
       "      <td>176.0</td>\n",
       "      <td>7.0</td>\n",
       "      <td>0.0</td>\n",
       "      <td>7.0</td>\n",
       "      <td>7.0</td>\n",
       "      <td>7.0</td>\n",
       "      <td>7.0</td>\n",
       "      <td>7.0</td>\n",
       "    </tr>\n",
       "    <tr>\n",
       "      <th>Woburn (137)</th>\n",
       "      <td>428.0</td>\n",
       "      <td>137.0</td>\n",
       "      <td>0.0</td>\n",
       "      <td>137.0</td>\n",
       "      <td>137.0</td>\n",
       "      <td>137.0</td>\n",
       "      <td>137.0</td>\n",
       "      <td>137.0</td>\n",
       "    </tr>\n",
       "    <tr>\n",
       "      <th>Woodbine Corridor (64)</th>\n",
       "      <td>71.0</td>\n",
       "      <td>64.0</td>\n",
       "      <td>0.0</td>\n",
       "      <td>64.0</td>\n",
       "      <td>64.0</td>\n",
       "      <td>64.0</td>\n",
       "      <td>64.0</td>\n",
       "      <td>64.0</td>\n",
       "    </tr>\n",
       "    <tr>\n",
       "      <th>Woodbine-Lumsden (60)</th>\n",
       "      <td>64.0</td>\n",
       "      <td>60.0</td>\n",
       "      <td>0.0</td>\n",
       "      <td>60.0</td>\n",
       "      <td>60.0</td>\n",
       "      <td>60.0</td>\n",
       "      <td>60.0</td>\n",
       "      <td>60.0</td>\n",
       "    </tr>\n",
       "    <tr>\n",
       "      <th>Wychwood (94)</th>\n",
       "      <td>85.0</td>\n",
       "      <td>94.0</td>\n",
       "      <td>0.0</td>\n",
       "      <td>94.0</td>\n",
       "      <td>94.0</td>\n",
       "      <td>94.0</td>\n",
       "      <td>94.0</td>\n",
       "      <td>94.0</td>\n",
       "    </tr>\n",
       "    <tr>\n",
       "      <th>Yonge-Eglinton (100)</th>\n",
       "      <td>45.0</td>\n",
       "      <td>100.0</td>\n",
       "      <td>0.0</td>\n",
       "      <td>100.0</td>\n",
       "      <td>100.0</td>\n",
       "      <td>100.0</td>\n",
       "      <td>100.0</td>\n",
       "      <td>100.0</td>\n",
       "    </tr>\n",
       "    <tr>\n",
       "      <th>Yonge-St.Clair (97)</th>\n",
       "      <td>44.0</td>\n",
       "      <td>97.0</td>\n",
       "      <td>0.0</td>\n",
       "      <td>97.0</td>\n",
       "      <td>97.0</td>\n",
       "      <td>97.0</td>\n",
       "      <td>97.0</td>\n",
       "      <td>97.0</td>\n",
       "    </tr>\n",
       "    <tr>\n",
       "      <th>York University Heights (27)</th>\n",
       "      <td>471.0</td>\n",
       "      <td>27.0</td>\n",
       "      <td>0.0</td>\n",
       "      <td>27.0</td>\n",
       "      <td>27.0</td>\n",
       "      <td>27.0</td>\n",
       "      <td>27.0</td>\n",
       "      <td>27.0</td>\n",
       "    </tr>\n",
       "    <tr>\n",
       "      <th>Yorkdale-Glen Park (31)</th>\n",
       "      <td>193.0</td>\n",
       "      <td>31.0</td>\n",
       "      <td>0.0</td>\n",
       "      <td>31.0</td>\n",
       "      <td>31.0</td>\n",
       "      <td>31.0</td>\n",
       "      <td>31.0</td>\n",
       "      <td>31.0</td>\n",
       "    </tr>\n",
       "  </tbody>\n",
       "</table>\n",
       "<p>987 rows × 8 columns</p>\n",
       "</div>"
      ],
      "text/plain": [
       "                                                            count   mean  std  \\\n",
       "occurrencedayofweek Neighbourhood                                               \n",
       "Friday              Agincourt North (129)                   183.0  129.0  0.0   \n",
       "                    Agincourt South-Malvern West (128)      222.0  128.0  0.0   \n",
       "                    Alderwood (20)                           76.0   20.0  0.0   \n",
       "                    Annex (95)                              472.0   95.0  0.0   \n",
       "                    Banbury-Don Mills (42)                  159.0   42.0  0.0   \n",
       "                    Bathurst Manor (34)                     141.0   34.0  0.0   \n",
       "                    Bay Street Corridor (76)                569.0   76.0  0.0   \n",
       "                    Bayview Village (52)                    131.0   52.0  0.0   \n",
       "                    Bayview Woods-Steeles (49)               58.0   49.0  0.0   \n",
       "                    Bedford Park-Nortown (39)               194.0   39.0  0.0   \n",
       "                    Beechborough-Greenbrook (112)           108.0  112.0  0.0   \n",
       "                    Bendale (127)                           376.0  127.0  0.0   \n",
       "                    Birchcliffe-Cliffside (122)             194.0  122.0  0.0   \n",
       "                    Black Creek (24)                        283.0   24.0  0.0   \n",
       "                    Blake-Jones (69)                         54.0   69.0  0.0   \n",
       "                    Briar Hill-Belgravia (108)              178.0  108.0  0.0   \n",
       "                    Bridle Path-Sunnybrook-York Mills (41)   64.0   41.0  0.0   \n",
       "                    Broadview North (57)                     38.0   57.0  0.0   \n",
       "                    Brookhaven-Amesbury (30)                118.0   30.0  0.0   \n",
       "                    Cabbagetown-South St.James Town (71)    157.0   71.0  0.0   \n",
       "                    Caledonia-Fairbank (109)                 42.0  109.0  0.0   \n",
       "                    Casa Loma (96)                           82.0   96.0  0.0   \n",
       "                    Centennial Scarborough (133)             37.0  133.0  0.0   \n",
       "                    Church-Yonge Corridor (75)              928.0   75.0  0.0   \n",
       "                    Clairlea-Birchmount (120)               332.0  120.0  0.0   \n",
       "                    Clanton Park (33)                       107.0   33.0  0.0   \n",
       "                    Cliffcrest (123)                        153.0  123.0  0.0   \n",
       "                    Corso Italia-Davenport (92)             123.0   92.0  0.0   \n",
       "                    Danforth (66)                           175.0   66.0  0.0   \n",
       "                    Danforth East York (59)                  76.0   59.0  0.0   \n",
       "...                                                           ...    ...  ...   \n",
       "Wednesday           South Riverdale (70)                    241.0   70.0  0.0   \n",
       "                    St.Andrew-Windfields (40)               135.0   40.0  0.0   \n",
       "                    Steeles (116)                           104.0  116.0  0.0   \n",
       "                    Stonegate-Queensway (16)                124.0   16.0  0.0   \n",
       "                    Tam O'Shanter-Sullivan (118)            144.0  118.0  0.0   \n",
       "                    Taylor-Massey (61)                      120.0   61.0  0.0   \n",
       "                    The Beaches (63)                        117.0   63.0  0.0   \n",
       "                    Thistletown-Beaumond Heights (3)         81.0    3.0  0.0   \n",
       "                    Thorncliffe Park (55)                   108.0   55.0  0.0   \n",
       "                    Trinity-Bellwoods (81)                  163.0   81.0  0.0   \n",
       "                    University (79)                         152.0   79.0  0.0   \n",
       "                    Victoria Village (43)                    81.0   43.0  0.0   \n",
       "                    Waterfront Communities-The Island (77)  569.0   77.0  0.0   \n",
       "                    West Hill (136)                         382.0  136.0  0.0   \n",
       "                    West Humber-Clairville (1)              598.0    1.0  0.0   \n",
       "                    Westminster-Branson (35)                117.0   35.0  0.0   \n",
       "                    Weston (113)                            211.0  113.0  0.0   \n",
       "                    Weston-Pellam Park (91)                  93.0   91.0  0.0   \n",
       "                    Wexford/Maryvale (119)                  329.0  119.0  0.0   \n",
       "                    Willowdale East (51)                    236.0   51.0  0.0   \n",
       "                    Willowdale West (37)                     68.0   37.0  0.0   \n",
       "                    Willowridge-Martingrove-Richview (7)    176.0    7.0  0.0   \n",
       "                    Woburn (137)                            428.0  137.0  0.0   \n",
       "                    Woodbine Corridor (64)                   71.0   64.0  0.0   \n",
       "                    Woodbine-Lumsden (60)                    64.0   60.0  0.0   \n",
       "                    Wychwood (94)                            85.0   94.0  0.0   \n",
       "                    Yonge-Eglinton (100)                     45.0  100.0  0.0   \n",
       "                    Yonge-St.Clair (97)                      44.0   97.0  0.0   \n",
       "                    York University Heights (27)            471.0   27.0  0.0   \n",
       "                    Yorkdale-Glen Park (31)                 193.0   31.0  0.0   \n",
       "\n",
       "                                                              min    25%  \\\n",
       "occurrencedayofweek Neighbourhood                                          \n",
       "Friday              Agincourt North (129)                   129.0  129.0   \n",
       "                    Agincourt South-Malvern West (128)      128.0  128.0   \n",
       "                    Alderwood (20)                           20.0   20.0   \n",
       "                    Annex (95)                               95.0   95.0   \n",
       "                    Banbury-Don Mills (42)                   42.0   42.0   \n",
       "                    Bathurst Manor (34)                      34.0   34.0   \n",
       "                    Bay Street Corridor (76)                 76.0   76.0   \n",
       "                    Bayview Village (52)                     52.0   52.0   \n",
       "                    Bayview Woods-Steeles (49)               49.0   49.0   \n",
       "                    Bedford Park-Nortown (39)                39.0   39.0   \n",
       "                    Beechborough-Greenbrook (112)           112.0  112.0   \n",
       "                    Bendale (127)                           127.0  127.0   \n",
       "                    Birchcliffe-Cliffside (122)             122.0  122.0   \n",
       "                    Black Creek (24)                         24.0   24.0   \n",
       "                    Blake-Jones (69)                         69.0   69.0   \n",
       "                    Briar Hill-Belgravia (108)              108.0  108.0   \n",
       "                    Bridle Path-Sunnybrook-York Mills (41)   41.0   41.0   \n",
       "                    Broadview North (57)                     57.0   57.0   \n",
       "                    Brookhaven-Amesbury (30)                 30.0   30.0   \n",
       "                    Cabbagetown-South St.James Town (71)     71.0   71.0   \n",
       "                    Caledonia-Fairbank (109)                109.0  109.0   \n",
       "                    Casa Loma (96)                           96.0   96.0   \n",
       "                    Centennial Scarborough (133)            133.0  133.0   \n",
       "                    Church-Yonge Corridor (75)               75.0   75.0   \n",
       "                    Clairlea-Birchmount (120)               120.0  120.0   \n",
       "                    Clanton Park (33)                        33.0   33.0   \n",
       "                    Cliffcrest (123)                        123.0  123.0   \n",
       "                    Corso Italia-Davenport (92)              92.0   92.0   \n",
       "                    Danforth (66)                            66.0   66.0   \n",
       "                    Danforth East York (59)                  59.0   59.0   \n",
       "...                                                           ...    ...   \n",
       "Wednesday           South Riverdale (70)                     70.0   70.0   \n",
       "                    St.Andrew-Windfields (40)                40.0   40.0   \n",
       "                    Steeles (116)                           116.0  116.0   \n",
       "                    Stonegate-Queensway (16)                 16.0   16.0   \n",
       "                    Tam O'Shanter-Sullivan (118)            118.0  118.0   \n",
       "                    Taylor-Massey (61)                       61.0   61.0   \n",
       "                    The Beaches (63)                         63.0   63.0   \n",
       "                    Thistletown-Beaumond Heights (3)          3.0    3.0   \n",
       "                    Thorncliffe Park (55)                    55.0   55.0   \n",
       "                    Trinity-Bellwoods (81)                   81.0   81.0   \n",
       "                    University (79)                          79.0   79.0   \n",
       "                    Victoria Village (43)                    43.0   43.0   \n",
       "                    Waterfront Communities-The Island (77)   77.0   77.0   \n",
       "                    West Hill (136)                         136.0  136.0   \n",
       "                    West Humber-Clairville (1)                1.0    1.0   \n",
       "                    Westminster-Branson (35)                 35.0   35.0   \n",
       "                    Weston (113)                            113.0  113.0   \n",
       "                    Weston-Pellam Park (91)                  91.0   91.0   \n",
       "                    Wexford/Maryvale (119)                  119.0  119.0   \n",
       "                    Willowdale East (51)                     51.0   51.0   \n",
       "                    Willowdale West (37)                     37.0   37.0   \n",
       "                    Willowridge-Martingrove-Richview (7)      7.0    7.0   \n",
       "                    Woburn (137)                            137.0  137.0   \n",
       "                    Woodbine Corridor (64)                   64.0   64.0   \n",
       "                    Woodbine-Lumsden (60)                    60.0   60.0   \n",
       "                    Wychwood (94)                            94.0   94.0   \n",
       "                    Yonge-Eglinton (100)                    100.0  100.0   \n",
       "                    Yonge-St.Clair (97)                      97.0   97.0   \n",
       "                    York University Heights (27)             27.0   27.0   \n",
       "                    Yorkdale-Glen Park (31)                  31.0   31.0   \n",
       "\n",
       "                                                              50%    75%  \\\n",
       "occurrencedayofweek Neighbourhood                                          \n",
       "Friday              Agincourt North (129)                   129.0  129.0   \n",
       "                    Agincourt South-Malvern West (128)      128.0  128.0   \n",
       "                    Alderwood (20)                           20.0   20.0   \n",
       "                    Annex (95)                               95.0   95.0   \n",
       "                    Banbury-Don Mills (42)                   42.0   42.0   \n",
       "                    Bathurst Manor (34)                      34.0   34.0   \n",
       "                    Bay Street Corridor (76)                 76.0   76.0   \n",
       "                    Bayview Village (52)                     52.0   52.0   \n",
       "                    Bayview Woods-Steeles (49)               49.0   49.0   \n",
       "                    Bedford Park-Nortown (39)                39.0   39.0   \n",
       "                    Beechborough-Greenbrook (112)           112.0  112.0   \n",
       "                    Bendale (127)                           127.0  127.0   \n",
       "                    Birchcliffe-Cliffside (122)             122.0  122.0   \n",
       "                    Black Creek (24)                         24.0   24.0   \n",
       "                    Blake-Jones (69)                         69.0   69.0   \n",
       "                    Briar Hill-Belgravia (108)              108.0  108.0   \n",
       "                    Bridle Path-Sunnybrook-York Mills (41)   41.0   41.0   \n",
       "                    Broadview North (57)                     57.0   57.0   \n",
       "                    Brookhaven-Amesbury (30)                 30.0   30.0   \n",
       "                    Cabbagetown-South St.James Town (71)     71.0   71.0   \n",
       "                    Caledonia-Fairbank (109)                109.0  109.0   \n",
       "                    Casa Loma (96)                           96.0   96.0   \n",
       "                    Centennial Scarborough (133)            133.0  133.0   \n",
       "                    Church-Yonge Corridor (75)               75.0   75.0   \n",
       "                    Clairlea-Birchmount (120)               120.0  120.0   \n",
       "                    Clanton Park (33)                        33.0   33.0   \n",
       "                    Cliffcrest (123)                        123.0  123.0   \n",
       "                    Corso Italia-Davenport (92)              92.0   92.0   \n",
       "                    Danforth (66)                            66.0   66.0   \n",
       "                    Danforth East York (59)                  59.0   59.0   \n",
       "...                                                           ...    ...   \n",
       "Wednesday           South Riverdale (70)                     70.0   70.0   \n",
       "                    St.Andrew-Windfields (40)                40.0   40.0   \n",
       "                    Steeles (116)                           116.0  116.0   \n",
       "                    Stonegate-Queensway (16)                 16.0   16.0   \n",
       "                    Tam O'Shanter-Sullivan (118)            118.0  118.0   \n",
       "                    Taylor-Massey (61)                       61.0   61.0   \n",
       "                    The Beaches (63)                         63.0   63.0   \n",
       "                    Thistletown-Beaumond Heights (3)          3.0    3.0   \n",
       "                    Thorncliffe Park (55)                    55.0   55.0   \n",
       "                    Trinity-Bellwoods (81)                   81.0   81.0   \n",
       "                    University (79)                          79.0   79.0   \n",
       "                    Victoria Village (43)                    43.0   43.0   \n",
       "                    Waterfront Communities-The Island (77)   77.0   77.0   \n",
       "                    West Hill (136)                         136.0  136.0   \n",
       "                    West Humber-Clairville (1)                1.0    1.0   \n",
       "                    Westminster-Branson (35)                 35.0   35.0   \n",
       "                    Weston (113)                            113.0  113.0   \n",
       "                    Weston-Pellam Park (91)                  91.0   91.0   \n",
       "                    Wexford/Maryvale (119)                  119.0  119.0   \n",
       "                    Willowdale East (51)                     51.0   51.0   \n",
       "                    Willowdale West (37)                     37.0   37.0   \n",
       "                    Willowridge-Martingrove-Richview (7)      7.0    7.0   \n",
       "                    Woburn (137)                            137.0  137.0   \n",
       "                    Woodbine Corridor (64)                   64.0   64.0   \n",
       "                    Woodbine-Lumsden (60)                    60.0   60.0   \n",
       "                    Wychwood (94)                            94.0   94.0   \n",
       "                    Yonge-Eglinton (100)                    100.0  100.0   \n",
       "                    Yonge-St.Clair (97)                      97.0   97.0   \n",
       "                    York University Heights (27)             27.0   27.0   \n",
       "                    Yorkdale-Glen Park (31)                  31.0   31.0   \n",
       "\n",
       "                                                              max  \n",
       "occurrencedayofweek Neighbourhood                                  \n",
       "Friday              Agincourt North (129)                   129.0  \n",
       "                    Agincourt South-Malvern West (128)      128.0  \n",
       "                    Alderwood (20)                           20.0  \n",
       "                    Annex (95)                               95.0  \n",
       "                    Banbury-Don Mills (42)                   42.0  \n",
       "                    Bathurst Manor (34)                      34.0  \n",
       "                    Bay Street Corridor (76)                 76.0  \n",
       "                    Bayview Village (52)                     52.0  \n",
       "                    Bayview Woods-Steeles (49)               49.0  \n",
       "                    Bedford Park-Nortown (39)                39.0  \n",
       "                    Beechborough-Greenbrook (112)           112.0  \n",
       "                    Bendale (127)                           127.0  \n",
       "                    Birchcliffe-Cliffside (122)             122.0  \n",
       "                    Black Creek (24)                         24.0  \n",
       "                    Blake-Jones (69)                         69.0  \n",
       "                    Briar Hill-Belgravia (108)              108.0  \n",
       "                    Bridle Path-Sunnybrook-York Mills (41)   41.0  \n",
       "                    Broadview North (57)                     57.0  \n",
       "                    Brookhaven-Amesbury (30)                 30.0  \n",
       "                    Cabbagetown-South St.James Town (71)     71.0  \n",
       "                    Caledonia-Fairbank (109)                109.0  \n",
       "                    Casa Loma (96)                           96.0  \n",
       "                    Centennial Scarborough (133)            133.0  \n",
       "                    Church-Yonge Corridor (75)               75.0  \n",
       "                    Clairlea-Birchmount (120)               120.0  \n",
       "                    Clanton Park (33)                        33.0  \n",
       "                    Cliffcrest (123)                        123.0  \n",
       "                    Corso Italia-Davenport (92)              92.0  \n",
       "                    Danforth (66)                            66.0  \n",
       "                    Danforth East York (59)                  59.0  \n",
       "...                                                           ...  \n",
       "Wednesday           South Riverdale (70)                     70.0  \n",
       "                    St.Andrew-Windfields (40)                40.0  \n",
       "                    Steeles (116)                           116.0  \n",
       "                    Stonegate-Queensway (16)                 16.0  \n",
       "                    Tam O'Shanter-Sullivan (118)            118.0  \n",
       "                    Taylor-Massey (61)                       61.0  \n",
       "                    The Beaches (63)                         63.0  \n",
       "                    Thistletown-Beaumond Heights (3)          3.0  \n",
       "                    Thorncliffe Park (55)                    55.0  \n",
       "                    Trinity-Bellwoods (81)                   81.0  \n",
       "                    University (79)                          79.0  \n",
       "                    Victoria Village (43)                    43.0  \n",
       "                    Waterfront Communities-The Island (77)   77.0  \n",
       "                    West Hill (136)                         136.0  \n",
       "                    West Humber-Clairville (1)                1.0  \n",
       "                    Westminster-Branson (35)                 35.0  \n",
       "                    Weston (113)                            113.0  \n",
       "                    Weston-Pellam Park (91)                  91.0  \n",
       "                    Wexford/Maryvale (119)                  119.0  \n",
       "                    Willowdale East (51)                     51.0  \n",
       "                    Willowdale West (37)                     37.0  \n",
       "                    Willowridge-Martingrove-Richview (7)      7.0  \n",
       "                    Woburn (137)                            137.0  \n",
       "                    Woodbine Corridor (64)                   64.0  \n",
       "                    Woodbine-Lumsden (60)                    60.0  \n",
       "                    Wychwood (94)                            94.0  \n",
       "                    Yonge-Eglinton (100)                    100.0  \n",
       "                    Yonge-St.Clair (97)                      97.0  \n",
       "                    York University Heights (27)             27.0  \n",
       "                    Yorkdale-Glen Park (31)                  31.0  \n",
       "\n",
       "[987 rows x 8 columns]"
      ]
     },
     "execution_count": 5,
     "metadata": {},
     "output_type": "execute_result"
    }
   ],
   "source": [
    "crime_groupby[\"Hood_ID\"].describe()"
   ]
  },
  {
   "cell_type": "code",
   "execution_count": 6,
   "metadata": {},
   "outputs": [
    {
     "data": {
      "image/png": "[encoded data removed]",
      "text/plain": [
       "<Figure size 432x288 with 1 Axes>"
      ]
     },
     "metadata": {
      "needs_background": "light"
     },
     "output_type": "display_data"
    }
   ],
   "source": [
    "#np.histogram(crime[[\"Hood_ID\"]],bins=10)\n",
    "fig, ax = plt.subplots()\n",
    "#crime.occurrencehour.plot.hist(bins=24, rwidth=0.9,color='#607c8e')\n",
    "crime.occurrencehour.plot.kde(ax=ax, legend=False, title='Histogram')\n",
    "crime.occurrencehour.plot.hist(density=True, ax=ax)\n",
    "ax.set_ylabel('Probability')\n",
    "ax.grid(axis='y')\n",
    "ax.set_facecolor('#d8dcd6')\n"
   ]
  },
  {
   "cell_type": "code",
   "execution_count": 7,
   "metadata": {},
   "outputs": [
    {
     "name": "stdout",
     "output_type": "stream",
     "text": [
      "<class 'pandas.core.frame.DataFrame'>\n",
      "RangeIndex: 167525 entries, 0 to 167524\n",
      "Data columns (total 29 columns):\n",
      "X                      167525 non-null float64\n",
      "Y                      167525 non-null float64\n",
      "Index_                 167525 non-null int64\n",
      "event_unique_id        167525 non-null object\n",
      "occurrencedate         167525 non-null object\n",
      "reporteddate           167525 non-null object\n",
      "premisetype            167525 non-null object\n",
      "ucr_code               167525 non-null int64\n",
      "ucr_ext                167525 non-null int64\n",
      "offence                167525 non-null object\n",
      "reportedyear           167525 non-null int64\n",
      "reportedmonth          167525 non-null object\n",
      "reportedday            167525 non-null int64\n",
      "reporteddayofyear      167525 non-null int64\n",
      "reporteddayofweek      167525 non-null object\n",
      "reportedhour           167525 non-null int64\n",
      "occurrenceyear         167476 non-null float64\n",
      "occurrencemonth        167476 non-null object\n",
      "occurrenceday          167476 non-null float64\n",
      "occurrencedayofyear    167476 non-null float64\n",
      "occurrencedayofweek    167476 non-null object\n",
      "occurrencehour         167525 non-null int64\n",
      "MCI                    167525 non-null object\n",
      "Division               167525 non-null object\n",
      "Hood_ID                167525 non-null int64\n",
      "Neighbourhood          167525 non-null object\n",
      "Lat                    167525 non-null float64\n",
      "Long                   167525 non-null float64\n",
      "ObjectId               167525 non-null int64\n",
      "dtypes: float64(7), int64(10), object(12)\n",
      "memory usage: 37.1+ MB\n"
     ]
    }
   ],
   "source": [
    "crime.info()"
   ]
  },
  {
   "cell_type": "markdown",
   "metadata": {},
   "source": [
    "#### 3.1.1 Data manipulation and cleaning\n",
    "##### To get the data into the right format, e. g., transform date variables into datetime type."
   ]
  },
  {
   "cell_type": "code",
   "execution_count": 8,
   "metadata": {},
   "outputs": [],
   "source": [
    "from datetime import datetime\n",
    "crime[\"occdate\"]=crime.occurrencedate.str.slice(0,10)\n",
    "crime[\"repdate\"]=crime.reporteddate.str.slice(0,10)\n",
    "crime[\"occtime\"]=crime.occurrencedate.str.slice(11,11+8)\n",
    "crime[\"reptime\"]=crime.reporteddate.str.slice(11,11+8)\n",
    "crime[\"occdate\"]=pd.to_datetime(crime['occdate'], format='%Y-%m-%d')"
   ]
  },
  {
   "cell_type": "markdown",
   "metadata": {},
   "source": [
    "##### Extract year, month, day and hour of the crime incidents."
   ]
  },
  {
   "cell_type": "code",
   "execution_count": 9,
   "metadata": {},
   "outputs": [
    {
     "data": {
      "text/plain": [
       "0   2014-04-24\n",
       "1   2014-04-24\n",
       "2   2014-04-25\n",
       "3   2014-04-24\n",
       "4   2014-04-25\n",
       "Name: occdate, dtype: datetime64[ns]"
      ]
     },
     "execution_count": 9,
     "metadata": {},
     "output_type": "execute_result"
    }
   ],
   "source": [
    "crime[\"occyear\"]=crime['occdate'].dt.year\n",
    "crime[\"occmonth\"]=crime['occdate'].dt.month\n",
    "crime[\"occday\"]=crime['occdate'].dt.day\n",
    "crime[\"occhour\"]=crime.occtime.str.slice(0,2).astype(int)\n",
    "crime[\"repdate\"]=pd.to_datetime(crime['repdate'], format='%Y-%m-%d')\n",
    "crime.occdate.head()"
   ]
  },
  {
   "cell_type": "code",
   "execution_count": 10,
   "metadata": {},
   "outputs": [
    {
     "data": {
      "text/html": [
       "<div>\n",
       "<style scoped>\n",
       "    .dataframe tbody tr th:only-of-type {\n",
       "        vertical-align: middle;\n",
       "    }\n",
       "\n",
       "    .dataframe tbody tr th {\n",
       "        vertical-align: top;\n",
       "    }\n",
       "\n",
       "    .dataframe thead th {\n",
       "        text-align: right;\n",
       "    }\n",
       "</style>\n",
       "<table border=\"1\" class=\"dataframe\">\n",
       "  <thead>\n",
       "    <tr style=\"text-align: right;\">\n",
       "      <th></th>\n",
       "      <th>occurrencedate</th>\n",
       "      <th>occdate</th>\n",
       "      <th>occtime</th>\n",
       "      <th>occyear</th>\n",
       "      <th>occmonth</th>\n",
       "      <th>occday</th>\n",
       "      <th>occhour</th>\n",
       "    </tr>\n",
       "  </thead>\n",
       "  <tbody>\n",
       "    <tr>\n",
       "      <th>0</th>\n",
       "      <td>2014-04-24T11:29:00.000Z</td>\n",
       "      <td>2014-04-24</td>\n",
       "      <td>11:29:00</td>\n",
       "      <td>2014</td>\n",
       "      <td>4</td>\n",
       "      <td>24</td>\n",
       "      <td>11</td>\n",
       "    </tr>\n",
       "    <tr>\n",
       "      <th>1</th>\n",
       "      <td>2014-04-24T13:00:00.000Z</td>\n",
       "      <td>2014-04-24</td>\n",
       "      <td>13:00:00</td>\n",
       "      <td>2014</td>\n",
       "      <td>4</td>\n",
       "      <td>24</td>\n",
       "      <td>13</td>\n",
       "    </tr>\n",
       "    <tr>\n",
       "      <th>2</th>\n",
       "      <td>2014-04-25T13:20:00.000Z</td>\n",
       "      <td>2014-04-25</td>\n",
       "      <td>13:20:00</td>\n",
       "      <td>2014</td>\n",
       "      <td>4</td>\n",
       "      <td>25</td>\n",
       "      <td>13</td>\n",
       "    </tr>\n",
       "    <tr>\n",
       "      <th>3</th>\n",
       "      <td>2014-04-24T17:00:00.000Z</td>\n",
       "      <td>2014-04-24</td>\n",
       "      <td>17:00:00</td>\n",
       "      <td>2014</td>\n",
       "      <td>4</td>\n",
       "      <td>24</td>\n",
       "      <td>17</td>\n",
       "    </tr>\n",
       "    <tr>\n",
       "      <th>4</th>\n",
       "      <td>2014-04-25T16:00:00.000Z</td>\n",
       "      <td>2014-04-25</td>\n",
       "      <td>16:00:00</td>\n",
       "      <td>2014</td>\n",
       "      <td>4</td>\n",
       "      <td>25</td>\n",
       "      <td>16</td>\n",
       "    </tr>\n",
       "  </tbody>\n",
       "</table>\n",
       "</div>"
      ],
      "text/plain": [
       "             occurrencedate    occdate   occtime  occyear  occmonth  occday  \\\n",
       "0  2014-04-24T11:29:00.000Z 2014-04-24  11:29:00     2014         4      24   \n",
       "1  2014-04-24T13:00:00.000Z 2014-04-24  13:00:00     2014         4      24   \n",
       "2  2014-04-25T13:20:00.000Z 2014-04-25  13:20:00     2014         4      25   \n",
       "3  2014-04-24T17:00:00.000Z 2014-04-24  17:00:00     2014         4      24   \n",
       "4  2014-04-25T16:00:00.000Z 2014-04-25  16:00:00     2014         4      25   \n",
       "\n",
       "   occhour  \n",
       "0       11  \n",
       "1       13  \n",
       "2       13  \n",
       "3       17  \n",
       "4       16  "
      ]
     },
     "execution_count": 10,
     "metadata": {},
     "output_type": "execute_result"
    }
   ],
   "source": [
    "crime[['occurrencedate','occdate','occtime','occyear','occmonth','occday','occhour']].head()"
   ]
  },
  {
   "cell_type": "markdown",
   "metadata": {},
   "source": [
    "##### Now let's have a look at the Neighbourhood column\n",
    "Not sure about what the numbers in the brackets are in the Neighbourhood name. Looks like it is Neighbourhood ID. We don't need it in the name of the Neighbourhood, so we need to strip it off."
   ]
  },
  {
   "cell_type": "code",
   "execution_count": 11,
   "metadata": {},
   "outputs": [
    {
     "data": {
      "text/plain": [
       "Church-Yonge Corridor (75)                  6301\n",
       "Waterfront Communities-The Island (77)      5674\n",
       "West Humber-Clairville (1)                  4338\n",
       "Moss Park (73)                              3609\n",
       "Bay Street Corridor (76)                    3564\n",
       "Kensington-Chinatown (78)                   3263\n",
       "Woburn (137)                                3158\n",
       "York University Heights (27)                3141\n",
       "Downsview-Roding-CFB (26)                   2974\n",
       "Annex (95)                                  2908\n",
       "West Hill (136)                             2857\n",
       "Islington-City Centre West (14)             2589\n",
       "Dovercourt-Wallace Emerson-Junction (93)    2450\n",
       "Wexford/Maryvale (119)                      2350\n",
       "Bendale (127)                               2277\n",
       "Mount Olive-Silverstone-Jamestown (2)       2257\n",
       "Clairlea-Birchmount (120)                   2163\n",
       "Mimico (includes Humber Bay Shores) (17)    2040\n",
       "Malvern (132)                               2024\n",
       "Black Creek (24)                            2006\n",
       "Glenfield-Jane Heights (25)                 1981\n",
       "South Riverdale (70)                        1949\n",
       "Rouge (131)                                 1940\n",
       "Willowdale East (51)                        1867\n",
       "Eglinton East (138)                         1804\n",
       "Dorset Park (126)                           1756\n",
       "East End-Danforth (62)                      1691\n",
       "Rosedale-Moore Park (98)                    1628\n",
       "Humber Summit (21)                          1590\n",
       "Kennedy Park (124)                          1577\n",
       "                                            ... \n",
       "Leaside-Bennington (56)                      507\n",
       "Keelesdale-Eglinton West (110)               503\n",
       "Edenbridge-Humber Valley (9)                 473\n",
       "Henry Farm (53)                              472\n",
       "Lawrence Park South (103)                    468\n",
       "Danforth East York (59)                      464\n",
       "Alderwood (20)                               460\n",
       "Maple Leaf (29)                              459\n",
       "Casa Loma (96)                               457\n",
       "Kingsway South (15)                          454\n",
       "Etobicoke West Mall (13)                     450\n",
       "Lawrence Park North (105)                    445\n",
       "Woodbine-Lumsden (60)                        434\n",
       "Bayview Woods-Steeles (49)                   428\n",
       "Blake-Jones (69)                             425\n",
       "Pleasant View (46)                           421\n",
       "Bridle Path-Sunnybrook-York Mills (41)       420\n",
       "Mount Pleasant East (99)                     413\n",
       "Guildwood (140)                              402\n",
       "Humewood-Cedarvale (106)                     371\n",
       "Princess-Rosethorn (10)                      363\n",
       "Forest Hill South (101)                      360\n",
       "Caledonia-Fairbank (109)                     328\n",
       "Yonge-Eglinton (100)                         325\n",
       "Centennial Scarborough (133)                 311\n",
       "Broadview North (57)                         299\n",
       "Markland Wood (12)                           293\n",
       "Yonge-St.Clair (97)                          234\n",
       "Lambton Baby Point (114)                     193\n",
       "Eringate-Centennial_West Deane (11)           23\n",
       "Name: Neighbourhood, Length: 141, dtype: int64"
      ]
     },
     "execution_count": 11,
     "metadata": {},
     "output_type": "execute_result"
    }
   ],
   "source": [
    "crime.Neighbourhood.value_counts()"
   ]
  },
  {
   "cell_type": "code",
   "execution_count": 12,
   "metadata": {},
   "outputs": [],
   "source": [
    "crime[\"NeighbourName\"]=crime.Neighbourhood.str.slice(0,-5)"
   ]
  },
  {
   "cell_type": "code",
   "execution_count": 13,
   "metadata": {},
   "outputs": [
    {
     "data": {
      "text/html": [
       "<div>\n",
       "<style scoped>\n",
       "    .dataframe tbody tr th:only-of-type {\n",
       "        vertical-align: middle;\n",
       "    }\n",
       "\n",
       "    .dataframe tbody tr th {\n",
       "        vertical-align: top;\n",
       "    }\n",
       "\n",
       "    .dataframe thead th {\n",
       "        text-align: right;\n",
       "    }\n",
       "</style>\n",
       "<table border=\"1\" class=\"dataframe\">\n",
       "  <thead>\n",
       "    <tr style=\"text-align: right;\">\n",
       "      <th></th>\n",
       "      <th>Neighbourhood</th>\n",
       "      <th>NeighbourName</th>\n",
       "    </tr>\n",
       "  </thead>\n",
       "  <tbody>\n",
       "    <tr>\n",
       "      <th>0</th>\n",
       "      <td>North Riverdale (68)</td>\n",
       "      <td>North Riverdale</td>\n",
       "    </tr>\n",
       "    <tr>\n",
       "      <th>1</th>\n",
       "      <td>Black Creek (24)</td>\n",
       "      <td>Black Creek</td>\n",
       "    </tr>\n",
       "    <tr>\n",
       "      <th>2</th>\n",
       "      <td>Brookhaven-Amesbury (30)</td>\n",
       "      <td>Brookhaven-Amesbury</td>\n",
       "    </tr>\n",
       "    <tr>\n",
       "      <th>3</th>\n",
       "      <td>Rexdale-Kipling (4)</td>\n",
       "      <td>Rexdale-Kiplin</td>\n",
       "    </tr>\n",
       "    <tr>\n",
       "      <th>4</th>\n",
       "      <td>Lambton Baby Point (114)</td>\n",
       "      <td>Lambton Baby Point</td>\n",
       "    </tr>\n",
       "  </tbody>\n",
       "</table>\n",
       "</div>"
      ],
      "text/plain": [
       "              Neighbourhood        NeighbourName\n",
       "0      North Riverdale (68)      North Riverdale\n",
       "1          Black Creek (24)          Black Creek\n",
       "2  Brookhaven-Amesbury (30)  Brookhaven-Amesbury\n",
       "3       Rexdale-Kipling (4)       Rexdale-Kiplin\n",
       "4  Lambton Baby Point (114)  Lambton Baby Point "
      ]
     },
     "execution_count": 13,
     "metadata": {},
     "output_type": "execute_result"
    }
   ],
   "source": [
    "crime[[\"Neighbourhood\",\"NeighbourName\"]].head()"
   ]
  },
  {
   "cell_type": "code",
   "execution_count": 14,
   "metadata": {},
   "outputs": [
    {
     "data": {
      "text/html": [
       "<div>\n",
       "<style scoped>\n",
       "    .dataframe tbody tr th:only-of-type {\n",
       "        vertical-align: middle;\n",
       "    }\n",
       "\n",
       "    .dataframe tbody tr th {\n",
       "        vertical-align: top;\n",
       "    }\n",
       "\n",
       "    .dataframe thead th {\n",
       "        text-align: right;\n",
       "    }\n",
       "</style>\n",
       "<table border=\"1\" class=\"dataframe\">\n",
       "  <thead>\n",
       "    <tr style=\"text-align: right;\">\n",
       "      <th></th>\n",
       "      <th>X</th>\n",
       "      <th>Y</th>\n",
       "      <th>Index_</th>\n",
       "      <th>event_unique_id</th>\n",
       "      <th>occurrencedate</th>\n",
       "      <th>reporteddate</th>\n",
       "      <th>premisetype</th>\n",
       "      <th>ucr_code</th>\n",
       "      <th>ucr_ext</th>\n",
       "      <th>offence</th>\n",
       "      <th>...</th>\n",
       "      <th>ObjectId</th>\n",
       "      <th>occdate</th>\n",
       "      <th>repdate</th>\n",
       "      <th>occtime</th>\n",
       "      <th>reptime</th>\n",
       "      <th>occyear</th>\n",
       "      <th>occmonth</th>\n",
       "      <th>occday</th>\n",
       "      <th>occhour</th>\n",
       "      <th>NeighbourName</th>\n",
       "    </tr>\n",
       "  </thead>\n",
       "  <tbody>\n",
       "    <tr>\n",
       "      <th>0</th>\n",
       "      <td>-79.343094</td>\n",
       "      <td>43.668449</td>\n",
       "      <td>214</td>\n",
       "      <td>GO-20141948968</td>\n",
       "      <td>2014-04-24T11:29:00.000Z</td>\n",
       "      <td>2014-04-24T12:46:00.000Z</td>\n",
       "      <td>Commercial</td>\n",
       "      <td>1610</td>\n",
       "      <td>200</td>\n",
       "      <td>Robbery - Mugging</td>\n",
       "      <td>...</td>\n",
       "      <td>1</td>\n",
       "      <td>2014-04-24</td>\n",
       "      <td>2014-04-24</td>\n",
       "      <td>11:29:00</td>\n",
       "      <td>12:46:00</td>\n",
       "      <td>2014</td>\n",
       "      <td>4</td>\n",
       "      <td>24</td>\n",
       "      <td>11</td>\n",
       "      <td>North Riverdale</td>\n",
       "    </tr>\n",
       "    <tr>\n",
       "      <th>514</th>\n",
       "      <td>-79.347199</td>\n",
       "      <td>43.671959</td>\n",
       "      <td>644</td>\n",
       "      <td>GO-20141889146</td>\n",
       "      <td>2014-04-14T12:35:00.000Z</td>\n",
       "      <td>2014-04-14T12:45:00.000Z</td>\n",
       "      <td>Apartment</td>\n",
       "      <td>1610</td>\n",
       "      <td>100</td>\n",
       "      <td>Robbery With Weapon</td>\n",
       "      <td>...</td>\n",
       "      <td>515</td>\n",
       "      <td>2014-04-14</td>\n",
       "      <td>2014-04-14</td>\n",
       "      <td>12:35:00</td>\n",
       "      <td>12:45:00</td>\n",
       "      <td>2014</td>\n",
       "      <td>4</td>\n",
       "      <td>14</td>\n",
       "      <td>12</td>\n",
       "      <td>North Riverdale</td>\n",
       "    </tr>\n",
       "    <tr>\n",
       "      <th>528</th>\n",
       "      <td>-79.357582</td>\n",
       "      <td>43.674801</td>\n",
       "      <td>658</td>\n",
       "      <td>GO-20141262377</td>\n",
       "      <td>2014-01-01T12:59:00.000Z</td>\n",
       "      <td>2014-01-01T12:59:00.000Z</td>\n",
       "      <td>House</td>\n",
       "      <td>1420</td>\n",
       "      <td>110</td>\n",
       "      <td>Assault Bodily Harm</td>\n",
       "      <td>...</td>\n",
       "      <td>529</td>\n",
       "      <td>2014-01-01</td>\n",
       "      <td>2014-01-01</td>\n",
       "      <td>12:59:00</td>\n",
       "      <td>12:59:00</td>\n",
       "      <td>2014</td>\n",
       "      <td>1</td>\n",
       "      <td>1</td>\n",
       "      <td>12</td>\n",
       "      <td>North Riverdale</td>\n",
       "    </tr>\n",
       "    <tr>\n",
       "      <th>760</th>\n",
       "      <td>-79.352623</td>\n",
       "      <td>43.665489</td>\n",
       "      <td>1015</td>\n",
       "      <td>GO-20142283551</td>\n",
       "      <td>2014-06-13T15:12:00.000Z</td>\n",
       "      <td>2014-06-13T16:01:00.000Z</td>\n",
       "      <td>Outside</td>\n",
       "      <td>1430</td>\n",
       "      <td>100</td>\n",
       "      <td>Assault</td>\n",
       "      <td>...</td>\n",
       "      <td>761</td>\n",
       "      <td>2014-06-13</td>\n",
       "      <td>2014-06-13</td>\n",
       "      <td>15:12:00</td>\n",
       "      <td>16:01:00</td>\n",
       "      <td>2014</td>\n",
       "      <td>6</td>\n",
       "      <td>13</td>\n",
       "      <td>15</td>\n",
       "      <td>North Riverdale</td>\n",
       "    </tr>\n",
       "    <tr>\n",
       "      <th>1253</th>\n",
       "      <td>-79.354340</td>\n",
       "      <td>43.665050</td>\n",
       "      <td>3005</td>\n",
       "      <td>GO-20142941034</td>\n",
       "      <td>2014-09-18T22:00:00.000Z</td>\n",
       "      <td>2014-09-19T15:27:00.000Z</td>\n",
       "      <td>Apartment</td>\n",
       "      <td>2120</td>\n",
       "      <td>200</td>\n",
       "      <td>B&amp;E</td>\n",
       "      <td>...</td>\n",
       "      <td>2254</td>\n",
       "      <td>2014-09-18</td>\n",
       "      <td>2014-09-19</td>\n",
       "      <td>22:00:00</td>\n",
       "      <td>15:27:00</td>\n",
       "      <td>2014</td>\n",
       "      <td>9</td>\n",
       "      <td>18</td>\n",
       "      <td>22</td>\n",
       "      <td>North Riverdale</td>\n",
       "    </tr>\n",
       "  </tbody>\n",
       "</table>\n",
       "<p>5 rows × 38 columns</p>\n",
       "</div>"
      ],
      "text/plain": [
       "              X          Y  Index_ event_unique_id            occurrencedate  \\\n",
       "0    -79.343094  43.668449     214  GO-20141948968  2014-04-24T11:29:00.000Z   \n",
       "514  -79.347199  43.671959     644  GO-20141889146  2014-04-14T12:35:00.000Z   \n",
       "528  -79.357582  43.674801     658  GO-20141262377  2014-01-01T12:59:00.000Z   \n",
       "760  -79.352623  43.665489    1015  GO-20142283551  2014-06-13T15:12:00.000Z   \n",
       "1253 -79.354340  43.665050    3005  GO-20142941034  2014-09-18T22:00:00.000Z   \n",
       "\n",
       "                  reporteddate premisetype  ucr_code  ucr_ext  \\\n",
       "0     2014-04-24T12:46:00.000Z  Commercial      1610      200   \n",
       "514   2014-04-14T12:45:00.000Z   Apartment      1610      100   \n",
       "528   2014-01-01T12:59:00.000Z       House      1420      110   \n",
       "760   2014-06-13T16:01:00.000Z     Outside      1430      100   \n",
       "1253  2014-09-19T15:27:00.000Z   Apartment      2120      200   \n",
       "\n",
       "                  offence  ...  ObjectId    occdate    repdate   occtime  \\\n",
       "0       Robbery - Mugging  ...         1 2014-04-24 2014-04-24  11:29:00   \n",
       "514   Robbery With Weapon  ...       515 2014-04-14 2014-04-14  12:35:00   \n",
       "528   Assault Bodily Harm  ...       529 2014-01-01 2014-01-01  12:59:00   \n",
       "760               Assault  ...       761 2014-06-13 2014-06-13  15:12:00   \n",
       "1253                  B&E  ...      2254 2014-09-18 2014-09-19  22:00:00   \n",
       "\n",
       "       reptime  occyear  occmonth occday  occhour    NeighbourName  \n",
       "0     12:46:00     2014         4     24       11  North Riverdale  \n",
       "514   12:45:00     2014         4     14       12  North Riverdale  \n",
       "528   12:59:00     2014         1      1       12  North Riverdale  \n",
       "760   16:01:00     2014         6     13       15  North Riverdale  \n",
       "1253  15:27:00     2014         9     18       22  North Riverdale  \n",
       "\n",
       "[5 rows x 38 columns]"
      ]
     },
     "execution_count": 14,
     "metadata": {},
     "output_type": "execute_result"
    }
   ],
   "source": [
    "crime[crime[\"NeighbourName\"]==\"North Riverdale\"].head()"
   ]
  },
  {
   "cell_type": "markdown",
   "metadata": {},
   "source": [
    "##### occurrencedayofweek"
   ]
  },
  {
   "cell_type": "code",
   "execution_count": 15,
   "metadata": {},
   "outputs": [],
   "source": [
    "dayofweek=crime.occurrencedayofweek.value_counts()"
   ]
  },
  {
   "cell_type": "code",
   "execution_count": 16,
   "metadata": {},
   "outputs": [
    {
     "data": {
      "text/plain": [
       "array([25442, 25187, 24284, 23439, 23262, 23083, 22779], dtype=int64)"
      ]
     },
     "execution_count": 16,
     "metadata": {},
     "output_type": "execute_result"
    }
   ],
   "source": [
    "dayofweek.values"
   ]
  },
  {
   "cell_type": "code",
   "execution_count": 17,
   "metadata": {},
   "outputs": [
    {
     "data": {
      "image/png": "[encoded data removed]",
      "text/plain": [
       "<Figure size 432x288 with 1 Axes>"
      ]
     },
     "metadata": {
      "needs_background": "light"
     },
     "output_type": "display_data"
    }
   ],
   "source": [
    "import seaborn as sns\n",
    "import pylab as pl\n",
    "sns.barplot(dayofweek.index, dayofweek.values)\n",
    "pl.xticks(rotation = 90)\n",
    "plt.title('Number of crimes by day of the week')\n",
    "plt.ylabel('Number of crimes', fontsize=12)\n",
    "plt.xlabel('Day of the week', fontsize=12)\n",
    "plt.show()"
   ]
  },
  {
   "cell_type": "code",
   "execution_count": 18,
   "metadata": {},
   "outputs": [
    {
     "data": {
      "image/png": "[encoded data removed]",
      "text/plain": [
       "<Figure size 432x288 with 1 Axes>"
      ]
     },
     "metadata": {
      "needs_background": "light"
     },
     "output_type": "display_data"
    }
   ],
   "source": [
    "monthofyear=crime.occurrencemonth.value_counts()\n",
    "sns.barplot(monthofyear.index, monthofyear.values)\n",
    "#import pylab as pl\n",
    "pl.xticks(rotation = 90)\n",
    "plt.title('Number of crimes by month of the year')\n",
    "plt.ylabel('Number of crimes', fontsize=12)\n",
    "plt.xlabel('Month of the year', fontsize=12)\n",
    "plt.show()"
   ]
  },
  {
   "cell_type": "markdown",
   "metadata": {},
   "source": [
    "##### premisetype"
   ]
  },
  {
   "cell_type": "code",
   "execution_count": 19,
   "metadata": {},
   "outputs": [
    {
     "data": {
      "image/png": "[encoded data removed]",
      "text/plain": [
       "<Figure size 432x288 with 1 Axes>"
      ]
     },
     "metadata": {
      "needs_background": "light"
     },
     "output_type": "display_data"
    }
   ],
   "source": [
    "premise=crime.premisetype.value_counts()\n",
    "sns.barplot(premise.index, premise.values)\n",
    "import pylab as pl\n",
    "pl.xticks(rotation = 90)\n",
    "plt.title('Number of crimes by premise')\n",
    "plt.ylabel('Number of crimes', fontsize=12)\n",
    "plt.xlabel('Premise', fontsize=12)\n",
    "plt.show()"
   ]
  },
  {
   "cell_type": "markdown",
   "metadata": {},
   "source": [
    "##### offence"
   ]
  },
  {
   "cell_type": "code",
   "execution_count": 20,
   "metadata": {},
   "outputs": [
    {
     "data": {
      "image/png": "[encoded data removed]",
      "text/plain": [
       "<Figure size 432x288 with 1 Axes>"
      ]
     },
     "metadata": {
      "needs_background": "light"
     },
     "output_type": "display_data"
    }
   ],
   "source": [
    "offence=crime.offence.value_counts()\n",
    "sns.barplot(offence.index, offence.values)\n",
    "#import pylab as pl\n",
    "#plt.figure(figsize=(20,20))\n",
    "pl.xticks(rotation = 90)\n",
    "plt.title('Number of crimes by Offence')\n",
    "plt.ylabel('Number of crimes', fontsize=12)\n",
    "plt.xlabel('Offence', fontsize=12)\n",
    "plt.show()"
   ]
  },
  {
   "cell_type": "code",
   "execution_count": 21,
   "metadata": {},
   "outputs": [
    {
     "data": {
      "image/png": "[encoded data removed]",
      "text/plain": [
       "<Figure size 432x288 with 1 Axes>"
      ]
     },
     "metadata": {
      "needs_background": "light"
     },
     "output_type": "display_data"
    }
   ],
   "source": [
    "MCI=crime.MCI.value_counts()\n",
    "sns.barplot(MCI.index, MCI.values)\n",
    "#import pylab as pl\n",
    "pl.xticks(rotation = 90)\n",
    "plt.title('Number of crimes by MCI')\n",
    "plt.ylabel('Number of crimes', fontsize=12)\n",
    "plt.xlabel('MCI', fontsize=12)\n",
    "plt.show()"
   ]
  },
  {
   "cell_type": "code",
   "execution_count": 22,
   "metadata": {},
   "outputs": [
    {
     "data": {
      "image/png": "[encoded data removed]",
      "text/plain": [
       "<Figure size 432x288 with 1 Axes>"
      ]
     },
     "metadata": {
      "needs_background": "light"
     },
     "output_type": "display_data"
    }
   ],
   "source": [
    "hourofday=crime.occurrencehour.value_counts()\n",
    "sns.barplot(hourofday.index, hourofday.values)\n",
    "#import pylab as pl\n",
    "#pl.xticks(rotation = 90)\n",
    "plt.title('Number of crimes by Hour of the Day')\n",
    "plt.ylabel('Number of crimes', fontsize=12)\n",
    "plt.xlabel('Hour of the Day', fontsize=12)\n",
    "plt.show()"
   ]
  },
  {
   "cell_type": "markdown",
   "metadata": {},
   "source": [
    "### 3.2 Import the postalcodes for Toronto neighbourhoods from Wikipedia"
   ]
  },
  {
   "cell_type": "markdown",
   "metadata": {},
   "source": [
    "#### First Postal codes and corresponding Latitude and Longitude data"
   ]
  },
  {
   "cell_type": "code",
   "execution_count": 23,
   "metadata": {},
   "outputs": [
    {
     "name": "stdout",
     "output_type": "stream",
     "text": [
      "Done\n"
     ]
    }
   ],
   "source": [
    "\n",
    "LandLfile = 'http://cocl.us/Geospatial_data'\n",
    "Col_headers = [\"Postcode\",\"Latitude\",\"Longitude\"]  # \n",
    "\n",
    "df_Geo_Toronto = pd.read_csv(LandLfile,names=Col_headers,skiprows=1)  # getting the L& L data\n",
    "print(\"Done\")"
   ]
  },
  {
   "cell_type": "code",
   "execution_count": 24,
   "metadata": {},
   "outputs": [
    {
     "data": {
      "text/html": [
       "<div>\n",
       "<style scoped>\n",
       "    .dataframe tbody tr th:only-of-type {\n",
       "        vertical-align: middle;\n",
       "    }\n",
       "\n",
       "    .dataframe tbody tr th {\n",
       "        vertical-align: top;\n",
       "    }\n",
       "\n",
       "    .dataframe thead th {\n",
       "        text-align: right;\n",
       "    }\n",
       "</style>\n",
       "<table border=\"1\" class=\"dataframe\">\n",
       "  <thead>\n",
       "    <tr style=\"text-align: right;\">\n",
       "      <th></th>\n",
       "      <th>Postcode</th>\n",
       "      <th>Latitude</th>\n",
       "      <th>Longitude</th>\n",
       "    </tr>\n",
       "  </thead>\n",
       "  <tbody>\n",
       "    <tr>\n",
       "      <th>0</th>\n",
       "      <td>M1B</td>\n",
       "      <td>43.806686</td>\n",
       "      <td>-79.194353</td>\n",
       "    </tr>\n",
       "    <tr>\n",
       "      <th>1</th>\n",
       "      <td>M1C</td>\n",
       "      <td>43.784535</td>\n",
       "      <td>-79.160497</td>\n",
       "    </tr>\n",
       "    <tr>\n",
       "      <th>2</th>\n",
       "      <td>M1E</td>\n",
       "      <td>43.763573</td>\n",
       "      <td>-79.188711</td>\n",
       "    </tr>\n",
       "    <tr>\n",
       "      <th>3</th>\n",
       "      <td>M1G</td>\n",
       "      <td>43.770992</td>\n",
       "      <td>-79.216917</td>\n",
       "    </tr>\n",
       "    <tr>\n",
       "      <th>4</th>\n",
       "      <td>M1H</td>\n",
       "      <td>43.773136</td>\n",
       "      <td>-79.239476</td>\n",
       "    </tr>\n",
       "  </tbody>\n",
       "</table>\n",
       "</div>"
      ],
      "text/plain": [
       "  Postcode   Latitude  Longitude\n",
       "0      M1B  43.806686 -79.194353\n",
       "1      M1C  43.784535 -79.160497\n",
       "2      M1E  43.763573 -79.188711\n",
       "3      M1G  43.770992 -79.216917\n",
       "4      M1H  43.773136 -79.239476"
      ]
     },
     "execution_count": 24,
     "metadata": {},
     "output_type": "execute_result"
    }
   ],
   "source": [
    "df_Geo_Toronto.head()"
   ]
  },
  {
   "cell_type": "markdown",
   "metadata": {},
   "source": [
    "#### Now get the neighbourhood names and corresponding postal codes from Wikipedia"
   ]
  },
  {
   "cell_type": "code",
   "execution_count": 25,
   "metadata": {},
   "outputs": [],
   "source": [
    "url='https://en.wikipedia.org/wiki/List_of_postal_codes_of_Canada:_M'  # URL of the target wikipedia page"
   ]
  },
  {
   "cell_type": "code",
   "execution_count": 26,
   "metadata": {},
   "outputs": [],
   "source": [
    "import requests # Need to get wikipedia contents\n",
    "from bs4 import BeautifulSoup  # import Beautifulsoup # Get BeautifulSoup package\n",
    "import lxml.html as lxml"
   ]
  },
  {
   "cell_type": "code",
   "execution_count": 27,
   "metadata": {},
   "outputs": [],
   "source": [
    "# Using BeautifulSoup to scrape the wikipedia page\n",
    "website_URL=requests.get(url).text\n",
    "#website_URL"
   ]
  },
  {
   "cell_type": "code",
   "execution_count": 28,
   "metadata": {},
   "outputs": [],
   "source": [
    "#Create \n",
    "soup = BeautifulSoup(website_URL,\"lxml\")"
   ]
  },
  {
   "cell_type": "code",
   "execution_count": null,
   "metadata": {},
   "outputs": [],
   "source": [
    "print(soup.prettify())"
   ]
  },
  {
   "cell_type": "code",
   "execution_count": 30,
   "metadata": {},
   "outputs": [],
   "source": [
    "Table = soup.find(\"table\",{\"class\":\"wikitable sortable\"}) \n",
    "\n",
    "#Create a handle, page, to handle the contents of the website\n",
    "page = requests.get(url)\n",
    "\n",
    "#Store the contents of the website under doc\n",
    "doc = lxml.fromstring(page.content)"
   ]
  },
  {
   "cell_type": "code",
   "execution_count": 31,
   "metadata": {},
   "outputs": [
    {
     "data": {
      "text/plain": [
       "<Element html at 0x1cdcdd39318>"
      ]
     },
     "execution_count": 31,
     "metadata": {},
     "output_type": "execute_result"
    }
   ],
   "source": [
    "doc"
   ]
  },
  {
   "cell_type": "code",
   "execution_count": 32,
   "metadata": {},
   "outputs": [],
   "source": [
    "withlink=Table.findAll('a')"
   ]
  },
  {
   "cell_type": "code",
   "execution_count": 33,
   "metadata": {},
   "outputs": [],
   "source": [
    "#Parse data that are stored between <tr>..</tr> of HTML\n",
    "tr_elements = doc.xpath('//tr')\n",
    "#Check the length of the first 12 rows\n",
    "[len(T) for T in tr_elements[:12]]\n",
    "tr_elements = doc.xpath('//tr')"
   ]
  },
  {
   "cell_type": "code",
   "execution_count": 34,
   "metadata": {},
   "outputs": [
    {
     "data": {
      "text/plain": [
       "[<Element tr at 0x1cdd6cc5318>,\n",
       " <Element tr at 0x1cdd6cc5408>,\n",
       " <Element tr at 0x1cdd6cc5868>,\n",
       " <Element tr at 0x1cdd6cc58b8>]"
      ]
     },
     "execution_count": 34,
     "metadata": {},
     "output_type": "execute_result"
    }
   ],
   "source": [
    "tr_elements[1:5]"
   ]
  },
  {
   "cell_type": "code",
   "execution_count": 35,
   "metadata": {},
   "outputs": [
    {
     "name": "stdout",
     "output_type": "stream",
     "text": [
      "1:\"Postcode\"\n",
      "2:\"Borough\"\n",
      "3:\"Neighbourhood\n",
      "\"\n"
     ]
    }
   ],
   "source": [
    "#Create empty list\n",
    "Dict=[]\n",
    "col=[]\n",
    "i=0\n",
    "\n",
    "#For the first row, store each first element (header) and an empty list\n",
    "for t in tr_elements[0]:\n",
    "    i+=1\n",
    "    name=t.text_content()\n",
    "    print ('%d:\"%s\"'%(i,name))\n",
    "    col.append((name,[]))"
   ]
  },
  {
   "cell_type": "code",
   "execution_count": 36,
   "metadata": {},
   "outputs": [],
   "source": [
    "#first row is the header, data is stored on the second row onwards\n",
    "for j in range(1,len(tr_elements)):\n",
    "    #T is our j'th row\n",
    "    T=tr_elements[j]\n",
    "    \n",
    "    #If row is not of size 3, the //tr data is not from our table \n",
    "    if len(T)!=3:\n",
    "        break\n",
    "    \n",
    "    #i is the index of our column\n",
    "    i=0\n",
    "    \n",
    "    #Iterate through each element of the row\n",
    "    for t in T.iterchildren():\n",
    "        data=t.text_content() \n",
    "        #Check if row is empty\n",
    "        if i>0:\n",
    "        #Convert any numerical value to integers\n",
    "            try:\n",
    "                data=int(data)\n",
    "            except:\n",
    "                pass\n",
    "        #Append the data to the empty list of the i'th column\n",
    "        col[i][1].append(data)\n",
    "        #Increment i for the next column\n",
    "        i+=1    \n",
    "[len(C) for (title,C) in col]\n",
    "Dict={title:column for (title,column) in col}   # Dictionary with Postcodes, Borough and Neighbourhoods\n",
    "df=pd.DataFrame(Dict)  # Creating the pandas Dataframe using the dictionary values"
   ]
  },
  {
   "cell_type": "code",
   "execution_count": 37,
   "metadata": {},
   "outputs": [
    {
     "data": {
      "text/html": [
       "<div>\n",
       "<style scoped>\n",
       "    .dataframe tbody tr th:only-of-type {\n",
       "        vertical-align: middle;\n",
       "    }\n",
       "\n",
       "    .dataframe tbody tr th {\n",
       "        vertical-align: top;\n",
       "    }\n",
       "\n",
       "    .dataframe thead th {\n",
       "        text-align: right;\n",
       "    }\n",
       "</style>\n",
       "<table border=\"1\" class=\"dataframe\">\n",
       "  <thead>\n",
       "    <tr style=\"text-align: right;\">\n",
       "      <th></th>\n",
       "      <th>Postcode</th>\n",
       "      <th>Borough</th>\n",
       "      <th>Neighbourhood</th>\n",
       "    </tr>\n",
       "  </thead>\n",
       "  <tbody>\n",
       "    <tr>\n",
       "      <th>0</th>\n",
       "      <td>M1A</td>\n",
       "      <td>Not assigned</td>\n",
       "      <td>Not assigned\\n</td>\n",
       "    </tr>\n",
       "    <tr>\n",
       "      <th>1</th>\n",
       "      <td>M2A</td>\n",
       "      <td>Not assigned</td>\n",
       "      <td>Not assigned\\n</td>\n",
       "    </tr>\n",
       "    <tr>\n",
       "      <th>2</th>\n",
       "      <td>M3A</td>\n",
       "      <td>North York</td>\n",
       "      <td>Parkwoods\\n</td>\n",
       "    </tr>\n",
       "    <tr>\n",
       "      <th>3</th>\n",
       "      <td>M4A</td>\n",
       "      <td>North York</td>\n",
       "      <td>Victoria Village\\n</td>\n",
       "    </tr>\n",
       "    <tr>\n",
       "      <th>4</th>\n",
       "      <td>M5A</td>\n",
       "      <td>Downtown Toronto</td>\n",
       "      <td>Harbourfront\\n</td>\n",
       "    </tr>\n",
       "  </tbody>\n",
       "</table>\n",
       "</div>"
      ],
      "text/plain": [
       "  Postcode           Borough     Neighbourhood\\n\n",
       "0      M1A      Not assigned      Not assigned\\n\n",
       "1      M2A      Not assigned      Not assigned\\n\n",
       "2      M3A        North York         Parkwoods\\n\n",
       "3      M4A        North York  Victoria Village\\n\n",
       "4      M5A  Downtown Toronto      Harbourfront\\n"
      ]
     },
     "execution_count": 37,
     "metadata": {},
     "output_type": "execute_result"
    }
   ],
   "source": [
    "df.head()"
   ]
  },
  {
   "cell_type": "code",
   "execution_count": 38,
   "metadata": {},
   "outputs": [
    {
     "data": {
      "text/plain": [
       "Index(['Postcode', 'Borough', 'Neighbourhood\\n'], dtype='object')"
      ]
     },
     "execution_count": 38,
     "metadata": {},
     "output_type": "execute_result"
    }
   ],
   "source": [
    "df.columns"
   ]
  },
  {
   "cell_type": "code",
   "execution_count": 39,
   "metadata": {},
   "outputs": [],
   "source": [
    "df_Borough=df[df.Borough != 'Not assigned']   # get rid of \"Not assigned\" boroughs"
   ]
  },
  {
   "cell_type": "code",
   "execution_count": 40,
   "metadata": {},
   "outputs": [
    {
     "data": {
      "text/html": [
       "<div>\n",
       "<style scoped>\n",
       "    .dataframe tbody tr th:only-of-type {\n",
       "        vertical-align: middle;\n",
       "    }\n",
       "\n",
       "    .dataframe tbody tr th {\n",
       "        vertical-align: top;\n",
       "    }\n",
       "\n",
       "    .dataframe thead th {\n",
       "        text-align: right;\n",
       "    }\n",
       "</style>\n",
       "<table border=\"1\" class=\"dataframe\">\n",
       "  <thead>\n",
       "    <tr style=\"text-align: right;\">\n",
       "      <th></th>\n",
       "      <th>Postcode</th>\n",
       "      <th>Borough</th>\n",
       "      <th>Neighbourhood</th>\n",
       "    </tr>\n",
       "  </thead>\n",
       "  <tbody>\n",
       "    <tr>\n",
       "      <th>2</th>\n",
       "      <td>M3A</td>\n",
       "      <td>North York</td>\n",
       "      <td>Parkwoods\\n</td>\n",
       "    </tr>\n",
       "    <tr>\n",
       "      <th>3</th>\n",
       "      <td>M4A</td>\n",
       "      <td>North York</td>\n",
       "      <td>Victoria Village\\n</td>\n",
       "    </tr>\n",
       "    <tr>\n",
       "      <th>4</th>\n",
       "      <td>M5A</td>\n",
       "      <td>Downtown Toronto</td>\n",
       "      <td>Harbourfront\\n</td>\n",
       "    </tr>\n",
       "    <tr>\n",
       "      <th>5</th>\n",
       "      <td>M5A</td>\n",
       "      <td>Downtown Toronto</td>\n",
       "      <td>Regent Park\\n</td>\n",
       "    </tr>\n",
       "    <tr>\n",
       "      <th>6</th>\n",
       "      <td>M6A</td>\n",
       "      <td>North York</td>\n",
       "      <td>Lawrence Heights\\n</td>\n",
       "    </tr>\n",
       "  </tbody>\n",
       "</table>\n",
       "</div>"
      ],
      "text/plain": [
       "  Postcode           Borough     Neighbourhood\\n\n",
       "2      M3A        North York         Parkwoods\\n\n",
       "3      M4A        North York  Victoria Village\\n\n",
       "4      M5A  Downtown Toronto      Harbourfront\\n\n",
       "5      M5A  Downtown Toronto       Regent Park\\n\n",
       "6      M6A        North York  Lawrence Heights\\n"
      ]
     },
     "execution_count": 40,
     "metadata": {},
     "output_type": "execute_result"
    }
   ],
   "source": [
    "df_Borough.head()"
   ]
  },
  {
   "cell_type": "code",
   "execution_count": 41,
   "metadata": {},
   "outputs": [
    {
     "data": {
      "text/html": [
       "<div>\n",
       "<style scoped>\n",
       "    .dataframe tbody tr th:only-of-type {\n",
       "        vertical-align: middle;\n",
       "    }\n",
       "\n",
       "    .dataframe tbody tr th {\n",
       "        vertical-align: top;\n",
       "    }\n",
       "\n",
       "    .dataframe thead th {\n",
       "        text-align: right;\n",
       "    }\n",
       "</style>\n",
       "<table border=\"1\" class=\"dataframe\">\n",
       "  <thead>\n",
       "    <tr style=\"text-align: right;\">\n",
       "      <th></th>\n",
       "      <th>Postcode</th>\n",
       "      <th>Borough</th>\n",
       "      <th>Neighbourhood</th>\n",
       "    </tr>\n",
       "  </thead>\n",
       "  <tbody>\n",
       "    <tr>\n",
       "      <th>0</th>\n",
       "      <td>M1A</td>\n",
       "      <td>Not assigned</td>\n",
       "      <td>Not assigned\\n</td>\n",
       "    </tr>\n",
       "    <tr>\n",
       "      <th>1</th>\n",
       "      <td>M2A</td>\n",
       "      <td>Not assigned</td>\n",
       "      <td>Not assigned\\n</td>\n",
       "    </tr>\n",
       "    <tr>\n",
       "      <th>2</th>\n",
       "      <td>M3A</td>\n",
       "      <td>North York</td>\n",
       "      <td>Parkwoods\\n</td>\n",
       "    </tr>\n",
       "    <tr>\n",
       "      <th>3</th>\n",
       "      <td>M4A</td>\n",
       "      <td>North York</td>\n",
       "      <td>Victoria Village\\n</td>\n",
       "    </tr>\n",
       "    <tr>\n",
       "      <th>4</th>\n",
       "      <td>M5A</td>\n",
       "      <td>Downtown Toronto</td>\n",
       "      <td>Harbourfront\\n</td>\n",
       "    </tr>\n",
       "  </tbody>\n",
       "</table>\n",
       "</div>"
      ],
      "text/plain": [
       "  Postcode           Borough     Neighbourhood\\n\n",
       "0      M1A      Not assigned      Not assigned\\n\n",
       "1      M2A      Not assigned      Not assigned\\n\n",
       "2      M3A        North York         Parkwoods\\n\n",
       "3      M4A        North York  Victoria Village\\n\n",
       "4      M5A  Downtown Toronto      Harbourfront\\n"
      ]
     },
     "execution_count": 41,
     "metadata": {},
     "output_type": "execute_result"
    }
   ],
   "source": [
    "df.head()"
   ]
  },
  {
   "cell_type": "code",
   "execution_count": 42,
   "metadata": {},
   "outputs": [],
   "source": [
    "df_Borough.columns = ['Postcode', 'Borough', 'Neighbourhood']"
   ]
  },
  {
   "cell_type": "code",
   "execution_count": 43,
   "metadata": {},
   "outputs": [
    {
     "name": "stderr",
     "output_type": "stream",
     "text": [
      "C:\\Users\\lujing\\AppData\\Local\\Continuum\\anaconda3\\lib\\site-packages\\ipykernel_launcher.py:1: SettingWithCopyWarning: \n",
      "A value is trying to be set on a copy of a slice from a DataFrame.\n",
      "Try using .loc[row_indexer,col_indexer] = value instead\n",
      "\n",
      "See the caveats in the documentation: http://pandas.pydata.org/pandas-docs/stable/indexing.html#indexing-view-versus-copy\n",
      "  \"\"\"Entry point for launching an IPython kernel.\n"
     ]
    },
    {
     "data": {
      "text/plain": [
       "2           Parkwoods\n",
       "3    Victoria Village\n",
       "4        Harbourfront\n",
       "5         Regent Park\n",
       "6    Lawrence Heights\n",
       "Name: Neighbourhood, dtype: object"
      ]
     },
     "execution_count": 43,
     "metadata": {},
     "output_type": "execute_result"
    }
   ],
   "source": [
    "df_Borough[\"Neighbourhood\"]=df_Borough.Neighbourhood.str.slice(0,-1)\n",
    "df_Borough['Neighbourhood'].head()"
   ]
  },
  {
   "cell_type": "code",
   "execution_count": 44,
   "metadata": {},
   "outputs": [
    {
     "name": "stderr",
     "output_type": "stream",
     "text": [
      "C:\\Users\\lujing\\AppData\\Local\\Continuum\\anaconda3\\lib\\site-packages\\pandas\\core\\indexing.py:190: SettingWithCopyWarning: \n",
      "A value is trying to be set on a copy of a slice from a DataFrame\n",
      "\n",
      "See the caveats in the documentation: http://pandas.pydata.org/pandas-docs/stable/indexing.html#indexing-view-versus-copy\n",
      "  self._setitem_with_indexer(indexer, value)\n",
      "C:\\Users\\lujing\\AppData\\Local\\Continuum\\anaconda3\\lib\\site-packages\\ipykernel_launcher.py:1: SettingWithCopyWarning: \n",
      "A value is trying to be set on a copy of a slice from a DataFrame\n",
      "\n",
      "See the caveats in the documentation: http://pandas.pydata.org/pandas-docs/stable/indexing.html#indexing-view-versus-copy\n",
      "  \"\"\"Entry point for launching an IPython kernel.\n"
     ]
    }
   ],
   "source": [
    "df_Borough.loc[df_Borough.Neighbourhood == 'Not assigned', 'Neighbourhood'] = df_Borough.Borough"
   ]
  },
  {
   "cell_type": "code",
   "execution_count": 45,
   "metadata": {},
   "outputs": [],
   "source": [
    "df_new=df_Borough.groupby('Postcode', sort=False)['Neighbourhood'].apply(','.join)  # group neighbourhoods by Postcode"
   ]
  },
  {
   "cell_type": "code",
   "execution_count": 46,
   "metadata": {},
   "outputs": [],
   "source": [
    "df_new_FINAL=pd.DataFrame({'Postcode':df_new.index, 'df_new':df_new.values})\n",
    "df_new_F=df_new_FINAL.rename(columns={ df_new_FINAL.columns[1]: \"Neighbourhood\" })\n",
    "df_N=df_new_F['Neighbourhood'].tolist() # create a neighbourhood list"
   ]
  },
  {
   "cell_type": "code",
   "execution_count": 47,
   "metadata": {},
   "outputs": [],
   "source": [
    "df_Borough_BONLY=df_Borough['Borough'] # create a Borough lit\n",
    "df_Borough_PONLY=df_Borough['Postcode'] # create a postcode list"
   ]
  },
  {
   "cell_type": "code",
   "execution_count": 48,
   "metadata": {},
   "outputs": [],
   "source": [
    "df_Borough_BandP=pd.concat([df_Borough_PONLY, df_Borough_BONLY], axis=1)\n",
    "df_Borough_BandP_new = df_Borough_BandP.drop_duplicates(subset=['Postcode','Borough'])  # drop duplicates"
   ]
  },
  {
   "cell_type": "code",
   "execution_count": 49,
   "metadata": {},
   "outputs": [],
   "source": [
    "df_P=df_Borough_BandP_new['Postcode'].tolist() # refined lists\n",
    "df_B=df_Borough_BandP_new['Borough'].tolist() # refined lists"
   ]
  },
  {
   "cell_type": "code",
   "execution_count": 50,
   "metadata": {},
   "outputs": [
    {
     "data": {
      "text/html": [
       "<div>\n",
       "<style scoped>\n",
       "    .dataframe tbody tr th:only-of-type {\n",
       "        vertical-align: middle;\n",
       "    }\n",
       "\n",
       "    .dataframe tbody tr th {\n",
       "        vertical-align: top;\n",
       "    }\n",
       "\n",
       "    .dataframe thead th {\n",
       "        text-align: right;\n",
       "    }\n",
       "</style>\n",
       "<table border=\"1\" class=\"dataframe\">\n",
       "  <thead>\n",
       "    <tr style=\"text-align: right;\">\n",
       "      <th></th>\n",
       "      <th>Postcode</th>\n",
       "      <th>Borough</th>\n",
       "      <th>Neighbourhood</th>\n",
       "    </tr>\n",
       "  </thead>\n",
       "  <tbody>\n",
       "    <tr>\n",
       "      <th>0</th>\n",
       "      <td>M3A</td>\n",
       "      <td>North York</td>\n",
       "      <td>Parkwoods</td>\n",
       "    </tr>\n",
       "    <tr>\n",
       "      <th>1</th>\n",
       "      <td>M4A</td>\n",
       "      <td>North York</td>\n",
       "      <td>Victoria Village</td>\n",
       "    </tr>\n",
       "    <tr>\n",
       "      <th>2</th>\n",
       "      <td>M5A</td>\n",
       "      <td>Downtown Toronto</td>\n",
       "      <td>Harbourfront,Regent Park</td>\n",
       "    </tr>\n",
       "    <tr>\n",
       "      <th>3</th>\n",
       "      <td>M6A</td>\n",
       "      <td>North York</td>\n",
       "      <td>Lawrence Heights,Lawrence Manor</td>\n",
       "    </tr>\n",
       "    <tr>\n",
       "      <th>4</th>\n",
       "      <td>M7A</td>\n",
       "      <td>Queen's Park</td>\n",
       "      <td>Queen's Park</td>\n",
       "    </tr>\n",
       "  </tbody>\n",
       "</table>\n",
       "</div>"
      ],
      "text/plain": [
       "  Postcode           Borough                    Neighbourhood\n",
       "0      M3A        North York                        Parkwoods\n",
       "1      M4A        North York                 Victoria Village\n",
       "2      M5A  Downtown Toronto         Harbourfront,Regent Park\n",
       "3      M6A        North York  Lawrence Heights,Lawrence Manor\n",
       "4      M7A      Queen's Park                     Queen's Park"
      ]
     },
     "execution_count": 50,
     "metadata": {},
     "output_type": "execute_result"
    }
   ],
   "source": [
    "Toronto_DICT= {'Postcode':df_P,'Borough':df_B, 'Neighbourhood':df_N} # Create a dictionary with the 3 refined lists\n",
    "Toronto_df=pd.DataFrame(Toronto_DICT) # create the dataframe\n",
    "# \"List of Postcodes, Boroughs, & Neighbourhoods in TORONTO FOR 103 POSTCODES\"\n",
    "Toronto_df.head()"
   ]
  },
  {
   "cell_type": "markdown",
   "metadata": {},
   "source": [
    "##### Now link the geo-codes and neighbourhood data"
   ]
  },
  {
   "cell_type": "code",
   "execution_count": 51,
   "metadata": {},
   "outputs": [],
   "source": [
    "df_Neighbour_FINAL=pd.merge(Toronto_df, df_Geo_Toronto, on='Postcode', how='inner')  # merging the dataframes to get the L & L data annexed to the earlier DataFrame"
   ]
  },
  {
   "cell_type": "code",
   "execution_count": 52,
   "metadata": {},
   "outputs": [
    {
     "data": {
      "text/html": [
       "<div>\n",
       "<style scoped>\n",
       "    .dataframe tbody tr th:only-of-type {\n",
       "        vertical-align: middle;\n",
       "    }\n",
       "\n",
       "    .dataframe tbody tr th {\n",
       "        vertical-align: top;\n",
       "    }\n",
       "\n",
       "    .dataframe thead th {\n",
       "        text-align: right;\n",
       "    }\n",
       "</style>\n",
       "<table border=\"1\" class=\"dataframe\">\n",
       "  <thead>\n",
       "    <tr style=\"text-align: right;\">\n",
       "      <th></th>\n",
       "      <th>Postcode</th>\n",
       "      <th>Borough</th>\n",
       "      <th>Neighbourhood</th>\n",
       "      <th>Latitude</th>\n",
       "      <th>Longitude</th>\n",
       "    </tr>\n",
       "  </thead>\n",
       "  <tbody>\n",
       "    <tr>\n",
       "      <th>0</th>\n",
       "      <td>M3A</td>\n",
       "      <td>North York</td>\n",
       "      <td>Parkwoods</td>\n",
       "      <td>43.753259</td>\n",
       "      <td>-79.329656</td>\n",
       "    </tr>\n",
       "    <tr>\n",
       "      <th>1</th>\n",
       "      <td>M4A</td>\n",
       "      <td>North York</td>\n",
       "      <td>Victoria Village</td>\n",
       "      <td>43.725882</td>\n",
       "      <td>-79.315572</td>\n",
       "    </tr>\n",
       "    <tr>\n",
       "      <th>2</th>\n",
       "      <td>M5A</td>\n",
       "      <td>Downtown Toronto</td>\n",
       "      <td>Harbourfront,Regent Park</td>\n",
       "      <td>43.654260</td>\n",
       "      <td>-79.360636</td>\n",
       "    </tr>\n",
       "    <tr>\n",
       "      <th>3</th>\n",
       "      <td>M6A</td>\n",
       "      <td>North York</td>\n",
       "      <td>Lawrence Heights,Lawrence Manor</td>\n",
       "      <td>43.718518</td>\n",
       "      <td>-79.464763</td>\n",
       "    </tr>\n",
       "    <tr>\n",
       "      <th>4</th>\n",
       "      <td>M7A</td>\n",
       "      <td>Queen's Park</td>\n",
       "      <td>Queen's Park</td>\n",
       "      <td>43.662301</td>\n",
       "      <td>-79.389494</td>\n",
       "    </tr>\n",
       "  </tbody>\n",
       "</table>\n",
       "</div>"
      ],
      "text/plain": [
       "  Postcode           Borough                    Neighbourhood   Latitude  \\\n",
       "0      M3A        North York                        Parkwoods  43.753259   \n",
       "1      M4A        North York                 Victoria Village  43.725882   \n",
       "2      M5A  Downtown Toronto         Harbourfront,Regent Park  43.654260   \n",
       "3      M6A        North York  Lawrence Heights,Lawrence Manor  43.718518   \n",
       "4      M7A      Queen's Park                     Queen's Park  43.662301   \n",
       "\n",
       "   Longitude  \n",
       "0 -79.329656  \n",
       "1 -79.315572  \n",
       "2 -79.360636  \n",
       "3 -79.464763  \n",
       "4 -79.389494  "
      ]
     },
     "execution_count": 52,
     "metadata": {},
     "output_type": "execute_result"
    }
   ],
   "source": [
    "df_Neighbour_FINAL.head()"
   ]
  },
  {
   "cell_type": "code",
   "execution_count": 53,
   "metadata": {},
   "outputs": [
    {
     "data": {
      "text/html": [
       "<div>\n",
       "<style scoped>\n",
       "    .dataframe tbody tr th:only-of-type {\n",
       "        vertical-align: middle;\n",
       "    }\n",
       "\n",
       "    .dataframe tbody tr th {\n",
       "        vertical-align: top;\n",
       "    }\n",
       "\n",
       "    .dataframe thead th {\n",
       "        text-align: right;\n",
       "    }\n",
       "</style>\n",
       "<table border=\"1\" class=\"dataframe\">\n",
       "  <thead>\n",
       "    <tr style=\"text-align: right;\">\n",
       "      <th></th>\n",
       "      <th>Postcode</th>\n",
       "      <th>Borough</th>\n",
       "      <th>Neighbourhood</th>\n",
       "      <th>Latitude</th>\n",
       "      <th>Longitude</th>\n",
       "    </tr>\n",
       "  </thead>\n",
       "  <tbody>\n",
       "    <tr>\n",
       "      <th>2</th>\n",
       "      <td>M5A</td>\n",
       "      <td>Downtown Toronto</td>\n",
       "      <td>Harbourfront,Regent Park</td>\n",
       "      <td>43.654260</td>\n",
       "      <td>-79.360636</td>\n",
       "    </tr>\n",
       "    <tr>\n",
       "      <th>9</th>\n",
       "      <td>M5B</td>\n",
       "      <td>Downtown Toronto</td>\n",
       "      <td>Ryerson,Garden District</td>\n",
       "      <td>43.657162</td>\n",
       "      <td>-79.378937</td>\n",
       "    </tr>\n",
       "    <tr>\n",
       "      <th>15</th>\n",
       "      <td>M5C</td>\n",
       "      <td>Downtown Toronto</td>\n",
       "      <td>St. James Town</td>\n",
       "      <td>43.651494</td>\n",
       "      <td>-79.375418</td>\n",
       "    </tr>\n",
       "    <tr>\n",
       "      <th>19</th>\n",
       "      <td>M4E</td>\n",
       "      <td>East Toronto</td>\n",
       "      <td>The Beaches</td>\n",
       "      <td>43.676357</td>\n",
       "      <td>-79.293031</td>\n",
       "    </tr>\n",
       "    <tr>\n",
       "      <th>20</th>\n",
       "      <td>M5E</td>\n",
       "      <td>Downtown Toronto</td>\n",
       "      <td>Berczy Park</td>\n",
       "      <td>43.644771</td>\n",
       "      <td>-79.373306</td>\n",
       "    </tr>\n",
       "  </tbody>\n",
       "</table>\n",
       "</div>"
      ],
      "text/plain": [
       "   Postcode           Borough             Neighbourhood   Latitude  Longitude\n",
       "2       M5A  Downtown Toronto  Harbourfront,Regent Park  43.654260 -79.360636\n",
       "9       M5B  Downtown Toronto   Ryerson,Garden District  43.657162 -79.378937\n",
       "15      M5C  Downtown Toronto            St. James Town  43.651494 -79.375418\n",
       "19      M4E      East Toronto               The Beaches  43.676357 -79.293031\n",
       "20      M5E  Downtown Toronto               Berczy Park  43.644771 -79.373306"
      ]
     },
     "execution_count": 53,
     "metadata": {},
     "output_type": "execute_result"
    }
   ],
   "source": [
    "df_Toronto_Special=df_Neighbour_FINAL[df_Neighbour_FINAL['Borough'].str.contains(\"Toronto\")]   # select Boroughs with \"Toronto\"\n",
    "df_Toronto_Special.head()"
   ]
  },
  {
   "cell_type": "code",
   "execution_count": 54,
   "metadata": {},
   "outputs": [
    {
     "data": {
      "text/plain": [
       "(103, 5)"
      ]
     },
     "execution_count": 54,
     "metadata": {},
     "output_type": "execute_result"
    }
   ],
   "source": [
    "df_Neighbour_FINAL.shape"
   ]
  },
  {
   "cell_type": "markdown",
   "metadata": {},
   "source": [
    "### 3.3 Link Crime data and Wikipedia data\n",
    "In this section, we are going to link the Crime data and Wikipedia data. More specifically, we want to get the postcode information into the Crime data, to prepare for the data merging with Foursquare data in the next step."
   ]
  },
  {
   "cell_type": "code",
   "execution_count": 55,
   "metadata": {},
   "outputs": [],
   "source": [
    "Crime_wiki=pd.merge(crime, df_Borough[[\"Postcode\",\"Neighbourhood\"]], left_on='NeighbourName', right_on=\"Neighbourhood\", how='left')  "
   ]
  },
  {
   "cell_type": "code",
   "execution_count": 56,
   "metadata": {},
   "outputs": [
    {
     "data": {
      "text/html": [
       "<div>\n",
       "<style scoped>\n",
       "    .dataframe tbody tr th:only-of-type {\n",
       "        vertical-align: middle;\n",
       "    }\n",
       "\n",
       "    .dataframe tbody tr th {\n",
       "        vertical-align: top;\n",
       "    }\n",
       "\n",
       "    .dataframe thead th {\n",
       "        text-align: right;\n",
       "    }\n",
       "</style>\n",
       "<table border=\"1\" class=\"dataframe\">\n",
       "  <thead>\n",
       "    <tr style=\"text-align: right;\">\n",
       "      <th></th>\n",
       "      <th>X</th>\n",
       "      <th>Y</th>\n",
       "      <th>Index_</th>\n",
       "      <th>event_unique_id</th>\n",
       "      <th>occurrencedate</th>\n",
       "      <th>reporteddate</th>\n",
       "      <th>premisetype</th>\n",
       "      <th>ucr_code</th>\n",
       "      <th>ucr_ext</th>\n",
       "      <th>offence</th>\n",
       "      <th>...</th>\n",
       "      <th>repdate</th>\n",
       "      <th>occtime</th>\n",
       "      <th>reptime</th>\n",
       "      <th>occyear</th>\n",
       "      <th>occmonth</th>\n",
       "      <th>occday</th>\n",
       "      <th>occhour</th>\n",
       "      <th>NeighbourName</th>\n",
       "      <th>Postcode</th>\n",
       "      <th>Neighbourhood_y</th>\n",
       "    </tr>\n",
       "  </thead>\n",
       "  <tbody>\n",
       "    <tr>\n",
       "      <th>0</th>\n",
       "      <td>-79.343094</td>\n",
       "      <td>43.668449</td>\n",
       "      <td>214</td>\n",
       "      <td>GO-20141948968</td>\n",
       "      <td>2014-04-24T11:29:00.000Z</td>\n",
       "      <td>2014-04-24T12:46:00.000Z</td>\n",
       "      <td>Commercial</td>\n",
       "      <td>1610</td>\n",
       "      <td>200</td>\n",
       "      <td>Robbery - Mugging</td>\n",
       "      <td>...</td>\n",
       "      <td>2014-04-24</td>\n",
       "      <td>11:29:00</td>\n",
       "      <td>12:46:00</td>\n",
       "      <td>2014</td>\n",
       "      <td>4</td>\n",
       "      <td>24</td>\n",
       "      <td>11</td>\n",
       "      <td>North Riverdale</td>\n",
       "      <td>NaN</td>\n",
       "      <td>NaN</td>\n",
       "    </tr>\n",
       "    <tr>\n",
       "      <th>1</th>\n",
       "      <td>-79.507927</td>\n",
       "      <td>43.759285</td>\n",
       "      <td>215</td>\n",
       "      <td>GO-20141950728</td>\n",
       "      <td>2014-04-24T13:00:00.000Z</td>\n",
       "      <td>2014-04-24T15:58:00.000Z</td>\n",
       "      <td>House</td>\n",
       "      <td>2120</td>\n",
       "      <td>200</td>\n",
       "      <td>B&amp;E</td>\n",
       "      <td>...</td>\n",
       "      <td>2014-04-24</td>\n",
       "      <td>13:00:00</td>\n",
       "      <td>15:58:00</td>\n",
       "      <td>2014</td>\n",
       "      <td>4</td>\n",
       "      <td>24</td>\n",
       "      <td>13</td>\n",
       "      <td>Black Creek</td>\n",
       "      <td>NaN</td>\n",
       "      <td>NaN</td>\n",
       "    </tr>\n",
       "    <tr>\n",
       "      <th>2</th>\n",
       "      <td>-79.501663</td>\n",
       "      <td>43.697552</td>\n",
       "      <td>216</td>\n",
       "      <td>GO-20141956416</td>\n",
       "      <td>2014-04-25T13:20:00.000Z</td>\n",
       "      <td>2014-04-25T13:52:00.000Z</td>\n",
       "      <td>Apartment</td>\n",
       "      <td>1430</td>\n",
       "      <td>100</td>\n",
       "      <td>Assault</td>\n",
       "      <td>...</td>\n",
       "      <td>2014-04-25</td>\n",
       "      <td>13:20:00</td>\n",
       "      <td>13:52:00</td>\n",
       "      <td>2014</td>\n",
       "      <td>4</td>\n",
       "      <td>25</td>\n",
       "      <td>13</td>\n",
       "      <td>Brookhaven-Amesbury</td>\n",
       "      <td>NaN</td>\n",
       "      <td>NaN</td>\n",
       "    </tr>\n",
       "    <tr>\n",
       "      <th>3</th>\n",
       "      <td>-79.571510</td>\n",
       "      <td>43.721703</td>\n",
       "      <td>217</td>\n",
       "      <td>GO-20141956867</td>\n",
       "      <td>2014-04-24T17:00:00.000Z</td>\n",
       "      <td>2014-04-25T10:30:00.000Z</td>\n",
       "      <td>Outside</td>\n",
       "      <td>1430</td>\n",
       "      <td>100</td>\n",
       "      <td>Assault</td>\n",
       "      <td>...</td>\n",
       "      <td>2014-04-25</td>\n",
       "      <td>17:00:00</td>\n",
       "      <td>10:30:00</td>\n",
       "      <td>2014</td>\n",
       "      <td>4</td>\n",
       "      <td>24</td>\n",
       "      <td>17</td>\n",
       "      <td>Rexdale-Kiplin</td>\n",
       "      <td>NaN</td>\n",
       "      <td>NaN</td>\n",
       "    </tr>\n",
       "    <tr>\n",
       "      <th>4</th>\n",
       "      <td>-79.503487</td>\n",
       "      <td>43.663891</td>\n",
       "      <td>218</td>\n",
       "      <td>GO-20141957505</td>\n",
       "      <td>2014-04-25T16:00:00.000Z</td>\n",
       "      <td>2014-04-25T16:15:00.000Z</td>\n",
       "      <td>Apartment</td>\n",
       "      <td>1430</td>\n",
       "      <td>100</td>\n",
       "      <td>Assault</td>\n",
       "      <td>...</td>\n",
       "      <td>2014-04-25</td>\n",
       "      <td>16:00:00</td>\n",
       "      <td>16:15:00</td>\n",
       "      <td>2014</td>\n",
       "      <td>4</td>\n",
       "      <td>25</td>\n",
       "      <td>16</td>\n",
       "      <td>Lambton Baby Point</td>\n",
       "      <td>NaN</td>\n",
       "      <td>NaN</td>\n",
       "    </tr>\n",
       "  </tbody>\n",
       "</table>\n",
       "<p>5 rows × 40 columns</p>\n",
       "</div>"
      ],
      "text/plain": [
       "           X          Y  Index_ event_unique_id            occurrencedate  \\\n",
       "0 -79.343094  43.668449     214  GO-20141948968  2014-04-24T11:29:00.000Z   \n",
       "1 -79.507927  43.759285     215  GO-20141950728  2014-04-24T13:00:00.000Z   \n",
       "2 -79.501663  43.697552     216  GO-20141956416  2014-04-25T13:20:00.000Z   \n",
       "3 -79.571510  43.721703     217  GO-20141956867  2014-04-24T17:00:00.000Z   \n",
       "4 -79.503487  43.663891     218  GO-20141957505  2014-04-25T16:00:00.000Z   \n",
       "\n",
       "               reporteddate premisetype  ucr_code  ucr_ext            offence  \\\n",
       "0  2014-04-24T12:46:00.000Z  Commercial      1610      200  Robbery - Mugging   \n",
       "1  2014-04-24T15:58:00.000Z       House      2120      200                B&E   \n",
       "2  2014-04-25T13:52:00.000Z   Apartment      1430      100            Assault   \n",
       "3  2014-04-25T10:30:00.000Z     Outside      1430      100            Assault   \n",
       "4  2014-04-25T16:15:00.000Z   Apartment      1430      100            Assault   \n",
       "\n",
       "   ...    repdate   occtime   reptime  occyear occmonth  occday  occhour  \\\n",
       "0  ... 2014-04-24  11:29:00  12:46:00     2014        4      24       11   \n",
       "1  ... 2014-04-24  13:00:00  15:58:00     2014        4      24       13   \n",
       "2  ... 2014-04-25  13:20:00  13:52:00     2014        4      25       13   \n",
       "3  ... 2014-04-25  17:00:00  10:30:00     2014        4      24       17   \n",
       "4  ... 2014-04-25  16:00:00  16:15:00     2014        4      25       16   \n",
       "\n",
       "         NeighbourName  Postcode  Neighbourhood_y  \n",
       "0      North Riverdale       NaN              NaN  \n",
       "1          Black Creek       NaN              NaN  \n",
       "2  Brookhaven-Amesbury       NaN              NaN  \n",
       "3       Rexdale-Kiplin       NaN              NaN  \n",
       "4  Lambton Baby Point        NaN              NaN  \n",
       "\n",
       "[5 rows x 40 columns]"
      ]
     },
     "execution_count": 56,
     "metadata": {},
     "output_type": "execute_result"
    }
   ],
   "source": [
    "Crime_wiki.head()"
   ]
  },
  {
   "cell_type": "code",
   "execution_count": 57,
   "metadata": {},
   "outputs": [],
   "source": [
    "Crime_wiki_1=Crime_wiki[Crime_wiki[\"Postcode\"].notnull()]"
   ]
  },
  {
   "cell_type": "code",
   "execution_count": 58,
   "metadata": {},
   "outputs": [
    {
     "data": {
      "text/plain": [
       "M9L    1590\n",
       "M6R    1416\n",
       "M8W    1017\n",
       "M3C    1001\n",
       "M5A     980\n",
       "M3H     951\n",
       "M4E     853\n",
       "M8V     841\n",
       "M2K     798\n",
       "M4H     746\n",
       "M6J     703\n",
       "M2H     687\n",
       "M4A     594\n",
       "M2R     548\n",
       "M2J     472\n",
       "M9C     293\n",
       "Name: Postcode, dtype: int64"
      ]
     },
     "execution_count": 58,
     "metadata": {},
     "output_type": "execute_result"
    }
   ],
   "source": [
    "Crime_wiki_1.Postcode.value_counts()"
   ]
  },
  {
   "cell_type": "code",
   "execution_count": 59,
   "metadata": {},
   "outputs": [
    {
     "data": {
      "text/plain": [
       "(167525, 40)"
      ]
     },
     "execution_count": 59,
     "metadata": {},
     "output_type": "execute_result"
    }
   ],
   "source": [
    "Crime_wiki.shape"
   ]
  },
  {
   "cell_type": "code",
   "execution_count": 60,
   "metadata": {},
   "outputs": [
    {
     "data": {
      "text/plain": [
       "(13490, 40)"
      ]
     },
     "execution_count": 60,
     "metadata": {},
     "output_type": "execute_result"
    }
   ],
   "source": [
    "Crime_wiki_1.shape"
   ]
  },
  {
   "cell_type": "code",
   "execution_count": 61,
   "metadata": {},
   "outputs": [
    {
     "data": {
      "text/html": [
       "<div>\n",
       "<style scoped>\n",
       "    .dataframe tbody tr th:only-of-type {\n",
       "        vertical-align: middle;\n",
       "    }\n",
       "\n",
       "    .dataframe tbody tr th {\n",
       "        vertical-align: top;\n",
       "    }\n",
       "\n",
       "    .dataframe thead th {\n",
       "        text-align: right;\n",
       "    }\n",
       "</style>\n",
       "<table border=\"1\" class=\"dataframe\">\n",
       "  <thead>\n",
       "    <tr style=\"text-align: right;\">\n",
       "      <th></th>\n",
       "      <th>X</th>\n",
       "      <th>Y</th>\n",
       "      <th>Index_</th>\n",
       "      <th>event_unique_id</th>\n",
       "      <th>occurrencedate</th>\n",
       "      <th>reporteddate</th>\n",
       "      <th>premisetype</th>\n",
       "      <th>ucr_code</th>\n",
       "      <th>ucr_ext</th>\n",
       "      <th>offence</th>\n",
       "      <th>...</th>\n",
       "      <th>repdate</th>\n",
       "      <th>occtime</th>\n",
       "      <th>reptime</th>\n",
       "      <th>occyear</th>\n",
       "      <th>occmonth</th>\n",
       "      <th>occday</th>\n",
       "      <th>occhour</th>\n",
       "      <th>NeighbourName</th>\n",
       "      <th>Postcode</th>\n",
       "      <th>Neighbourhood_y</th>\n",
       "    </tr>\n",
       "  </thead>\n",
       "  <tbody>\n",
       "    <tr>\n",
       "      <th>13</th>\n",
       "      <td>-79.466927</td>\n",
       "      <td>43.768856</td>\n",
       "      <td>228</td>\n",
       "      <td>GO-20141297607</td>\n",
       "      <td>2014-01-07T11:29:00.000Z</td>\n",
       "      <td>2014-01-07T11:29:00.000Z</td>\n",
       "      <td>Other</td>\n",
       "      <td>1480</td>\n",
       "      <td>100</td>\n",
       "      <td>Assault - Resist/ Prevent Seiz</td>\n",
       "      <td>...</td>\n",
       "      <td>2014-01-07</td>\n",
       "      <td>11:29:00</td>\n",
       "      <td>11:29:00</td>\n",
       "      <td>2014</td>\n",
       "      <td>1</td>\n",
       "      <td>7</td>\n",
       "      <td>11</td>\n",
       "      <td>Bathurst Manor</td>\n",
       "      <td>M3H</td>\n",
       "      <td>Bathurst Manor</td>\n",
       "    </tr>\n",
       "    <tr>\n",
       "      <th>18</th>\n",
       "      <td>-79.363220</td>\n",
       "      <td>43.655880</td>\n",
       "      <td>233</td>\n",
       "      <td>GO-20141262013</td>\n",
       "      <td>2014-01-01T11:01:00.000Z</td>\n",
       "      <td>2014-01-01T11:09:00.000Z</td>\n",
       "      <td>Outside</td>\n",
       "      <td>1420</td>\n",
       "      <td>110</td>\n",
       "      <td>Assault Bodily Harm</td>\n",
       "      <td>...</td>\n",
       "      <td>2014-01-01</td>\n",
       "      <td>11:01:00</td>\n",
       "      <td>11:09:00</td>\n",
       "      <td>2014</td>\n",
       "      <td>1</td>\n",
       "      <td>1</td>\n",
       "      <td>11</td>\n",
       "      <td>Regent Park</td>\n",
       "      <td>M5A</td>\n",
       "      <td>Regent Park</td>\n",
       "    </tr>\n",
       "    <tr>\n",
       "      <th>43</th>\n",
       "      <td>-79.378380</td>\n",
       "      <td>43.768837</td>\n",
       "      <td>258</td>\n",
       "      <td>GO-20141056448</td>\n",
       "      <td>2014-01-06T07:12:00.000Z</td>\n",
       "      <td>2014-01-06T07:12:00.000Z</td>\n",
       "      <td>Apartment</td>\n",
       "      <td>1430</td>\n",
       "      <td>100</td>\n",
       "      <td>Assault</td>\n",
       "      <td>...</td>\n",
       "      <td>2014-01-06</td>\n",
       "      <td>07:12:00</td>\n",
       "      <td>07:12:00</td>\n",
       "      <td>2014</td>\n",
       "      <td>1</td>\n",
       "      <td>6</td>\n",
       "      <td>7</td>\n",
       "      <td>Bayview Village</td>\n",
       "      <td>M2K</td>\n",
       "      <td>Bayview Village</td>\n",
       "    </tr>\n",
       "    <tr>\n",
       "      <th>52</th>\n",
       "      <td>-79.349037</td>\n",
       "      <td>43.768383</td>\n",
       "      <td>267</td>\n",
       "      <td>GO-20141342156</td>\n",
       "      <td>2014-01-14T14:22:00.000Z</td>\n",
       "      <td>2014-01-14T15:00:00.000Z</td>\n",
       "      <td>House</td>\n",
       "      <td>2130</td>\n",
       "      <td>210</td>\n",
       "      <td>Theft Over</td>\n",
       "      <td>...</td>\n",
       "      <td>2014-01-14</td>\n",
       "      <td>14:22:00</td>\n",
       "      <td>15:00:00</td>\n",
       "      <td>2014</td>\n",
       "      <td>1</td>\n",
       "      <td>14</td>\n",
       "      <td>14</td>\n",
       "      <td>Henry Farm</td>\n",
       "      <td>M2J</td>\n",
       "      <td>Henry Farm</td>\n",
       "    </tr>\n",
       "    <tr>\n",
       "      <th>60</th>\n",
       "      <td>-79.466927</td>\n",
       "      <td>43.768856</td>\n",
       "      <td>275</td>\n",
       "      <td>GO-20141436427</td>\n",
       "      <td>2014-01-30T10:27:00.000Z</td>\n",
       "      <td>2014-01-31T09:56:00.000Z</td>\n",
       "      <td>Other</td>\n",
       "      <td>1430</td>\n",
       "      <td>100</td>\n",
       "      <td>Assault</td>\n",
       "      <td>...</td>\n",
       "      <td>2014-01-31</td>\n",
       "      <td>10:27:00</td>\n",
       "      <td>09:56:00</td>\n",
       "      <td>2014</td>\n",
       "      <td>1</td>\n",
       "      <td>30</td>\n",
       "      <td>10</td>\n",
       "      <td>Bathurst Manor</td>\n",
       "      <td>M3H</td>\n",
       "      <td>Bathurst Manor</td>\n",
       "    </tr>\n",
       "  </tbody>\n",
       "</table>\n",
       "<p>5 rows × 40 columns</p>\n",
       "</div>"
      ],
      "text/plain": [
       "            X          Y  Index_ event_unique_id            occurrencedate  \\\n",
       "13 -79.466927  43.768856     228  GO-20141297607  2014-01-07T11:29:00.000Z   \n",
       "18 -79.363220  43.655880     233  GO-20141262013  2014-01-01T11:01:00.000Z   \n",
       "43 -79.378380  43.768837     258  GO-20141056448  2014-01-06T07:12:00.000Z   \n",
       "52 -79.349037  43.768383     267  GO-20141342156  2014-01-14T14:22:00.000Z   \n",
       "60 -79.466927  43.768856     275  GO-20141436427  2014-01-30T10:27:00.000Z   \n",
       "\n",
       "                reporteddate premisetype  ucr_code  ucr_ext  \\\n",
       "13  2014-01-07T11:29:00.000Z       Other      1480      100   \n",
       "18  2014-01-01T11:09:00.000Z     Outside      1420      110   \n",
       "43  2014-01-06T07:12:00.000Z   Apartment      1430      100   \n",
       "52  2014-01-14T15:00:00.000Z       House      2130      210   \n",
       "60  2014-01-31T09:56:00.000Z       Other      1430      100   \n",
       "\n",
       "                           offence  ...    repdate   occtime   reptime  \\\n",
       "13  Assault - Resist/ Prevent Seiz  ... 2014-01-07  11:29:00  11:29:00   \n",
       "18             Assault Bodily Harm  ... 2014-01-01  11:01:00  11:09:00   \n",
       "43                         Assault  ... 2014-01-06  07:12:00  07:12:00   \n",
       "52                      Theft Over  ... 2014-01-14  14:22:00  15:00:00   \n",
       "60                         Assault  ... 2014-01-31  10:27:00  09:56:00   \n",
       "\n",
       "    occyear occmonth  occday  occhour    NeighbourName  Postcode  \\\n",
       "13     2014        1       7       11   Bathurst Manor       M3H   \n",
       "18     2014        1       1       11      Regent Park       M5A   \n",
       "43     2014        1       6        7  Bayview Village       M2K   \n",
       "52     2014        1      14       14       Henry Farm       M2J   \n",
       "60     2014        1      30       10   Bathurst Manor       M3H   \n",
       "\n",
       "    Neighbourhood_y  \n",
       "13   Bathurst Manor  \n",
       "18      Regent Park  \n",
       "43  Bayview Village  \n",
       "52       Henry Farm  \n",
       "60   Bathurst Manor  \n",
       "\n",
       "[5 rows x 40 columns]"
      ]
     },
     "execution_count": 61,
     "metadata": {},
     "output_type": "execute_result"
    }
   ],
   "source": [
    "Crime_wiki_1.head()"
   ]
  },
  {
   "cell_type": "markdown",
   "metadata": {},
   "source": [
    "#### Note:\n",
    "It should be noted here that the crime data contains far more neihbourhoods than the wikipedia data, which contains only the core Toronto area. In order to make use of the Foursquare data and analysis, we are going to limit the analysis to those communities in the core Toronto area. That is we are going to use those neighbourhoods that are only listed in the wikipedia data. As you can actually see that the resultant dataset has dramatically less records than in the original crime data."
   ]
  },
  {
   "cell_type": "markdown",
   "metadata": {},
   "source": [
    "### 3.4 Import the venue data from Foursquare"
   ]
  },
  {
   "cell_type": "code",
   "execution_count": 62,
   "metadata": {},
   "outputs": [],
   "source": [
    "#!conda install -c conda-forge geopy --yes\n",
    "#!conda install -c conda-forge geopy --yes # uncomment this line if you haven't completed the Foursquare API lab"
   ]
  },
  {
   "cell_type": "code",
   "execution_count": 63,
   "metadata": {},
   "outputs": [],
   "source": [
    "from geopy.geocoders import Nominatim # convert an address into latitude and longitude values"
   ]
  },
  {
   "cell_type": "code",
   "execution_count": 64,
   "metadata": {},
   "outputs": [
    {
     "name": "stdout",
     "output_type": "stream",
     "text": [
      "['alabaster', 'altair', 'anaconda-client', 'anaconda-navigator', 'anaconda-project', 'asn1crypto', 'astroid', 'astropy', 'atomicwrites', 'attrs', 'Babel', 'backcall', 'backports.os', 'backports.shutil-get-terminal-size', 'beautifulsoup4', 'bitarray', 'bkcharts', 'bleach', 'bokeh', 'boto', 'Bottleneck', 'branca', 'certifi', 'cffi', 'chardet', 'Click', 'cloudpickle', 'clyent', 'colorama', 'comtypes', 'conda', 'conda-build', 'conda-verify', 'contextlib2', 'cryptography', 'cycler', 'Cython', 'cytoolz', 'dask', 'decorator', 'defusedxml', 'distributed', 'docutils', 'entrypoints', 'et-xmlfile', 'fastcache', 'filelock', 'Flask', 'folium', 'future', 'geographiclib', 'geopy', 'gevent', 'glob2', 'greenlet', 'h5py', 'heapdict', 'html5lib', 'idna', 'imageio', 'imagesize', 'importlib-metadata', 'ipykernel', 'ipython', 'ipython-genutils', 'ipywidgets', 'isort', 'itsdangerous', 'jdcal', 'jedi', 'Jinja2', 'jsonschema', 'jupyter', 'jupyter-client', 'jupyter-console', 'jupyter-core', 'jupyterlab', 'jupyterlab-server', 'keyring', 'kiwisolver', 'lazy-object-proxy', 'libarchive-c', 'llvmlite', 'locket', 'lxml', 'MarkupSafe', 'matplotlib', 'mccabe', 'menuinst', 'mistune', 'mkl-fft', 'mkl-random', 'more-itertools', 'mpmath', 'msgpack', 'multipledispatch', 'navigator-updater', 'nbconvert', 'nbformat', 'networkx', 'nltk', 'nose', 'notebook', 'numba', 'numexpr', 'numpy', 'numpydoc', 'olefile', 'openpyxl', 'packaging', 'pandas', 'pandocfilters', 'parso', 'partd', 'path.py', 'pathlib2', 'patsy', 'pep8', 'pickleshare', 'Pillow', 'pkginfo', 'pluggy', 'ply', 'prometheus-client', 'prompt-toolkit', 'psutil', 'py', 'pycodestyle', 'pycosat', 'pycparser', 'pycrypto', 'pycurl', 'pyflakes', 'Pygments', 'pylint', 'pyodbc', 'pyOpenSSL', 'pyparsing', 'pyreadline', 'pyrsistent', 'PySocks', 'pytest', 'pytest-arraydiff', 'pytest-astropy', 'pytest-doctestplus', 'pytest-openfiles', 'pytest-remotedata', 'python-dateutil', 'pytz', 'PyWavelets', 'pywin32', 'pywinpty', 'PyYAML', 'pyzmq', 'QtAwesome', 'qtconsole', 'QtPy', 'requests', 'rope', 'ruamel-yaml', 'scikit-image', 'scikit-learn', 'scipy', 'seaborn', 'Send2Trash', 'simplegeneric', 'singledispatch', 'six', 'snowballstemmer', 'sortedcollections', 'sortedcontainers', 'soupsieve', 'Sphinx', 'sphinxcontrib-websupport', 'spyder', 'spyder-kernels', 'SQLAlchemy', 'statsmodels', 'sympy', 'tables', 'tblib', 'terminado', 'testpath', 'toolz', 'tornado', 'tqdm', 'traitlets', 'unicodecsv', 'urllib3', 'vincent', 'wcwidth', 'webencodings', 'Werkzeug', 'widgetsnbextension', 'win-inet-pton', 'win-unicode-console', 'wincertstore', 'wrapt', 'xlrd', 'XlsxWriter', 'xlwings', 'xlwt', 'zict', 'zipp']\n"
     ]
    }
   ],
   "source": [
    "import subprocess\n",
    "import sys\n",
    "\n",
    "reqs = subprocess.check_output([sys.executable, '-m', 'pip', 'freeze'])\n",
    "installed_packages = [r.decode().split('==')[0] for r in reqs.split()]\n",
    "print(installed_packages)"
   ]
  },
  {
   "cell_type": "code",
   "execution_count": 65,
   "metadata": {},
   "outputs": [
    {
     "name": "stdout",
     "output_type": "stream",
     "text": [
      "Libraries imported.\n"
     ]
    }
   ],
   "source": [
    "from pandas.io.json import json_normalize # tranform JSON file into a pandas dataframe\n",
    "\n",
    "# Matplotlib and associated plotting modules\n",
    "import matplotlib.cm as cm\n",
    "import matplotlib.colors as colors\n",
    "\n",
    "#!conda install -c conda-forge folium=0.5.0 --yes # uncomment this line if you haven't completed the Foursquare API lab\n",
    "import folium # map rendering library\n",
    "\n",
    "print('Libraries imported.')"
   ]
  },
  {
   "cell_type": "code",
   "execution_count": 66,
   "metadata": {},
   "outputs": [
    {
     "name": "stderr",
     "output_type": "stream",
     "text": [
      "C:\\Users\\lujing\\AppData\\Local\\Continuum\\anaconda3\\lib\\site-packages\\ipykernel_launcher.py:3: DeprecationWarning: Using Nominatim with the default \"geopy/1.19.0\" `user_agent` is strongly discouraged, as it violates Nominatim's ToS https://operations.osmfoundation.org/policies/nominatim/ and may possibly cause 403 and 429 HTTP errors. Please specify a custom `user_agent` with `Nominatim(user_agent=\"my-application\")` or by overriding the default `user_agent`: `geopy.geocoders.options.default_user_agent = \"my-application\"`. In geopy 2.0 this will become an exception.\n",
      "  This is separate from the ipykernel package so we can avoid doing imports until\n"
     ]
    },
    {
     "name": "stdout",
     "output_type": "stream",
     "text": [
      "The geograpical coordinate of Toronto City are 43.653963, -79.387207.\n"
     ]
    },
    {
     "data": {
      "text/html": [
       "<div style=\"width:100%;\"><div style=\"position:relative;width:100%;height:0;padding-bottom:60%;\"><iframe src=\"data:text/html;charset=utf-8;base64,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\" style=\"position:absolute;width:100%;height:100%;left:0;top:0;border:none !important;\" allowfullscreen webkitallowfullscreen mozallowfullscreen></iframe></div></div>"
      ],
      "text/plain": [
       "<folium.folium.Map at 0x1cdd9cdbe48>"
      ]
     },
     "execution_count": 66,
     "metadata": {},
     "output_type": "execute_result"
    }
   ],
   "source": [
    "address = 'Toronto, Ontario'\n",
    "\n",
    "geolocator = Nominatim()\n",
    "location = geolocator.geocode(address)\n",
    "latitude = location.latitude\n",
    "longitude = location.longitude\n",
    "print('The geograpical coordinate of Toronto City are {}, {}.'.format(latitude, longitude))\n",
    "\n",
    "# create map of Toronto using latitude and longitude values\n",
    "map_toronto = folium.Map(location=[latitude, longitude], zoom_start=10)\n",
    "\n",
    "# add markers to map\n",
    "for lat, lng, borough, neighborhood in zip(df_Toronto_Special['Latitude'], df_Toronto_Special['Longitude'], df_Toronto_Special['Borough'], df_Toronto_Special['Neighbourhood']):\n",
    "    label = '{}, {}'.format(neighborhood, borough)\n",
    "    label = folium.Popup(label, parse_html=True)\n",
    "    folium.CircleMarker(\n",
    "        [lat, lng],\n",
    "        radius=5,\n",
    "        popup=label,\n",
    "        color='blue',\n",
    "        fill=True,\n",
    "        fill_color='#3186cc',\n",
    "        fill_opacity=0.7,\n",
    "        parse_html=False).add_to(map_toronto)  \n",
    "    \n",
    "map_toronto"
   ]
  },
  {
   "cell_type": "code",
   "execution_count": 67,
   "metadata": {},
   "outputs": [
    {
     "name": "stderr",
     "output_type": "stream",
     "text": [
      "C:\\Users\\lujing\\AppData\\Local\\Continuum\\anaconda3\\lib\\site-packages\\ipykernel_launcher.py:7: DeprecationWarning: Using Nominatim with the default \"geopy/1.19.0\" `user_agent` is strongly discouraged, as it violates Nominatim's ToS https://operations.osmfoundation.org/policies/nominatim/ and may possibly cause 403 and 429 HTTP errors. Please specify a custom `user_agent` with `Nominatim(user_agent=\"my-application\")` or by overriding the default `user_agent`: `geopy.geocoders.options.default_user_agent = \"my-application\"`. In geopy 2.0 this will become an exception.\n",
      "  import sys\n"
     ]
    },
    {
     "name": "stdout",
     "output_type": "stream",
     "text": [
      "The geograpical coordinate of Central Toronto are 43.6449033, -79.3818364.\n"
     ]
    },
    {
     "data": {
      "text/html": [
       "<div style=\"width:100%;\"><div style=\"position:relative;width:100%;height:0;padding-bottom:60%;\"><iframe src=\"data:text/html;charset=utf-8;base64,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\" style=\"position:absolute;width:100%;height:100%;left:0;top:0;border:none !important;\" allowfullscreen webkitallowfullscreen mozallowfullscreen></iframe></div></div>"
      ],
      "text/plain": [
       "<folium.folium.Map at 0x1cdd9cdd128>"
      ]
     },
     "execution_count": 67,
     "metadata": {},
     "output_type": "execute_result"
    }
   ],
   "source": [
    "neighborhoods=df_Toronto_Special\n",
    "CT_data = neighborhoods[neighborhoods['Borough'] == 'Central Toronto'].reset_index(drop=True)\n",
    "CT_data.head()\n",
    "\n",
    "address = 'Central Toronto, Ontario'  # selecting central Toronto (CT) for deep dive\n",
    "\n",
    "geolocator = Nominatim()\n",
    "location = geolocator.geocode(address)\n",
    "latitude = location.latitude\n",
    "longitude = location.longitude\n",
    "print('The geograpical coordinate of Central Toronto are {}, {}.'.format(latitude, longitude))\n",
    "\n",
    "# create map of New York using latitude and longitude values\n",
    "map_CT = folium.Map(location=[latitude, longitude], zoom_start=10)\n",
    "\n",
    "# add markers to map\n",
    "for lat, lng, borough, neighborhood in zip(CT_data['Latitude'], CT_data['Longitude'], CT_data['Borough'], CT_data['Neighbourhood']):\n",
    "    label = '{}, {}'.format(neighborhood, borough)\n",
    "    label = folium.Popup(label, parse_html=True)\n",
    "    folium.CircleMarker(\n",
    "        [lat, lng],\n",
    "        radius=5,\n",
    "        popup=label,\n",
    "        color='blue',\n",
    "        fill=True,\n",
    "        fill_color='#3186cc',\n",
    "        fill_opacity=0.7,\n",
    "        parse_html=False).add_to(map_CT)  \n",
    "    \n",
    "map_CT"
   ]
  },
  {
   "cell_type": "code",
   "execution_count": null,
   "metadata": {},
   "outputs": [],
   "source": [
    "CLIENT_ID = 'XXXCVUVM1ICDDJIYMQ2RYMWEV5BT15O00ZUXID1UFCYQ1X2Y' # your Foursquare ID\n",
    "CLIENT_SECRET = 'REDZTV5GQ1RYQX3UE5I53EQ0WBSB2KKG5U2G5GGAXJ5UDOF1' # your Foursquare Secret\n",
    "VERSION = '20180605' # Foursquare API version\n",
    "\n",
    "print('Your credentails:')\n",
    "print('CLIENT_ID: ' + CLIENT_ID)\n",
    "print('CLIENT_SECRET:' + CLIENT_SECRET)\n",
    "\n",
    "CT_data.loc[0, 'Neighbourhood']\n",
    "\n",
    "neighborhood_latitude = CT_data.loc[0, 'Latitude'] # neighborhood latitude value\n",
    "neighborhood_longitude = CT_data.loc[0, 'Longitude'] # neighborhood longitude value\n",
    "\n",
    "neighborhood_name = CT_data.loc[0, 'Neighbourhood'] # neighborhood name\n",
    "\n",
    "print('Latitude and longitude values of {} are {}, {}.'.format(neighborhood_name, \n",
    "                                                               neighborhood_latitude, \n",
    "                                                               neighborhood_longitude))\n",
    "\n",
    "LIMIT = 100 # limit of number of venues returned by Foursquare API\n",
    "\n",
    "radius = 50 # define radius\n",
    "\n",
    "# create URL\n",
    "url = 'https://api.foursquare.com/v2/venues/explore?&client_id={}&client_secret={}&v={}&ll={},{}&radius={}&limit={}'.format(\n",
    "    CLIENT_ID, \n",
    "    CLIENT_SECRET, \n",
    "    VERSION, \n",
    "    neighborhood_latitude, \n",
    "    neighborhood_longitude, \n",
    "    radius, \n",
    "    LIMIT)\n",
    "url # display URL\n",
    "\n",
    "results = requests.get(url).json()\n",
    "results"
   ]
  },
  {
   "cell_type": "markdown",
   "metadata": {},
   "source": [
    "#### This Function is to get venue information for a given neighbourhood (as specified by its latitudes and longitudes) within a given radius.\n"
   ]
  },
  {
   "cell_type": "code",
   "execution_count": 69,
   "metadata": {
    "collapsed": true
   },
   "outputs": [],
   "source": [
    "\n",
    "def getNearbyVenues(names, Postcode,latitudes, longitudes, radius=500, LIMIT=100):\n",
    "    \n",
    "    venues_list=[]\n",
    "    for name, PC, lat, lng in zip(names, Postcode, latitudes, longitudes):\n",
    "        print(name,PC)\n",
    "            \n",
    "        # create the API request URL\n",
    "        url = 'https://api.foursquare.com/v2/venues/explore?&client_id={}&client_secret={}&v={}&ll={},{}&radius={}&limit={}'.format(\n",
    "            CLIENT_ID, \n",
    "            CLIENT_SECRET, \n",
    "            VERSION, \n",
    "            lat, \n",
    "            lng, \n",
    "            radius, \n",
    "            LIMIT)\n",
    "            \n",
    "        # make the GET request\n",
    "        results = requests.get(url).json()[\"response\"]['groups'][0]['items']\n",
    "        \n",
    "        # return only relevant information for each nearby venue\n",
    "        venues_list.append([(\n",
    "            name,\n",
    "            PC,\n",
    "            lat, \n",
    "            lng, \n",
    "            v['venue']['name'], \n",
    "#            v['venue']['location']['address'], # Included\n",
    "            v['venue']['location']['lat'], \n",
    "            v['venue']['location']['lng'],  \n",
    "            v['venue']['location']['distance'], # Included\n",
    "            v['venue']['categories'][0]['id'], # Included\n",
    "            v['venue']['categories'][0]['name']) for v in results])\n",
    "\n",
    "    nearby_venues = pd.DataFrame([item for venue_list in venues_list for item in venue_list])\n",
    "    nearby_venues.columns = ['Neighborhood','Postcode',           \n",
    "                  'Neighborhood Latitude', \n",
    "                  'Neighborhood Longitude', \n",
    "                  'Venue', \n",
    "#                  'Venue Address',\n",
    "                  'Venue Latitude', \n",
    "                  'Venue Longitude', \n",
    "                  'Venue distance', \n",
    "                  'Venue ID', \n",
    "                  'Venue Category']\n",
    "    \n",
    "    return(nearby_venues)"
   ]
  },
  {
   "cell_type": "markdown",
   "metadata": {},
   "source": [
    "### Note on Foursquare data:\n",
    "It should be mentioned here that the iteractive way above to get venues can produce duplications. One venues can appear in multiple queries (neighbourhoods), especially when the radius is set too high. The configuration below is based on extensive experiemntations. A radius of 1,200 meters seems to produce least duplications, yet most non-duplicated venues. There is another thing that should be mentioned here. Foursquare set a limit of return to be 100 (even though on its website it says limit=50). That means even if there are more than 100 unique venues in a neighbourhood, each Foursquare API call would return only 100 of them at most. This would potentially limit the conclusion of the study. However, in this capstone project, we shall assume 100 is good enough to cover a representative number of venues within a neighbourhood.\n",
    "\n",
    "Also because of our choice of the radius of 1,200 meters, there could be incomplete of venues in a neighbourhood, if its radius is greater than 1,200 meters. But for the purpose of our study, we would assume this radius is large enough to cover the whole community."
   ]
  },
  {
   "cell_type": "code",
   "execution_count": 70,
   "metadata": {
    "collapsed": false,
    "scrolled": true
   },
   "outputs": [
    {
     "name": "stdout",
     "output_type": "stream",
     "text": [
      "Harbourfront,Regent Park M5A\n",
      "Ryerson,Garden District M5B\n",
      "St. James Town M5C\n",
      "The Beaches M4E\n",
      "Berczy Park M5E\n",
      "Central Bay Street M5G\n",
      "Christie M6G\n",
      "Adelaide,King,Richmond M5H\n",
      "Dovercourt Village,Dufferin M6H\n",
      "Harbourfront East,Toronto Islands,Union Station M5J\n",
      "Little Portugal,Trinity M6J\n",
      "The Danforth West,Riverdale M4K\n",
      "Design Exchange,Toronto Dominion Centre M5K\n",
      "Brockton,Exhibition Place,Parkdale Village M6K\n",
      "The Beaches West,India Bazaar M4L\n",
      "Commerce Court,Victoria Hotel M5L\n",
      "Studio District M4M\n",
      "Lawrence Park M4N\n",
      "Roselawn M5N\n",
      "Davisville North M4P\n",
      "Forest Hill North,Forest Hill West M5P\n",
      "High Park,The Junction South M6P\n",
      "North Toronto West M4R\n",
      "The Annex,North Midtown,Yorkville M5R\n",
      "Parkdale,Roncesvalles M6R\n",
      "Davisville M4S\n",
      "Harbord,University of Toronto M5S\n",
      "Runnymede,Swansea M6S\n",
      "Moore Park,Summerhill East M4T\n",
      "Chinatown,Grange Park,Kensington Market M5T\n",
      "Deer Park,Forest Hill SE,Rathnelly,South Hill,Summerhill West M4V\n",
      "CN Tower,Bathurst Quay,Island airport,Harbourfront West,King and Spadina,Railway Lands,South Niagara M5V\n",
      "Rosedale M4W\n",
      "Stn A PO Boxes 25 The Esplanade M5W\n",
      "Cabbagetown,St. James Town M4X\n",
      "First Canadian Place,Underground city M5X\n",
      "Church and Wellesley M4Y\n",
      "Business Reply Mail Processing Centre 969 Eastern M7Y\n"
     ]
    }
   ],
   "source": [
    "# type your answer here\n",
    "Toronto_venues = getNearbyVenues(names=df_Toronto_Special['Neighbourhood'],Postcode=df_Toronto_Special['Postcode'],\n",
    "                                   latitudes=df_Toronto_Special['Latitude'],\n",
    "                                   longitudes=df_Toronto_Special['Longitude'],\n",
    "                                   radius=1200,\n",
    "                                   LIMIT=5000\n",
    "                                  )\n",
    "\n"
   ]
  },
  {
   "cell_type": "code",
   "execution_count": 71,
   "metadata": {},
   "outputs": [
    {
     "name": "stdout",
     "output_type": "stream",
     "text": [
      "(3423, 10)\n"
     ]
    }
   ],
   "source": [
    "print(Toronto_venues.shape)"
   ]
  },
  {
   "cell_type": "code",
   "execution_count": 72,
   "metadata": {},
   "outputs": [
    {
     "data": {
      "text/html": [
       "<div>\n",
       "<style scoped>\n",
       "    .dataframe tbody tr th:only-of-type {\n",
       "        vertical-align: middle;\n",
       "    }\n",
       "\n",
       "    .dataframe tbody tr th {\n",
       "        vertical-align: top;\n",
       "    }\n",
       "\n",
       "    .dataframe thead th {\n",
       "        text-align: right;\n",
       "    }\n",
       "</style>\n",
       "<table border=\"1\" class=\"dataframe\">\n",
       "  <thead>\n",
       "    <tr style=\"text-align: right;\">\n",
       "      <th></th>\n",
       "      <th>Neighborhood</th>\n",
       "      <th>Postcode</th>\n",
       "      <th>Neighborhood Latitude</th>\n",
       "      <th>Neighborhood Longitude</th>\n",
       "      <th>Venue</th>\n",
       "      <th>Venue Latitude</th>\n",
       "      <th>Venue Longitude</th>\n",
       "      <th>Venue distance</th>\n",
       "      <th>Venue ID</th>\n",
       "      <th>Venue Category</th>\n",
       "    </tr>\n",
       "  </thead>\n",
       "  <tbody>\n",
       "    <tr>\n",
       "      <th>0</th>\n",
       "      <td>Harbourfront,Regent Park</td>\n",
       "      <td>M5A</td>\n",
       "      <td>43.65426</td>\n",
       "      <td>-79.360636</td>\n",
       "      <td>Roselle Desserts</td>\n",
       "      <td>43.653447</td>\n",
       "      <td>-79.362017</td>\n",
       "      <td>143</td>\n",
       "      <td>4bf58dd8d48988d16a941735</td>\n",
       "      <td>Bakery</td>\n",
       "    </tr>\n",
       "    <tr>\n",
       "      <th>1</th>\n",
       "      <td>Harbourfront,Regent Park</td>\n",
       "      <td>M5A</td>\n",
       "      <td>43.65426</td>\n",
       "      <td>-79.360636</td>\n",
       "      <td>Tandem Coffee</td>\n",
       "      <td>43.653559</td>\n",
       "      <td>-79.361809</td>\n",
       "      <td>122</td>\n",
       "      <td>4bf58dd8d48988d1e0931735</td>\n",
       "      <td>Coffee Shop</td>\n",
       "    </tr>\n",
       "    <tr>\n",
       "      <th>2</th>\n",
       "      <td>Harbourfront,Regent Park</td>\n",
       "      <td>M5A</td>\n",
       "      <td>43.65426</td>\n",
       "      <td>-79.360636</td>\n",
       "      <td>Toronto Cooper Koo Family Cherry St YMCA Centre</td>\n",
       "      <td>43.653191</td>\n",
       "      <td>-79.357947</td>\n",
       "      <td>247</td>\n",
       "      <td>4bf58dd8d48988d175941735</td>\n",
       "      <td>Gym / Fitness Center</td>\n",
       "    </tr>\n",
       "    <tr>\n",
       "      <th>3</th>\n",
       "      <td>Harbourfront,Regent Park</td>\n",
       "      <td>M5A</td>\n",
       "      <td>43.65426</td>\n",
       "      <td>-79.360636</td>\n",
       "      <td>The Distillery Historic District</td>\n",
       "      <td>43.650244</td>\n",
       "      <td>-79.359323</td>\n",
       "      <td>459</td>\n",
       "      <td>4deefb944765f83613cdba6e</td>\n",
       "      <td>Historic Site</td>\n",
       "    </tr>\n",
       "    <tr>\n",
       "      <th>4</th>\n",
       "      <td>Harbourfront,Regent Park</td>\n",
       "      <td>M5A</td>\n",
       "      <td>43.65426</td>\n",
       "      <td>-79.360636</td>\n",
       "      <td>Impact Kitchen</td>\n",
       "      <td>43.656369</td>\n",
       "      <td>-79.356980</td>\n",
       "      <td>376</td>\n",
       "      <td>4bf58dd8d48988d1c4941735</td>\n",
       "      <td>Restaurant</td>\n",
       "    </tr>\n",
       "  </tbody>\n",
       "</table>\n",
       "</div>"
      ],
      "text/plain": [
       "               Neighborhood Postcode  Neighborhood Latitude  \\\n",
       "0  Harbourfront,Regent Park      M5A               43.65426   \n",
       "1  Harbourfront,Regent Park      M5A               43.65426   \n",
       "2  Harbourfront,Regent Park      M5A               43.65426   \n",
       "3  Harbourfront,Regent Park      M5A               43.65426   \n",
       "4  Harbourfront,Regent Park      M5A               43.65426   \n",
       "\n",
       "   Neighborhood Longitude                                            Venue  \\\n",
       "0              -79.360636                                 Roselle Desserts   \n",
       "1              -79.360636                                    Tandem Coffee   \n",
       "2              -79.360636  Toronto Cooper Koo Family Cherry St YMCA Centre   \n",
       "3              -79.360636                 The Distillery Historic District   \n",
       "4              -79.360636                                   Impact Kitchen   \n",
       "\n",
       "   Venue Latitude  Venue Longitude  Venue distance                  Venue ID  \\\n",
       "0       43.653447       -79.362017             143  4bf58dd8d48988d16a941735   \n",
       "1       43.653559       -79.361809             122  4bf58dd8d48988d1e0931735   \n",
       "2       43.653191       -79.357947             247  4bf58dd8d48988d175941735   \n",
       "3       43.650244       -79.359323             459  4deefb944765f83613cdba6e   \n",
       "4       43.656369       -79.356980             376  4bf58dd8d48988d1c4941735   \n",
       "\n",
       "         Venue Category  \n",
       "0                Bakery  \n",
       "1           Coffee Shop  \n",
       "2  Gym / Fitness Center  \n",
       "3         Historic Site  \n",
       "4            Restaurant  "
      ]
     },
     "execution_count": 72,
     "metadata": {},
     "output_type": "execute_result"
    }
   ],
   "source": [
    "Toronto_venues.head()"
   ]
  },
  {
   "cell_type": "code",
   "execution_count": 73,
   "metadata": {},
   "outputs": [],
   "source": [
    "Toronto_venues.drop_duplicates(subset=[\"Venue\",\"Venue Latitude\",\"Venue Longitude\"],keep='first', inplace=True)"
   ]
  },
  {
   "cell_type": "code",
   "execution_count": 74,
   "metadata": {},
   "outputs": [
    {
     "data": {
      "text/plain": [
       "(2111, 10)"
      ]
     },
     "execution_count": 74,
     "metadata": {},
     "output_type": "execute_result"
    }
   ],
   "source": [
    "Toronto_venues.shape"
   ]
  },
  {
   "cell_type": "code",
   "execution_count": 75,
   "metadata": {},
   "outputs": [
    {
     "data": {
      "text/plain": [
       "Harbourfront,Regent Park                                                                                100\n",
       "Little Portugal,Trinity                                                                                 100\n",
       "The Danforth West,Riverdale                                                                             100\n",
       "Christie                                                                                                100\n",
       "The Beaches                                                                                             100\n",
       "Dovercourt Village,Dufferin                                                                              94\n",
       "Ryerson,Garden District                                                                                  92\n",
       "High Park,The Junction South                                                                             91\n",
       "Moore Park,Summerhill East                                                                               91\n",
       "Studio District                                                                                          89\n",
       "Runnymede,Swansea                                                                                        82\n",
       "The Beaches West,India Bazaar                                                                            81\n",
       "Parkdale,Roncesvalles                                                                                    80\n",
       "Brockton,Exhibition Place,Parkdale Village                                                               79\n",
       "The Annex,North Midtown,Yorkville                                                                        73\n",
       "Davisville North                                                                                         66\n",
       "Harbord,University of Toronto                                                                            59\n",
       "Cabbagetown,St. James Town                                                                               58\n",
       "Davisville                                                                                               55\n",
       "North Toronto West                                                                                       55\n",
       "Chinatown,Grange Park,Kensington Market                                                                  50\n",
       "Harbourfront East,Toronto Islands,Union Station                                                          48\n",
       "Church and Wellesley                                                                                     42\n",
       "Rosedale                                                                                                 41\n",
       "Berczy Park                                                                                              40\n",
       "Adelaide,King,Richmond                                                                                   35\n",
       "St. James Town                                                                                           34\n",
       "Central Bay Street                                                                                       33\n",
       "Roselawn                                                                                                 33\n",
       "Forest Hill North,Forest Hill West                                                                       31\n",
       "CN Tower,Bathurst Quay,Island airport,Harbourfront West,King and Spadina,Railway Lands,South Niagara     27\n",
       "Lawrence Park                                                                                            25\n",
       "Deer Park,Forest Hill SE,Rathnelly,South Hill,Summerhill West                                            16\n",
       "Business Reply Mail Processing Centre 969 Eastern                                                         6\n",
       "Design Exchange,Toronto Dominion Centre                                                                   3\n",
       "Stn A PO Boxes 25 The Esplanade                                                                           2\n",
       "Name: Neighborhood, dtype: int64"
      ]
     },
     "execution_count": 75,
     "metadata": {},
     "output_type": "execute_result"
    }
   ],
   "source": [
    "Toronto_venues[\"Neighborhood\"].value_counts()"
   ]
  },
  {
   "cell_type": "markdown",
   "metadata": {},
   "source": [
    "### 3.5 Link Crime data and Neighbourhood venue data"
   ]
  },
  {
   "cell_type": "code",
   "execution_count": 76,
   "metadata": {},
   "outputs": [
    {
     "data": {
      "text/html": [
       "<div>\n",
       "<style scoped>\n",
       "    .dataframe tbody tr th:only-of-type {\n",
       "        vertical-align: middle;\n",
       "    }\n",
       "\n",
       "    .dataframe tbody tr th {\n",
       "        vertical-align: top;\n",
       "    }\n",
       "\n",
       "    .dataframe thead th {\n",
       "        text-align: right;\n",
       "    }\n",
       "</style>\n",
       "<table border=\"1\" class=\"dataframe\">\n",
       "  <thead>\n",
       "    <tr style=\"text-align: right;\">\n",
       "      <th></th>\n",
       "      <th>Postcode</th>\n",
       "      <th>Borough</th>\n",
       "      <th>Neighborhood</th>\n",
       "    </tr>\n",
       "  </thead>\n",
       "  <tbody>\n",
       "    <tr>\n",
       "      <th>0</th>\n",
       "      <td>M3A</td>\n",
       "      <td>North York</td>\n",
       "      <td>Parkwoods</td>\n",
       "    </tr>\n",
       "    <tr>\n",
       "      <th>1</th>\n",
       "      <td>M4A</td>\n",
       "      <td>North York</td>\n",
       "      <td>Victoria Village</td>\n",
       "    </tr>\n",
       "    <tr>\n",
       "      <th>2</th>\n",
       "      <td>M5A</td>\n",
       "      <td>Downtown Toronto</td>\n",
       "      <td>Harbourfront,Regent Park</td>\n",
       "    </tr>\n",
       "    <tr>\n",
       "      <th>3</th>\n",
       "      <td>M6A</td>\n",
       "      <td>North York</td>\n",
       "      <td>Lawrence Heights,Lawrence Manor</td>\n",
       "    </tr>\n",
       "    <tr>\n",
       "      <th>4</th>\n",
       "      <td>M7A</td>\n",
       "      <td>Queen's Park</td>\n",
       "      <td>Queen's Park</td>\n",
       "    </tr>\n",
       "  </tbody>\n",
       "</table>\n",
       "</div>"
      ],
      "text/plain": [
       "  Postcode           Borough                     Neighborhood\n",
       "0      M3A        North York                        Parkwoods\n",
       "1      M4A        North York                 Victoria Village\n",
       "2      M5A  Downtown Toronto         Harbourfront,Regent Park\n",
       "3      M6A        North York  Lawrence Heights,Lawrence Manor\n",
       "4      M7A      Queen's Park                     Queen's Park"
      ]
     },
     "execution_count": 76,
     "metadata": {},
     "output_type": "execute_result"
    }
   ],
   "source": [
    "Toronto_df_1=Toronto_df\n",
    "Toronto_df_1.columns=['Postcode', 'Borough', 'Neighborhood']\n",
    "Toronto_df_1.head()"
   ]
  },
  {
   "cell_type": "code",
   "execution_count": 77,
   "metadata": {},
   "outputs": [
    {
     "data": {
      "text/html": [
       "<div>\n",
       "<style scoped>\n",
       "    .dataframe tbody tr th:only-of-type {\n",
       "        vertical-align: middle;\n",
       "    }\n",
       "\n",
       "    .dataframe tbody tr th {\n",
       "        vertical-align: top;\n",
       "    }\n",
       "\n",
       "    .dataframe thead th {\n",
       "        text-align: right;\n",
       "    }\n",
       "</style>\n",
       "<table border=\"1\" class=\"dataframe\">\n",
       "  <thead>\n",
       "    <tr style=\"text-align: right;\">\n",
       "      <th></th>\n",
       "      <th>Neighborhood</th>\n",
       "      <th>Postcode</th>\n",
       "      <th>Neighborhood Latitude</th>\n",
       "      <th>Neighborhood Longitude</th>\n",
       "      <th>Venue</th>\n",
       "      <th>Venue Latitude</th>\n",
       "      <th>Venue Longitude</th>\n",
       "      <th>Venue distance</th>\n",
       "      <th>Venue ID</th>\n",
       "      <th>Venue Category</th>\n",
       "    </tr>\n",
       "  </thead>\n",
       "  <tbody>\n",
       "    <tr>\n",
       "      <th>0</th>\n",
       "      <td>Harbourfront,Regent Park</td>\n",
       "      <td>M5A</td>\n",
       "      <td>43.65426</td>\n",
       "      <td>-79.360636</td>\n",
       "      <td>Roselle Desserts</td>\n",
       "      <td>43.653447</td>\n",
       "      <td>-79.362017</td>\n",
       "      <td>143</td>\n",
       "      <td>4bf58dd8d48988d16a941735</td>\n",
       "      <td>Bakery</td>\n",
       "    </tr>\n",
       "    <tr>\n",
       "      <th>1</th>\n",
       "      <td>Harbourfront,Regent Park</td>\n",
       "      <td>M5A</td>\n",
       "      <td>43.65426</td>\n",
       "      <td>-79.360636</td>\n",
       "      <td>Tandem Coffee</td>\n",
       "      <td>43.653559</td>\n",
       "      <td>-79.361809</td>\n",
       "      <td>122</td>\n",
       "      <td>4bf58dd8d48988d1e0931735</td>\n",
       "      <td>Coffee Shop</td>\n",
       "    </tr>\n",
       "    <tr>\n",
       "      <th>2</th>\n",
       "      <td>Harbourfront,Regent Park</td>\n",
       "      <td>M5A</td>\n",
       "      <td>43.65426</td>\n",
       "      <td>-79.360636</td>\n",
       "      <td>Toronto Cooper Koo Family Cherry St YMCA Centre</td>\n",
       "      <td>43.653191</td>\n",
       "      <td>-79.357947</td>\n",
       "      <td>247</td>\n",
       "      <td>4bf58dd8d48988d175941735</td>\n",
       "      <td>Gym / Fitness Center</td>\n",
       "    </tr>\n",
       "    <tr>\n",
       "      <th>3</th>\n",
       "      <td>Harbourfront,Regent Park</td>\n",
       "      <td>M5A</td>\n",
       "      <td>43.65426</td>\n",
       "      <td>-79.360636</td>\n",
       "      <td>The Distillery Historic District</td>\n",
       "      <td>43.650244</td>\n",
       "      <td>-79.359323</td>\n",
       "      <td>459</td>\n",
       "      <td>4deefb944765f83613cdba6e</td>\n",
       "      <td>Historic Site</td>\n",
       "    </tr>\n",
       "    <tr>\n",
       "      <th>4</th>\n",
       "      <td>Harbourfront,Regent Park</td>\n",
       "      <td>M5A</td>\n",
       "      <td>43.65426</td>\n",
       "      <td>-79.360636</td>\n",
       "      <td>Impact Kitchen</td>\n",
       "      <td>43.656369</td>\n",
       "      <td>-79.356980</td>\n",
       "      <td>376</td>\n",
       "      <td>4bf58dd8d48988d1c4941735</td>\n",
       "      <td>Restaurant</td>\n",
       "    </tr>\n",
       "  </tbody>\n",
       "</table>\n",
       "</div>"
      ],
      "text/plain": [
       "               Neighborhood Postcode  Neighborhood Latitude  \\\n",
       "0  Harbourfront,Regent Park      M5A               43.65426   \n",
       "1  Harbourfront,Regent Park      M5A               43.65426   \n",
       "2  Harbourfront,Regent Park      M5A               43.65426   \n",
       "3  Harbourfront,Regent Park      M5A               43.65426   \n",
       "4  Harbourfront,Regent Park      M5A               43.65426   \n",
       "\n",
       "   Neighborhood Longitude                                            Venue  \\\n",
       "0              -79.360636                                 Roselle Desserts   \n",
       "1              -79.360636                                    Tandem Coffee   \n",
       "2              -79.360636  Toronto Cooper Koo Family Cherry St YMCA Centre   \n",
       "3              -79.360636                 The Distillery Historic District   \n",
       "4              -79.360636                                   Impact Kitchen   \n",
       "\n",
       "   Venue Latitude  Venue Longitude  Venue distance                  Venue ID  \\\n",
       "0       43.653447       -79.362017             143  4bf58dd8d48988d16a941735   \n",
       "1       43.653559       -79.361809             122  4bf58dd8d48988d1e0931735   \n",
       "2       43.653191       -79.357947             247  4bf58dd8d48988d175941735   \n",
       "3       43.650244       -79.359323             459  4deefb944765f83613cdba6e   \n",
       "4       43.656369       -79.356980             376  4bf58dd8d48988d1c4941735   \n",
       "\n",
       "         Venue Category  \n",
       "0                Bakery  \n",
       "1           Coffee Shop  \n",
       "2  Gym / Fitness Center  \n",
       "3         Historic Site  \n",
       "4            Restaurant  "
      ]
     },
     "execution_count": 77,
     "metadata": {},
     "output_type": "execute_result"
    }
   ],
   "source": [
    "Toronto_venues.head()"
   ]
  },
  {
   "cell_type": "code",
   "execution_count": 78,
   "metadata": {},
   "outputs": [],
   "source": [
    "Postcode_venue=pd.crosstab(Toronto_venues[\"Postcode\"],Toronto_venues[\"Venue Category\"])"
   ]
  },
  {
   "cell_type": "code",
   "execution_count": 79,
   "metadata": {},
   "outputs": [
    {
     "data": {
      "text/html": [
       "<div>\n",
       "<style scoped>\n",
       "    .dataframe tbody tr th:only-of-type {\n",
       "        vertical-align: middle;\n",
       "    }\n",
       "\n",
       "    .dataframe tbody tr th {\n",
       "        vertical-align: top;\n",
       "    }\n",
       "\n",
       "    .dataframe thead th {\n",
       "        text-align: right;\n",
       "    }\n",
       "</style>\n",
       "<table border=\"1\" class=\"dataframe\">\n",
       "  <thead>\n",
       "    <tr style=\"text-align: right;\">\n",
       "      <th>Venue Category</th>\n",
       "      <th>Adult Boutique</th>\n",
       "      <th>Afghan Restaurant</th>\n",
       "      <th>African Restaurant</th>\n",
       "      <th>Airport</th>\n",
       "      <th>Airport Lounge</th>\n",
       "      <th>American Restaurant</th>\n",
       "      <th>Amphitheater</th>\n",
       "      <th>Animal Shelter</th>\n",
       "      <th>Antique Shop</th>\n",
       "      <th>Aquarium</th>\n",
       "      <th>...</th>\n",
       "      <th>Vegetarian / Vegan Restaurant</th>\n",
       "      <th>Video Game Store</th>\n",
       "      <th>Video Store</th>\n",
       "      <th>Vietnamese Restaurant</th>\n",
       "      <th>Whisky Bar</th>\n",
       "      <th>Wine Bar</th>\n",
       "      <th>Wings Joint</th>\n",
       "      <th>Women's Store</th>\n",
       "      <th>Yoga Studio</th>\n",
       "      <th>Zoo</th>\n",
       "    </tr>\n",
       "    <tr>\n",
       "      <th>Postcode</th>\n",
       "      <th></th>\n",
       "      <th></th>\n",
       "      <th></th>\n",
       "      <th></th>\n",
       "      <th></th>\n",
       "      <th></th>\n",
       "      <th></th>\n",
       "      <th></th>\n",
       "      <th></th>\n",
       "      <th></th>\n",
       "      <th></th>\n",
       "      <th></th>\n",
       "      <th></th>\n",
       "      <th></th>\n",
       "      <th></th>\n",
       "      <th></th>\n",
       "      <th></th>\n",
       "      <th></th>\n",
       "      <th></th>\n",
       "      <th></th>\n",
       "      <th></th>\n",
       "    </tr>\n",
       "  </thead>\n",
       "  <tbody>\n",
       "    <tr>\n",
       "      <th>M4E</th>\n",
       "      <td>0</td>\n",
       "      <td>0</td>\n",
       "      <td>0</td>\n",
       "      <td>0</td>\n",
       "      <td>0</td>\n",
       "      <td>0</td>\n",
       "      <td>0</td>\n",
       "      <td>0</td>\n",
       "      <td>0</td>\n",
       "      <td>0</td>\n",
       "      <td>...</td>\n",
       "      <td>1</td>\n",
       "      <td>0</td>\n",
       "      <td>0</td>\n",
       "      <td>0</td>\n",
       "      <td>0</td>\n",
       "      <td>0</td>\n",
       "      <td>0</td>\n",
       "      <td>0</td>\n",
       "      <td>0</td>\n",
       "      <td>0</td>\n",
       "    </tr>\n",
       "    <tr>\n",
       "      <th>M4K</th>\n",
       "      <td>0</td>\n",
       "      <td>0</td>\n",
       "      <td>0</td>\n",
       "      <td>0</td>\n",
       "      <td>0</td>\n",
       "      <td>1</td>\n",
       "      <td>0</td>\n",
       "      <td>0</td>\n",
       "      <td>0</td>\n",
       "      <td>0</td>\n",
       "      <td>...</td>\n",
       "      <td>0</td>\n",
       "      <td>0</td>\n",
       "      <td>0</td>\n",
       "      <td>0</td>\n",
       "      <td>0</td>\n",
       "      <td>0</td>\n",
       "      <td>0</td>\n",
       "      <td>0</td>\n",
       "      <td>2</td>\n",
       "      <td>0</td>\n",
       "    </tr>\n",
       "    <tr>\n",
       "      <th>M4L</th>\n",
       "      <td>0</td>\n",
       "      <td>0</td>\n",
       "      <td>0</td>\n",
       "      <td>0</td>\n",
       "      <td>0</td>\n",
       "      <td>0</td>\n",
       "      <td>0</td>\n",
       "      <td>0</td>\n",
       "      <td>0</td>\n",
       "      <td>0</td>\n",
       "      <td>...</td>\n",
       "      <td>0</td>\n",
       "      <td>0</td>\n",
       "      <td>0</td>\n",
       "      <td>0</td>\n",
       "      <td>0</td>\n",
       "      <td>0</td>\n",
       "      <td>0</td>\n",
       "      <td>1</td>\n",
       "      <td>0</td>\n",
       "      <td>0</td>\n",
       "    </tr>\n",
       "    <tr>\n",
       "      <th>M4M</th>\n",
       "      <td>0</td>\n",
       "      <td>0</td>\n",
       "      <td>0</td>\n",
       "      <td>0</td>\n",
       "      <td>0</td>\n",
       "      <td>4</td>\n",
       "      <td>0</td>\n",
       "      <td>0</td>\n",
       "      <td>1</td>\n",
       "      <td>0</td>\n",
       "      <td>...</td>\n",
       "      <td>2</td>\n",
       "      <td>0</td>\n",
       "      <td>0</td>\n",
       "      <td>5</td>\n",
       "      <td>0</td>\n",
       "      <td>0</td>\n",
       "      <td>0</td>\n",
       "      <td>0</td>\n",
       "      <td>1</td>\n",
       "      <td>0</td>\n",
       "    </tr>\n",
       "    <tr>\n",
       "      <th>M4N</th>\n",
       "      <td>0</td>\n",
       "      <td>0</td>\n",
       "      <td>0</td>\n",
       "      <td>0</td>\n",
       "      <td>0</td>\n",
       "      <td>0</td>\n",
       "      <td>0</td>\n",
       "      <td>0</td>\n",
       "      <td>0</td>\n",
       "      <td>0</td>\n",
       "      <td>...</td>\n",
       "      <td>0</td>\n",
       "      <td>0</td>\n",
       "      <td>0</td>\n",
       "      <td>0</td>\n",
       "      <td>0</td>\n",
       "      <td>0</td>\n",
       "      <td>0</td>\n",
       "      <td>0</td>\n",
       "      <td>0</td>\n",
       "      <td>0</td>\n",
       "    </tr>\n",
       "  </tbody>\n",
       "</table>\n",
       "<p>5 rows × 273 columns</p>\n",
       "</div>"
      ],
      "text/plain": [
       "Venue Category  Adult Boutique  Afghan Restaurant  African Restaurant  \\\n",
       "Postcode                                                                \n",
       "M4E                          0                  0                   0   \n",
       "M4K                          0                  0                   0   \n",
       "M4L                          0                  0                   0   \n",
       "M4M                          0                  0                   0   \n",
       "M4N                          0                  0                   0   \n",
       "\n",
       "Venue Category  Airport  Airport Lounge  American Restaurant  Amphitheater  \\\n",
       "Postcode                                                                     \n",
       "M4E                   0               0                    0             0   \n",
       "M4K                   0               0                    1             0   \n",
       "M4L                   0               0                    0             0   \n",
       "M4M                   0               0                    4             0   \n",
       "M4N                   0               0                    0             0   \n",
       "\n",
       "Venue Category  Animal Shelter  Antique Shop  Aquarium  ...  \\\n",
       "Postcode                                                ...   \n",
       "M4E                          0             0         0  ...   \n",
       "M4K                          0             0         0  ...   \n",
       "M4L                          0             0         0  ...   \n",
       "M4M                          0             1         0  ...   \n",
       "M4N                          0             0         0  ...   \n",
       "\n",
       "Venue Category  Vegetarian / Vegan Restaurant  Video Game Store  Video Store  \\\n",
       "Postcode                                                                       \n",
       "M4E                                         1                 0            0   \n",
       "M4K                                         0                 0            0   \n",
       "M4L                                         0                 0            0   \n",
       "M4M                                         2                 0            0   \n",
       "M4N                                         0                 0            0   \n",
       "\n",
       "Venue Category  Vietnamese Restaurant  Whisky Bar  Wine Bar  Wings Joint  \\\n",
       "Postcode                                                                   \n",
       "M4E                                 0           0         0            0   \n",
       "M4K                                 0           0         0            0   \n",
       "M4L                                 0           0         0            0   \n",
       "M4M                                 5           0         0            0   \n",
       "M4N                                 0           0         0            0   \n",
       "\n",
       "Venue Category  Women's Store  Yoga Studio  Zoo  \n",
       "Postcode                                         \n",
       "M4E                         0            0    0  \n",
       "M4K                         0            2    0  \n",
       "M4L                         1            0    0  \n",
       "M4M                         0            1    0  \n",
       "M4N                         0            0    0  \n",
       "\n",
       "[5 rows x 273 columns]"
      ]
     },
     "execution_count": 79,
     "metadata": {},
     "output_type": "execute_result"
    }
   ],
   "source": [
    "Postcode_venue.head()"
   ]
  },
  {
   "cell_type": "code",
   "execution_count": 80,
   "metadata": {},
   "outputs": [],
   "source": [
    "venue_category=Toronto_venues[\"Venue Category\"].value_counts()"
   ]
  },
  {
   "cell_type": "code",
   "execution_count": 81,
   "metadata": {},
   "outputs": [],
   "source": [
    "venue_category.columns=[\"Venue Category\",\"Venue value counts\"]"
   ]
  },
  {
   "cell_type": "code",
   "execution_count": 82,
   "metadata": {},
   "outputs": [],
   "source": [
    "df_venue_category=venue_category.to_frame()"
   ]
  },
  {
   "cell_type": "code",
   "execution_count": 83,
   "metadata": {},
   "outputs": [],
   "source": [
    "df_venue_category.columns=[\"Venue value counts\"]"
   ]
  },
  {
   "cell_type": "code",
   "execution_count": 84,
   "metadata": {},
   "outputs": [],
   "source": [
    "df_venue_category[\"Venue Category\"]=df_venue_category.index"
   ]
  },
  {
   "cell_type": "code",
   "execution_count": 85,
   "metadata": {},
   "outputs": [
    {
     "data": {
      "text/html": [
       "<div>\n",
       "<style scoped>\n",
       "    .dataframe tbody tr th:only-of-type {\n",
       "        vertical-align: middle;\n",
       "    }\n",
       "\n",
       "    .dataframe tbody tr th {\n",
       "        vertical-align: top;\n",
       "    }\n",
       "\n",
       "    .dataframe thead th {\n",
       "        text-align: right;\n",
       "    }\n",
       "</style>\n",
       "<table border=\"1\" class=\"dataframe\">\n",
       "  <thead>\n",
       "    <tr style=\"text-align: right;\">\n",
       "      <th></th>\n",
       "      <th>Venue value counts</th>\n",
       "      <th>Venue Category</th>\n",
       "    </tr>\n",
       "  </thead>\n",
       "  <tbody>\n",
       "    <tr>\n",
       "      <th>Coffee Shop</th>\n",
       "      <td>159</td>\n",
       "      <td>Coffee Shop</td>\n",
       "    </tr>\n",
       "    <tr>\n",
       "      <th>Café</th>\n",
       "      <td>123</td>\n",
       "      <td>Café</td>\n",
       "    </tr>\n",
       "    <tr>\n",
       "      <th>Italian Restaurant</th>\n",
       "      <td>71</td>\n",
       "      <td>Italian Restaurant</td>\n",
       "    </tr>\n",
       "    <tr>\n",
       "      <th>Park</th>\n",
       "      <td>66</td>\n",
       "      <td>Park</td>\n",
       "    </tr>\n",
       "    <tr>\n",
       "      <th>Bakery</th>\n",
       "      <td>63</td>\n",
       "      <td>Bakery</td>\n",
       "    </tr>\n",
       "  </tbody>\n",
       "</table>\n",
       "</div>"
      ],
      "text/plain": [
       "                    Venue value counts      Venue Category\n",
       "Coffee Shop                        159         Coffee Shop\n",
       "Café                               123                Café\n",
       "Italian Restaurant                  71  Italian Restaurant\n",
       "Park                                66                Park\n",
       "Bakery                              63              Bakery"
      ]
     },
     "execution_count": 85,
     "metadata": {},
     "output_type": "execute_result"
    }
   ],
   "source": [
    "df_venue_category.head()"
   ]
  },
  {
   "cell_type": "code",
   "execution_count": 86,
   "metadata": {},
   "outputs": [],
   "source": [
    "writer = pd.ExcelWriter('pandas_simple.xlsx', engine='xlsxwriter')\n",
    "\n",
    "# Convert the dataframe to an XlsxWriter Excel object.\n",
    "venue_category.to_excel(writer, sheet_name='Sheet1')\n",
    "\n",
    "# Close the Pandas Excel writer and output the Excel file.\n",
    "writer.save()"
   ]
  },
  {
   "cell_type": "code",
   "execution_count": 87,
   "metadata": {},
   "outputs": [],
   "source": [
    "venue_category_1=pd.read_excel('pandas_simple.xlsx',index_col=None)"
   ]
  },
  {
   "cell_type": "code",
   "execution_count": 88,
   "metadata": {},
   "outputs": [
    {
     "data": {
      "text/html": [
       "<div>\n",
       "<style scoped>\n",
       "    .dataframe tbody tr th:only-of-type {\n",
       "        vertical-align: middle;\n",
       "    }\n",
       "\n",
       "    .dataframe tbody tr th {\n",
       "        vertical-align: top;\n",
       "    }\n",
       "\n",
       "    .dataframe thead th {\n",
       "        text-align: right;\n",
       "    }\n",
       "</style>\n",
       "<table border=\"1\" class=\"dataframe\">\n",
       "  <thead>\n",
       "    <tr style=\"text-align: right;\">\n",
       "      <th></th>\n",
       "      <th>Unnamed: 0</th>\n",
       "      <th>Venue Category</th>\n",
       "    </tr>\n",
       "  </thead>\n",
       "  <tbody>\n",
       "    <tr>\n",
       "      <th>0</th>\n",
       "      <td>Coffee Shop</td>\n",
       "      <td>159</td>\n",
       "    </tr>\n",
       "    <tr>\n",
       "      <th>1</th>\n",
       "      <td>Café</td>\n",
       "      <td>123</td>\n",
       "    </tr>\n",
       "    <tr>\n",
       "      <th>2</th>\n",
       "      <td>Italian Restaurant</td>\n",
       "      <td>71</td>\n",
       "    </tr>\n",
       "    <tr>\n",
       "      <th>3</th>\n",
       "      <td>Park</td>\n",
       "      <td>66</td>\n",
       "    </tr>\n",
       "    <tr>\n",
       "      <th>4</th>\n",
       "      <td>Bakery</td>\n",
       "      <td>63</td>\n",
       "    </tr>\n",
       "  </tbody>\n",
       "</table>\n",
       "</div>"
      ],
      "text/plain": [
       "           Unnamed: 0  Venue Category\n",
       "0         Coffee Shop             159\n",
       "1                Café             123\n",
       "2  Italian Restaurant              71\n",
       "3                Park              66\n",
       "4              Bakery              63"
      ]
     },
     "execution_count": 88,
     "metadata": {},
     "output_type": "execute_result"
    }
   ],
   "source": [
    "venue_category_1.head()"
   ]
  },
  {
   "cell_type": "code",
   "execution_count": 89,
   "metadata": {},
   "outputs": [],
   "source": [
    "Toronto_venues_1=pd.merge(Toronto_venues,df_venue_category,left_on=\"Venue Category\", right_on=\"Venue Category\", how='inner')  "
   ]
  },
  {
   "cell_type": "code",
   "execution_count": 90,
   "metadata": {},
   "outputs": [
    {
     "data": {
      "text/html": [
       "<div>\n",
       "<style scoped>\n",
       "    .dataframe tbody tr th:only-of-type {\n",
       "        vertical-align: middle;\n",
       "    }\n",
       "\n",
       "    .dataframe tbody tr th {\n",
       "        vertical-align: top;\n",
       "    }\n",
       "\n",
       "    .dataframe thead th {\n",
       "        text-align: right;\n",
       "    }\n",
       "</style>\n",
       "<table border=\"1\" class=\"dataframe\">\n",
       "  <thead>\n",
       "    <tr style=\"text-align: right;\">\n",
       "      <th></th>\n",
       "      <th>Neighborhood</th>\n",
       "      <th>Postcode</th>\n",
       "      <th>Neighborhood Latitude</th>\n",
       "      <th>Neighborhood Longitude</th>\n",
       "      <th>Venue</th>\n",
       "      <th>Venue Latitude</th>\n",
       "      <th>Venue Longitude</th>\n",
       "      <th>Venue distance</th>\n",
       "      <th>Venue ID</th>\n",
       "      <th>Venue Category</th>\n",
       "      <th>Venue value counts</th>\n",
       "    </tr>\n",
       "  </thead>\n",
       "  <tbody>\n",
       "    <tr>\n",
       "      <th>0</th>\n",
       "      <td>Harbourfront,Regent Park</td>\n",
       "      <td>M5A</td>\n",
       "      <td>43.654260</td>\n",
       "      <td>-79.360636</td>\n",
       "      <td>Roselle Desserts</td>\n",
       "      <td>43.653447</td>\n",
       "      <td>-79.362017</td>\n",
       "      <td>143</td>\n",
       "      <td>4bf58dd8d48988d16a941735</td>\n",
       "      <td>Bakery</td>\n",
       "      <td>63</td>\n",
       "    </tr>\n",
       "    <tr>\n",
       "      <th>1</th>\n",
       "      <td>Harbourfront,Regent Park</td>\n",
       "      <td>M5A</td>\n",
       "      <td>43.654260</td>\n",
       "      <td>-79.360636</td>\n",
       "      <td>Brick Street Bakery</td>\n",
       "      <td>43.650574</td>\n",
       "      <td>-79.359539</td>\n",
       "      <td>419</td>\n",
       "      <td>4bf58dd8d48988d16a941735</td>\n",
       "      <td>Bakery</td>\n",
       "      <td>63</td>\n",
       "    </tr>\n",
       "    <tr>\n",
       "      <th>2</th>\n",
       "      <td>Harbourfront,Regent Park</td>\n",
       "      <td>M5A</td>\n",
       "      <td>43.654260</td>\n",
       "      <td>-79.360636</td>\n",
       "      <td>The Sweet Escape Patisserie</td>\n",
       "      <td>43.650632</td>\n",
       "      <td>-79.358709</td>\n",
       "      <td>432</td>\n",
       "      <td>4bf58dd8d48988d16a941735</td>\n",
       "      <td>Bakery</td>\n",
       "      <td>63</td>\n",
       "    </tr>\n",
       "    <tr>\n",
       "      <th>3</th>\n",
       "      <td>Harbourfront,Regent Park</td>\n",
       "      <td>M5A</td>\n",
       "      <td>43.654260</td>\n",
       "      <td>-79.360636</td>\n",
       "      <td>Stonemill Bread</td>\n",
       "      <td>43.648668</td>\n",
       "      <td>-79.371610</td>\n",
       "      <td>1081</td>\n",
       "      <td>4bf58dd8d48988d16a941735</td>\n",
       "      <td>Bakery</td>\n",
       "      <td>63</td>\n",
       "    </tr>\n",
       "    <tr>\n",
       "      <th>4</th>\n",
       "      <td>St. James Town</td>\n",
       "      <td>M5C</td>\n",
       "      <td>43.651494</td>\n",
       "      <td>-79.375418</td>\n",
       "      <td>Sud Forno</td>\n",
       "      <td>43.650940</td>\n",
       "      <td>-79.379045</td>\n",
       "      <td>298</td>\n",
       "      <td>4bf58dd8d48988d16a941735</td>\n",
       "      <td>Bakery</td>\n",
       "      <td>63</td>\n",
       "    </tr>\n",
       "  </tbody>\n",
       "</table>\n",
       "</div>"
      ],
      "text/plain": [
       "               Neighborhood Postcode  Neighborhood Latitude  \\\n",
       "0  Harbourfront,Regent Park      M5A              43.654260   \n",
       "1  Harbourfront,Regent Park      M5A              43.654260   \n",
       "2  Harbourfront,Regent Park      M5A              43.654260   \n",
       "3  Harbourfront,Regent Park      M5A              43.654260   \n",
       "4            St. James Town      M5C              43.651494   \n",
       "\n",
       "   Neighborhood Longitude                        Venue  Venue Latitude  \\\n",
       "0              -79.360636             Roselle Desserts       43.653447   \n",
       "1              -79.360636          Brick Street Bakery       43.650574   \n",
       "2              -79.360636  The Sweet Escape Patisserie       43.650632   \n",
       "3              -79.360636              Stonemill Bread       43.648668   \n",
       "4              -79.375418                    Sud Forno       43.650940   \n",
       "\n",
       "   Venue Longitude  Venue distance                  Venue ID Venue Category  \\\n",
       "0       -79.362017             143  4bf58dd8d48988d16a941735         Bakery   \n",
       "1       -79.359539             419  4bf58dd8d48988d16a941735         Bakery   \n",
       "2       -79.358709             432  4bf58dd8d48988d16a941735         Bakery   \n",
       "3       -79.371610            1081  4bf58dd8d48988d16a941735         Bakery   \n",
       "4       -79.379045             298  4bf58dd8d48988d16a941735         Bakery   \n",
       "\n",
       "   Venue value counts  \n",
       "0                  63  \n",
       "1                  63  \n",
       "2                  63  \n",
       "3                  63  \n",
       "4                  63  "
      ]
     },
     "execution_count": 90,
     "metadata": {},
     "output_type": "execute_result"
    }
   ],
   "source": [
    "Toronto_venues_1.head()"
   ]
  },
  {
   "cell_type": "code",
   "execution_count": 91,
   "metadata": {},
   "outputs": [],
   "source": [
    "Postcode_venue_1=pd.crosstab(Toronto_venues_1[\"Postcode\"],Toronto_venues_1[\"Venue Category\"])"
   ]
  },
  {
   "cell_type": "code",
   "execution_count": 92,
   "metadata": {},
   "outputs": [],
   "source": [
    "Postcode_venue_2=pd.crosstab(Toronto_venues_1[\"Postcode\"],columns=\"Venue value counts\")"
   ]
  },
  {
   "cell_type": "code",
   "execution_count": 93,
   "metadata": {},
   "outputs": [],
   "source": [
    "Postcode_venue_3=pd.merge(Postcode_venue_1,Postcode_venue_2,left_on=\"Postcode\", right_index=True, how='inner')  "
   ]
  },
  {
   "cell_type": "code",
   "execution_count": 94,
   "metadata": {},
   "outputs": [
    {
     "data": {
      "text/plain": [
       "(36, 273)"
      ]
     },
     "execution_count": 94,
     "metadata": {},
     "output_type": "execute_result"
    }
   ],
   "source": [
    "Postcode_venue_1.shape"
   ]
  },
  {
   "cell_type": "code",
   "execution_count": 95,
   "metadata": {},
   "outputs": [
    {
     "data": {
      "text/html": [
       "<div>\n",
       "<style scoped>\n",
       "    .dataframe tbody tr th:only-of-type {\n",
       "        vertical-align: middle;\n",
       "    }\n",
       "\n",
       "    .dataframe tbody tr th {\n",
       "        vertical-align: top;\n",
       "    }\n",
       "\n",
       "    .dataframe thead th {\n",
       "        text-align: right;\n",
       "    }\n",
       "</style>\n",
       "<table border=\"1\" class=\"dataframe\">\n",
       "  <thead>\n",
       "    <tr style=\"text-align: right;\">\n",
       "      <th></th>\n",
       "      <th>Adult Boutique</th>\n",
       "      <th>Afghan Restaurant</th>\n",
       "      <th>African Restaurant</th>\n",
       "      <th>Airport</th>\n",
       "      <th>Airport Lounge</th>\n",
       "      <th>American Restaurant</th>\n",
       "      <th>Amphitheater</th>\n",
       "      <th>Animal Shelter</th>\n",
       "      <th>Antique Shop</th>\n",
       "      <th>Aquarium</th>\n",
       "      <th>...</th>\n",
       "      <th>Video Game Store</th>\n",
       "      <th>Video Store</th>\n",
       "      <th>Vietnamese Restaurant</th>\n",
       "      <th>Whisky Bar</th>\n",
       "      <th>Wine Bar</th>\n",
       "      <th>Wings Joint</th>\n",
       "      <th>Women's Store</th>\n",
       "      <th>Yoga Studio</th>\n",
       "      <th>Zoo</th>\n",
       "      <th>Venue value counts</th>\n",
       "    </tr>\n",
       "    <tr>\n",
       "      <th>Postcode</th>\n",
       "      <th></th>\n",
       "      <th></th>\n",
       "      <th></th>\n",
       "      <th></th>\n",
       "      <th></th>\n",
       "      <th></th>\n",
       "      <th></th>\n",
       "      <th></th>\n",
       "      <th></th>\n",
       "      <th></th>\n",
       "      <th></th>\n",
       "      <th></th>\n",
       "      <th></th>\n",
       "      <th></th>\n",
       "      <th></th>\n",
       "      <th></th>\n",
       "      <th></th>\n",
       "      <th></th>\n",
       "      <th></th>\n",
       "      <th></th>\n",
       "      <th></th>\n",
       "    </tr>\n",
       "  </thead>\n",
       "  <tbody>\n",
       "    <tr>\n",
       "      <th>M4E</th>\n",
       "      <td>0</td>\n",
       "      <td>0</td>\n",
       "      <td>0</td>\n",
       "      <td>0</td>\n",
       "      <td>0</td>\n",
       "      <td>0</td>\n",
       "      <td>0</td>\n",
       "      <td>0</td>\n",
       "      <td>0</td>\n",
       "      <td>0</td>\n",
       "      <td>...</td>\n",
       "      <td>0</td>\n",
       "      <td>0</td>\n",
       "      <td>0</td>\n",
       "      <td>0</td>\n",
       "      <td>0</td>\n",
       "      <td>0</td>\n",
       "      <td>0</td>\n",
       "      <td>0</td>\n",
       "      <td>0</td>\n",
       "      <td>100</td>\n",
       "    </tr>\n",
       "    <tr>\n",
       "      <th>M4K</th>\n",
       "      <td>0</td>\n",
       "      <td>0</td>\n",
       "      <td>0</td>\n",
       "      <td>0</td>\n",
       "      <td>0</td>\n",
       "      <td>1</td>\n",
       "      <td>0</td>\n",
       "      <td>0</td>\n",
       "      <td>0</td>\n",
       "      <td>0</td>\n",
       "      <td>...</td>\n",
       "      <td>0</td>\n",
       "      <td>0</td>\n",
       "      <td>0</td>\n",
       "      <td>0</td>\n",
       "      <td>0</td>\n",
       "      <td>0</td>\n",
       "      <td>0</td>\n",
       "      <td>2</td>\n",
       "      <td>0</td>\n",
       "      <td>100</td>\n",
       "    </tr>\n",
       "    <tr>\n",
       "      <th>M4L</th>\n",
       "      <td>0</td>\n",
       "      <td>0</td>\n",
       "      <td>0</td>\n",
       "      <td>0</td>\n",
       "      <td>0</td>\n",
       "      <td>0</td>\n",
       "      <td>0</td>\n",
       "      <td>0</td>\n",
       "      <td>0</td>\n",
       "      <td>0</td>\n",
       "      <td>...</td>\n",
       "      <td>0</td>\n",
       "      <td>0</td>\n",
       "      <td>0</td>\n",
       "      <td>0</td>\n",
       "      <td>0</td>\n",
       "      <td>0</td>\n",
       "      <td>1</td>\n",
       "      <td>0</td>\n",
       "      <td>0</td>\n",
       "      <td>81</td>\n",
       "    </tr>\n",
       "    <tr>\n",
       "      <th>M4M</th>\n",
       "      <td>0</td>\n",
       "      <td>0</td>\n",
       "      <td>0</td>\n",
       "      <td>0</td>\n",
       "      <td>0</td>\n",
       "      <td>4</td>\n",
       "      <td>0</td>\n",
       "      <td>0</td>\n",
       "      <td>1</td>\n",
       "      <td>0</td>\n",
       "      <td>...</td>\n",
       "      <td>0</td>\n",
       "      <td>0</td>\n",
       "      <td>5</td>\n",
       "      <td>0</td>\n",
       "      <td>0</td>\n",
       "      <td>0</td>\n",
       "      <td>0</td>\n",
       "      <td>1</td>\n",
       "      <td>0</td>\n",
       "      <td>89</td>\n",
       "    </tr>\n",
       "    <tr>\n",
       "      <th>M4N</th>\n",
       "      <td>0</td>\n",
       "      <td>0</td>\n",
       "      <td>0</td>\n",
       "      <td>0</td>\n",
       "      <td>0</td>\n",
       "      <td>0</td>\n",
       "      <td>0</td>\n",
       "      <td>0</td>\n",
       "      <td>0</td>\n",
       "      <td>0</td>\n",
       "      <td>...</td>\n",
       "      <td>0</td>\n",
       "      <td>0</td>\n",
       "      <td>0</td>\n",
       "      <td>0</td>\n",
       "      <td>0</td>\n",
       "      <td>0</td>\n",
       "      <td>0</td>\n",
       "      <td>0</td>\n",
       "      <td>0</td>\n",
       "      <td>25</td>\n",
       "    </tr>\n",
       "  </tbody>\n",
       "</table>\n",
       "<p>5 rows × 274 columns</p>\n",
       "</div>"
      ],
      "text/plain": [
       "          Adult Boutique  Afghan Restaurant  African Restaurant  Airport  \\\n",
       "Postcode                                                                   \n",
       "M4E                    0                  0                   0        0   \n",
       "M4K                    0                  0                   0        0   \n",
       "M4L                    0                  0                   0        0   \n",
       "M4M                    0                  0                   0        0   \n",
       "M4N                    0                  0                   0        0   \n",
       "\n",
       "          Airport Lounge  American Restaurant  Amphitheater  Animal Shelter  \\\n",
       "Postcode                                                                      \n",
       "M4E                    0                    0             0               0   \n",
       "M4K                    0                    1             0               0   \n",
       "M4L                    0                    0             0               0   \n",
       "M4M                    0                    4             0               0   \n",
       "M4N                    0                    0             0               0   \n",
       "\n",
       "          Antique Shop  Aquarium  ...  Video Game Store  Video Store  \\\n",
       "Postcode                          ...                                  \n",
       "M4E                  0         0  ...                 0            0   \n",
       "M4K                  0         0  ...                 0            0   \n",
       "M4L                  0         0  ...                 0            0   \n",
       "M4M                  1         0  ...                 0            0   \n",
       "M4N                  0         0  ...                 0            0   \n",
       "\n",
       "          Vietnamese Restaurant  Whisky Bar  Wine Bar  Wings Joint  \\\n",
       "Postcode                                                             \n",
       "M4E                           0           0         0            0   \n",
       "M4K                           0           0         0            0   \n",
       "M4L                           0           0         0            0   \n",
       "M4M                           5           0         0            0   \n",
       "M4N                           0           0         0            0   \n",
       "\n",
       "          Women's Store  Yoga Studio  Zoo  Venue value counts  \n",
       "Postcode                                                       \n",
       "M4E                   0            0    0                 100  \n",
       "M4K                   0            2    0                 100  \n",
       "M4L                   1            0    0                  81  \n",
       "M4M                   0            1    0                  89  \n",
       "M4N                   0            0    0                  25  \n",
       "\n",
       "[5 rows x 274 columns]"
      ]
     },
     "execution_count": 95,
     "metadata": {},
     "output_type": "execute_result"
    }
   ],
   "source": [
    "Postcode_venue_3.head()"
   ]
  },
  {
   "cell_type": "code",
   "execution_count": 96,
   "metadata": {},
   "outputs": [
    {
     "data": {
      "text/html": [
       "<div>\n",
       "<style scoped>\n",
       "    .dataframe tbody tr th:only-of-type {\n",
       "        vertical-align: middle;\n",
       "    }\n",
       "\n",
       "    .dataframe tbody tr th {\n",
       "        vertical-align: top;\n",
       "    }\n",
       "\n",
       "    .dataframe thead th {\n",
       "        text-align: right;\n",
       "    }\n",
       "</style>\n",
       "<table border=\"1\" class=\"dataframe\">\n",
       "  <thead>\n",
       "    <tr style=\"text-align: right;\">\n",
       "      <th></th>\n",
       "      <th>X</th>\n",
       "      <th>Y</th>\n",
       "      <th>Index_</th>\n",
       "      <th>event_unique_id</th>\n",
       "      <th>occurrencedate</th>\n",
       "      <th>reporteddate</th>\n",
       "      <th>premisetype</th>\n",
       "      <th>ucr_code</th>\n",
       "      <th>ucr_ext</th>\n",
       "      <th>offence</th>\n",
       "      <th>...</th>\n",
       "      <th>repdate</th>\n",
       "      <th>occtime</th>\n",
       "      <th>reptime</th>\n",
       "      <th>occyear</th>\n",
       "      <th>occmonth</th>\n",
       "      <th>occday</th>\n",
       "      <th>occhour</th>\n",
       "      <th>NeighbourName</th>\n",
       "      <th>Postcode</th>\n",
       "      <th>Neighbourhood_y</th>\n",
       "    </tr>\n",
       "  </thead>\n",
       "  <tbody>\n",
       "    <tr>\n",
       "      <th>13</th>\n",
       "      <td>-79.466927</td>\n",
       "      <td>43.768856</td>\n",
       "      <td>228</td>\n",
       "      <td>GO-20141297607</td>\n",
       "      <td>2014-01-07T11:29:00.000Z</td>\n",
       "      <td>2014-01-07T11:29:00.000Z</td>\n",
       "      <td>Other</td>\n",
       "      <td>1480</td>\n",
       "      <td>100</td>\n",
       "      <td>Assault - Resist/ Prevent Seiz</td>\n",
       "      <td>...</td>\n",
       "      <td>2014-01-07</td>\n",
       "      <td>11:29:00</td>\n",
       "      <td>11:29:00</td>\n",
       "      <td>2014</td>\n",
       "      <td>1</td>\n",
       "      <td>7</td>\n",
       "      <td>11</td>\n",
       "      <td>Bathurst Manor</td>\n",
       "      <td>M3H</td>\n",
       "      <td>Bathurst Manor</td>\n",
       "    </tr>\n",
       "    <tr>\n",
       "      <th>18</th>\n",
       "      <td>-79.363220</td>\n",
       "      <td>43.655880</td>\n",
       "      <td>233</td>\n",
       "      <td>GO-20141262013</td>\n",
       "      <td>2014-01-01T11:01:00.000Z</td>\n",
       "      <td>2014-01-01T11:09:00.000Z</td>\n",
       "      <td>Outside</td>\n",
       "      <td>1420</td>\n",
       "      <td>110</td>\n",
       "      <td>Assault Bodily Harm</td>\n",
       "      <td>...</td>\n",
       "      <td>2014-01-01</td>\n",
       "      <td>11:01:00</td>\n",
       "      <td>11:09:00</td>\n",
       "      <td>2014</td>\n",
       "      <td>1</td>\n",
       "      <td>1</td>\n",
       "      <td>11</td>\n",
       "      <td>Regent Park</td>\n",
       "      <td>M5A</td>\n",
       "      <td>Regent Park</td>\n",
       "    </tr>\n",
       "    <tr>\n",
       "      <th>43</th>\n",
       "      <td>-79.378380</td>\n",
       "      <td>43.768837</td>\n",
       "      <td>258</td>\n",
       "      <td>GO-20141056448</td>\n",
       "      <td>2014-01-06T07:12:00.000Z</td>\n",
       "      <td>2014-01-06T07:12:00.000Z</td>\n",
       "      <td>Apartment</td>\n",
       "      <td>1430</td>\n",
       "      <td>100</td>\n",
       "      <td>Assault</td>\n",
       "      <td>...</td>\n",
       "      <td>2014-01-06</td>\n",
       "      <td>07:12:00</td>\n",
       "      <td>07:12:00</td>\n",
       "      <td>2014</td>\n",
       "      <td>1</td>\n",
       "      <td>6</td>\n",
       "      <td>7</td>\n",
       "      <td>Bayview Village</td>\n",
       "      <td>M2K</td>\n",
       "      <td>Bayview Village</td>\n",
       "    </tr>\n",
       "    <tr>\n",
       "      <th>52</th>\n",
       "      <td>-79.349037</td>\n",
       "      <td>43.768383</td>\n",
       "      <td>267</td>\n",
       "      <td>GO-20141342156</td>\n",
       "      <td>2014-01-14T14:22:00.000Z</td>\n",
       "      <td>2014-01-14T15:00:00.000Z</td>\n",
       "      <td>House</td>\n",
       "      <td>2130</td>\n",
       "      <td>210</td>\n",
       "      <td>Theft Over</td>\n",
       "      <td>...</td>\n",
       "      <td>2014-01-14</td>\n",
       "      <td>14:22:00</td>\n",
       "      <td>15:00:00</td>\n",
       "      <td>2014</td>\n",
       "      <td>1</td>\n",
       "      <td>14</td>\n",
       "      <td>14</td>\n",
       "      <td>Henry Farm</td>\n",
       "      <td>M2J</td>\n",
       "      <td>Henry Farm</td>\n",
       "    </tr>\n",
       "    <tr>\n",
       "      <th>60</th>\n",
       "      <td>-79.466927</td>\n",
       "      <td>43.768856</td>\n",
       "      <td>275</td>\n",
       "      <td>GO-20141436427</td>\n",
       "      <td>2014-01-30T10:27:00.000Z</td>\n",
       "      <td>2014-01-31T09:56:00.000Z</td>\n",
       "      <td>Other</td>\n",
       "      <td>1430</td>\n",
       "      <td>100</td>\n",
       "      <td>Assault</td>\n",
       "      <td>...</td>\n",
       "      <td>2014-01-31</td>\n",
       "      <td>10:27:00</td>\n",
       "      <td>09:56:00</td>\n",
       "      <td>2014</td>\n",
       "      <td>1</td>\n",
       "      <td>30</td>\n",
       "      <td>10</td>\n",
       "      <td>Bathurst Manor</td>\n",
       "      <td>M3H</td>\n",
       "      <td>Bathurst Manor</td>\n",
       "    </tr>\n",
       "  </tbody>\n",
       "</table>\n",
       "<p>5 rows × 40 columns</p>\n",
       "</div>"
      ],
      "text/plain": [
       "            X          Y  Index_ event_unique_id            occurrencedate  \\\n",
       "13 -79.466927  43.768856     228  GO-20141297607  2014-01-07T11:29:00.000Z   \n",
       "18 -79.363220  43.655880     233  GO-20141262013  2014-01-01T11:01:00.000Z   \n",
       "43 -79.378380  43.768837     258  GO-20141056448  2014-01-06T07:12:00.000Z   \n",
       "52 -79.349037  43.768383     267  GO-20141342156  2014-01-14T14:22:00.000Z   \n",
       "60 -79.466927  43.768856     275  GO-20141436427  2014-01-30T10:27:00.000Z   \n",
       "\n",
       "                reporteddate premisetype  ucr_code  ucr_ext  \\\n",
       "13  2014-01-07T11:29:00.000Z       Other      1480      100   \n",
       "18  2014-01-01T11:09:00.000Z     Outside      1420      110   \n",
       "43  2014-01-06T07:12:00.000Z   Apartment      1430      100   \n",
       "52  2014-01-14T15:00:00.000Z       House      2130      210   \n",
       "60  2014-01-31T09:56:00.000Z       Other      1430      100   \n",
       "\n",
       "                           offence  ...    repdate   occtime   reptime  \\\n",
       "13  Assault - Resist/ Prevent Seiz  ... 2014-01-07  11:29:00  11:29:00   \n",
       "18             Assault Bodily Harm  ... 2014-01-01  11:01:00  11:09:00   \n",
       "43                         Assault  ... 2014-01-06  07:12:00  07:12:00   \n",
       "52                      Theft Over  ... 2014-01-14  14:22:00  15:00:00   \n",
       "60                         Assault  ... 2014-01-31  10:27:00  09:56:00   \n",
       "\n",
       "    occyear occmonth  occday  occhour    NeighbourName  Postcode  \\\n",
       "13     2014        1       7       11   Bathurst Manor       M3H   \n",
       "18     2014        1       1       11      Regent Park       M5A   \n",
       "43     2014        1       6        7  Bayview Village       M2K   \n",
       "52     2014        1      14       14       Henry Farm       M2J   \n",
       "60     2014        1      30       10   Bathurst Manor       M3H   \n",
       "\n",
       "    Neighbourhood_y  \n",
       "13   Bathurst Manor  \n",
       "18      Regent Park  \n",
       "43  Bayview Village  \n",
       "52       Henry Farm  \n",
       "60   Bathurst Manor  \n",
       "\n",
       "[5 rows x 40 columns]"
      ]
     },
     "execution_count": 96,
     "metadata": {},
     "output_type": "execute_result"
    }
   ],
   "source": [
    "Crime_wiki_1.head()"
   ]
  },
  {
   "cell_type": "markdown",
   "metadata": {},
   "source": [
    "#### Final dataset for classification analysis\n",
    "Below is the final dataset after combining data from Crime, Wikipedia and Foursquare.It will be used for machine learning development."
   ]
  },
  {
   "cell_type": "code",
   "execution_count": 97,
   "metadata": {},
   "outputs": [],
   "source": [
    "df_Toronto=pd.merge(Crime_wiki_1,Postcode_venue_3,on=\"Postcode\", how='inner')  "
   ]
  },
  {
   "cell_type": "code",
   "execution_count": 98,
   "metadata": {},
   "outputs": [
    {
     "data": {
      "text/plain": [
       "(3952, 314)"
      ]
     },
     "execution_count": 98,
     "metadata": {},
     "output_type": "execute_result"
    }
   ],
   "source": [
    "df_Toronto.shape"
   ]
  },
  {
   "cell_type": "code",
   "execution_count": 99,
   "metadata": {},
   "outputs": [
    {
     "data": {
      "text/html": [
       "<div>\n",
       "<style scoped>\n",
       "    .dataframe tbody tr th:only-of-type {\n",
       "        vertical-align: middle;\n",
       "    }\n",
       "\n",
       "    .dataframe tbody tr th {\n",
       "        vertical-align: top;\n",
       "    }\n",
       "\n",
       "    .dataframe thead th {\n",
       "        text-align: right;\n",
       "    }\n",
       "</style>\n",
       "<table border=\"1\" class=\"dataframe\">\n",
       "  <thead>\n",
       "    <tr style=\"text-align: right;\">\n",
       "      <th></th>\n",
       "      <th>X</th>\n",
       "      <th>Y</th>\n",
       "      <th>Index_</th>\n",
       "      <th>event_unique_id</th>\n",
       "      <th>occurrencedate</th>\n",
       "      <th>reporteddate</th>\n",
       "      <th>premisetype</th>\n",
       "      <th>ucr_code</th>\n",
       "      <th>ucr_ext</th>\n",
       "      <th>offence</th>\n",
       "      <th>...</th>\n",
       "      <th>Video Game Store</th>\n",
       "      <th>Video Store</th>\n",
       "      <th>Vietnamese Restaurant</th>\n",
       "      <th>Whisky Bar</th>\n",
       "      <th>Wine Bar</th>\n",
       "      <th>Wings Joint</th>\n",
       "      <th>Women's Store</th>\n",
       "      <th>Yoga Studio</th>\n",
       "      <th>Zoo</th>\n",
       "      <th>Venue value counts</th>\n",
       "    </tr>\n",
       "  </thead>\n",
       "  <tbody>\n",
       "    <tr>\n",
       "      <th>0</th>\n",
       "      <td>-79.363220</td>\n",
       "      <td>43.655880</td>\n",
       "      <td>233</td>\n",
       "      <td>GO-20141262013</td>\n",
       "      <td>2014-01-01T11:01:00.000Z</td>\n",
       "      <td>2014-01-01T11:09:00.000Z</td>\n",
       "      <td>Outside</td>\n",
       "      <td>1420</td>\n",
       "      <td>110</td>\n",
       "      <td>Assault Bodily Harm</td>\n",
       "      <td>...</td>\n",
       "      <td>0</td>\n",
       "      <td>0</td>\n",
       "      <td>0</td>\n",
       "      <td>0</td>\n",
       "      <td>0</td>\n",
       "      <td>0</td>\n",
       "      <td>0</td>\n",
       "      <td>1</td>\n",
       "      <td>0</td>\n",
       "      <td>100</td>\n",
       "    </tr>\n",
       "    <tr>\n",
       "      <th>1</th>\n",
       "      <td>-79.362717</td>\n",
       "      <td>43.659432</td>\n",
       "      <td>23</td>\n",
       "      <td>GO-20141340474</td>\n",
       "      <td>2014-01-13T21:30:00.000Z</td>\n",
       "      <td>2014-01-14T08:57:00.000Z</td>\n",
       "      <td>Outside</td>\n",
       "      <td>2132</td>\n",
       "      <td>200</td>\n",
       "      <td>Theft From Motor Vehicle Over</td>\n",
       "      <td>...</td>\n",
       "      <td>0</td>\n",
       "      <td>0</td>\n",
       "      <td>0</td>\n",
       "      <td>0</td>\n",
       "      <td>0</td>\n",
       "      <td>0</td>\n",
       "      <td>0</td>\n",
       "      <td>1</td>\n",
       "      <td>0</td>\n",
       "      <td>100</td>\n",
       "    </tr>\n",
       "    <tr>\n",
       "      <th>2</th>\n",
       "      <td>-79.366287</td>\n",
       "      <td>43.660114</td>\n",
       "      <td>62</td>\n",
       "      <td>GO-20141624547</td>\n",
       "      <td>2014-03-02T02:39:00.000Z</td>\n",
       "      <td>2014-03-02T02:56:00.000Z</td>\n",
       "      <td>Commercial</td>\n",
       "      <td>1430</td>\n",
       "      <td>100</td>\n",
       "      <td>Assault</td>\n",
       "      <td>...</td>\n",
       "      <td>0</td>\n",
       "      <td>0</td>\n",
       "      <td>0</td>\n",
       "      <td>0</td>\n",
       "      <td>0</td>\n",
       "      <td>0</td>\n",
       "      <td>0</td>\n",
       "      <td>1</td>\n",
       "      <td>0</td>\n",
       "      <td>100</td>\n",
       "    </tr>\n",
       "    <tr>\n",
       "      <th>3</th>\n",
       "      <td>-79.363548</td>\n",
       "      <td>43.661377</td>\n",
       "      <td>99</td>\n",
       "      <td>GO-20141303582</td>\n",
       "      <td>2014-01-08T10:25:00.000Z</td>\n",
       "      <td>2014-01-08T13:07:00.000Z</td>\n",
       "      <td>Apartment</td>\n",
       "      <td>1430</td>\n",
       "      <td>100</td>\n",
       "      <td>Assault</td>\n",
       "      <td>...</td>\n",
       "      <td>0</td>\n",
       "      <td>0</td>\n",
       "      <td>0</td>\n",
       "      <td>0</td>\n",
       "      <td>0</td>\n",
       "      <td>0</td>\n",
       "      <td>0</td>\n",
       "      <td>1</td>\n",
       "      <td>0</td>\n",
       "      <td>100</td>\n",
       "    </tr>\n",
       "    <tr>\n",
       "      <th>4</th>\n",
       "      <td>-79.363548</td>\n",
       "      <td>43.661377</td>\n",
       "      <td>100</td>\n",
       "      <td>GO-20141303582</td>\n",
       "      <td>2014-01-08T10:25:00.000Z</td>\n",
       "      <td>2014-01-08T13:07:00.000Z</td>\n",
       "      <td>Apartment</td>\n",
       "      <td>1610</td>\n",
       "      <td>200</td>\n",
       "      <td>Robbery - Mugging</td>\n",
       "      <td>...</td>\n",
       "      <td>0</td>\n",
       "      <td>0</td>\n",
       "      <td>0</td>\n",
       "      <td>0</td>\n",
       "      <td>0</td>\n",
       "      <td>0</td>\n",
       "      <td>0</td>\n",
       "      <td>1</td>\n",
       "      <td>0</td>\n",
       "      <td>100</td>\n",
       "    </tr>\n",
       "  </tbody>\n",
       "</table>\n",
       "<p>5 rows × 314 columns</p>\n",
       "</div>"
      ],
      "text/plain": [
       "           X          Y  Index_ event_unique_id            occurrencedate  \\\n",
       "0 -79.363220  43.655880     233  GO-20141262013  2014-01-01T11:01:00.000Z   \n",
       "1 -79.362717  43.659432      23  GO-20141340474  2014-01-13T21:30:00.000Z   \n",
       "2 -79.366287  43.660114      62  GO-20141624547  2014-03-02T02:39:00.000Z   \n",
       "3 -79.363548  43.661377      99  GO-20141303582  2014-01-08T10:25:00.000Z   \n",
       "4 -79.363548  43.661377     100  GO-20141303582  2014-01-08T10:25:00.000Z   \n",
       "\n",
       "               reporteddate premisetype  ucr_code  ucr_ext  \\\n",
       "0  2014-01-01T11:09:00.000Z     Outside      1420      110   \n",
       "1  2014-01-14T08:57:00.000Z     Outside      2132      200   \n",
       "2  2014-03-02T02:56:00.000Z  Commercial      1430      100   \n",
       "3  2014-01-08T13:07:00.000Z   Apartment      1430      100   \n",
       "4  2014-01-08T13:07:00.000Z   Apartment      1610      200   \n",
       "\n",
       "                         offence  ...  Video Game Store Video Store  \\\n",
       "0            Assault Bodily Harm  ...                 0           0   \n",
       "1  Theft From Motor Vehicle Over  ...                 0           0   \n",
       "2                        Assault  ...                 0           0   \n",
       "3                        Assault  ...                 0           0   \n",
       "4              Robbery - Mugging  ...                 0           0   \n",
       "\n",
       "   Vietnamese Restaurant  Whisky Bar Wine Bar  Wings Joint  Women's Store  \\\n",
       "0                      0           0        0            0              0   \n",
       "1                      0           0        0            0              0   \n",
       "2                      0           0        0            0              0   \n",
       "3                      0           0        0            0              0   \n",
       "4                      0           0        0            0              0   \n",
       "\n",
       "  Yoga Studio  Zoo  Venue value counts  \n",
       "0           1    0                 100  \n",
       "1           1    0                 100  \n",
       "2           1    0                 100  \n",
       "3           1    0                 100  \n",
       "4           1    0                 100  \n",
       "\n",
       "[5 rows x 314 columns]"
      ]
     },
     "execution_count": 99,
     "metadata": {},
     "output_type": "execute_result"
    }
   ],
   "source": [
    "df_Toronto.head()"
   ]
  },
  {
   "cell_type": "code",
   "execution_count": 100,
   "metadata": {},
   "outputs": [
    {
     "data": {
      "text/plain": [
       "(13490, 40)"
      ]
     },
     "execution_count": 100,
     "metadata": {},
     "output_type": "execute_result"
    }
   ],
   "source": [
    "Crime_wiki_1.shape"
   ]
  },
  {
   "cell_type": "markdown",
   "metadata": {},
   "source": [
    "#### Final dataset for linear regression\n",
    "Below is the final dataset after combining data from Crime, Wikipedia and Foursquare.It will be used for machine learning development."
   ]
  },
  {
   "cell_type": "code",
   "execution_count": 101,
   "metadata": {},
   "outputs": [],
   "source": [
    "crime_counts=pd.crosstab(df_Toronto[\"Postcode\"],df_Toronto[\"MCI\"])\n",
    "linear_Toronto=pd.merge(crime_counts,Postcode_venue_3,on=\"Postcode\", how='inner')  "
   ]
  },
  {
   "cell_type": "code",
   "execution_count": 102,
   "metadata": {},
   "outputs": [
    {
     "data": {
      "text/plain": [
       "M6R    1416\n",
       "M5A     980\n",
       "M4E     853\n",
       "M6J     703\n",
       "Name: Postcode, dtype: int64"
      ]
     },
     "execution_count": 102,
     "metadata": {},
     "output_type": "execute_result"
    }
   ],
   "source": [
    "df_Toronto.Postcode.value_counts()"
   ]
  },
  {
   "cell_type": "markdown",
   "metadata": {},
   "source": [
    "## 4 Summary statistics on final dataset"
   ]
  },
  {
   "cell_type": "markdown",
   "metadata": {},
   "source": [
    "### Venues"
   ]
  },
  {
   "cell_type": "markdown",
   "metadata": {},
   "source": [
    "Here we want to explore the final data before we start to develop various machine learning models to predict the crime."
   ]
  },
  {
   "cell_type": "code",
   "execution_count": 103,
   "metadata": {},
   "outputs": [
    {
     "data": {
      "image/png": "[encoded data removed]",
      "text/plain": [
       "<Figure size 432x288 with 1 Axes>"
      ]
     },
     "metadata": {
      "needs_background": "light"
     },
     "output_type": "display_data"
    }
   ],
   "source": [
    "occofyear=df_Toronto.occyear.value_counts()\n",
    "sns.barplot(occofyear.index, occofyear.values)\n",
    "#import pylab as pl\n",
    "pl.xticks(rotation = 90)\n",
    "plt.title('Number of crimes by year')\n",
    "plt.ylabel('Number of crimes', fontsize=12)\n",
    "plt.xlabel('year', fontsize=12)\n",
    "plt.xlim((7,13))\n",
    "plt.show()"
   ]
  },
  {
   "cell_type": "code",
   "execution_count": 104,
   "metadata": {},
   "outputs": [
    {
     "data": {
      "image/png": "[encoded data removed]",
      "text/plain": [
       "<Figure size 432x288 with 1 Axes>"
      ]
     },
     "metadata": {
      "needs_background": "light"
     },
     "output_type": "display_data"
    }
   ],
   "source": [
    "monthofyear=df_Toronto.occmonth.value_counts()\n",
    "sns.barplot(monthofyear.index, monthofyear.values)\n",
    "#import pylab as pl\n",
    "pl.xticks(rotation = 90)\n",
    "plt.title('Number of crimes by month of the year')\n",
    "plt.ylabel('Number of crimes', fontsize=12)\n",
    "plt.xlabel('Month of the year', fontsize=12)\n",
    "plt.show()"
   ]
  },
  {
   "cell_type": "code",
   "execution_count": 105,
   "metadata": {},
   "outputs": [
    {
     "data": {
      "image/png": "[encoded data removed]",
      "text/plain": [
       "<Figure size 432x288 with 1 Axes>"
      ]
     },
     "metadata": {
      "needs_background": "light"
     },
     "output_type": "display_data"
    }
   ],
   "source": [
    "occofday=df_Toronto.occday.value_counts()\n",
    "sns.barplot(occofday.index, occofday.values)\n",
    "#import pylab as pl\n",
    "#pl.xticks(rotation = 90)\n",
    "plt.title('Number of crimes by Day')\n",
    "plt.ylabel('Number of crimes', fontsize=12)\n",
    "plt.xlabel('Day', fontsize=12)\n",
    "plt.show()"
   ]
  },
  {
   "cell_type": "markdown",
   "metadata": {},
   "source": [
    "##### premisetype"
   ]
  },
  {
   "cell_type": "code",
   "execution_count": 106,
   "metadata": {},
   "outputs": [
    {
     "data": {
      "image/png": "[encoded data removed]",
      "text/plain": [
       "<Figure size 432x288 with 1 Axes>"
      ]
     },
     "metadata": {
      "needs_background": "light"
     },
     "output_type": "display_data"
    }
   ],
   "source": [
    "premise=df_Toronto.premisetype.value_counts()\n",
    "sns.barplot(premise.index, premise.values)\n",
    "import pylab as pl\n",
    "pl.xticks(rotation = 90)\n",
    "plt.title('Number of crimes by premise')\n",
    "plt.ylabel('Number of crimes', fontsize=12)\n",
    "plt.xlabel('Premise', fontsize=12)\n",
    "plt.show()"
   ]
  },
  {
   "cell_type": "code",
   "execution_count": 107,
   "metadata": {},
   "outputs": [],
   "source": [
    "premise_MCI_Assault=df_Toronto.premisetype[df_Toronto[\"MCI\"]==\"Assault\"].value_counts()\n",
    "premise_MCI_BaE=df_Toronto.premisetype[df_Toronto[\"MCI\"]==\"Break and Enter\"].value_counts()\n",
    "premise_MCI_Robbery=df_Toronto.premisetype[df_Toronto[\"MCI\"]==\"Robbery\"].value_counts()\n",
    "premise_MCI_AT=df_Toronto.premisetype[df_Toronto[\"MCI\"]==\"Auto Theft\"].value_counts()\n",
    "premise_MCI_TO=df_Toronto.premisetype[df_Toronto[\"MCI\"]==\"Theft Over\"].value_counts()\n"
   ]
  },
  {
   "cell_type": "code",
   "execution_count": 108,
   "metadata": {},
   "outputs": [
    {
     "data": {
      "image/png": "[encoded data removed]",
      "text/plain": [
       "<Figure size 1440x720 with 5 Axes>"
      ]
     },
     "metadata": {
      "needs_background": "light"
     },
     "output_type": "display_data"
    }
   ],
   "source": [
    "\n",
    "plt.figure(figsize=(20,10))\n",
    "plt.subplot(2, 3, 1)\n",
    "sns.barplot(premise_MCI_Assault.index, premise_MCI_Assault.values)\n",
    "plt.text(2, 0.95*max(premise_MCI_Assault.values), \"Assault\",\n",
    "             fontsize=18, ha='center')\n",
    "plt.subplot(2, 3, 2)\n",
    "sns.barplot(premise_MCI_BaE.index, premise_MCI_BaE.values)\n",
    "plt.text(2.6, 0.95*max(premise_MCI_BaE.values), \"Break and Enter\",\n",
    "             fontsize=18, ha='center')\n",
    "plt.subplot(2, 3, 3)\n",
    "sns.barplot(premise_MCI_Robbery.index, premise_MCI_Robbery.values)\n",
    "plt.text(2, 0.95*max(premise_MCI_Robbery.values), \"Robbery\",\n",
    "             fontsize=18, ha='center')\n",
    "plt.subplot(2, 3, 4)\n",
    "sns.barplot(premise_MCI_AT.index, premise_MCI_AT.values)\n",
    "plt.text(2, 0.95*max(premise_MCI_AT.values), \"Auto Theft\",\n",
    "             fontsize=18, ha='center')\n",
    "plt.subplot(2, 3, 5)\n",
    "sns.barplot(premise_MCI_TO.index, premise_MCI_TO.values)\n",
    "plt.text(2, 0.95*max(premise_MCI_TO.values), \"Theft Over\",\n",
    "             fontsize=18, ha='center')\n",
    "plt.show()"
   ]
  },
  {
   "cell_type": "markdown",
   "metadata": {},
   "source": [
    "##### offence"
   ]
  },
  {
   "cell_type": "code",
   "execution_count": 109,
   "metadata": {},
   "outputs": [
    {
     "data": {
      "image/png": "[encoded data removed]",
      "text/plain": [
       "<Figure size 432x288 with 1 Axes>"
      ]
     },
     "metadata": {
      "needs_background": "light"
     },
     "output_type": "display_data"
    }
   ],
   "source": [
    "offence=df_Toronto.offence.value_counts()\n",
    "sns.barplot(offence.index, offence.values)\n",
    "#import pylab as pl\n",
    "#plt.figure(figsize=(20,20))\n",
    "pl.xticks(rotation = 90)\n",
    "plt.title('Number of crimes by Offence')\n",
    "plt.ylabel('Number of crimes', fontsize=12)\n",
    "plt.xlabel('Offence', fontsize=12)\n",
    "plt.show()"
   ]
  },
  {
   "cell_type": "code",
   "execution_count": 110,
   "metadata": {},
   "outputs": [
    {
     "data": {
      "image/png": "[encoded data removed]",
      "text/plain": [
       "<Figure size 432x288 with 1 Axes>"
      ]
     },
     "metadata": {
      "needs_background": "light"
     },
     "output_type": "display_data"
    }
   ],
   "source": [
    "MCI=df_Toronto.MCI.value_counts()\n",
    "sns.barplot(MCI.index, MCI.values)\n",
    "#import pylab as pl\n",
    "pl.xticks(rotation = 90)\n",
    "plt.title('Number of crimes by MCI')\n",
    "plt.ylabel('Number of crimes', fontsize=12)\n",
    "plt.xlabel('MCI', fontsize=12)\n",
    "plt.show()"
   ]
  },
  {
   "cell_type": "code",
   "execution_count": 111,
   "metadata": {},
   "outputs": [
    {
     "data": {
      "image/png": "[encoded data removed]",
      "text/plain": [
       "<Figure size 432x288 with 1 Axes>"
      ]
     },
     "metadata": {
      "needs_background": "light"
     },
     "output_type": "display_data"
    }
   ],
   "source": [
    "hourofday=df_Toronto.occurrencehour.value_counts()\n",
    "sns.barplot(hourofday.index, hourofday.values)\n",
    "#import pylab as pl\n",
    "#pl.xticks(rotation = 90)\n",
    "plt.title('Number of crimes by Hour of the Day')\n",
    "plt.ylabel('Number of crimes', fontsize=12)\n",
    "plt.xlabel('Hour of the Day', fontsize=12)\n",
    "plt.show()"
   ]
  },
  {
   "cell_type": "code",
   "execution_count": 112,
   "metadata": {},
   "outputs": [],
   "source": [
    "hour_MCI_Assault=df_Toronto.occurrencehour[df_Toronto[\"MCI\"]==\"Assault\"].value_counts()\n",
    "hour_MCI_BaE=df_Toronto.occurrencehour[df_Toronto[\"MCI\"]==\"Break and Enter\"].value_counts()\n",
    "hour_MCI_Robbery=df_Toronto.occurrencehour[df_Toronto[\"MCI\"]==\"Robbery\"].value_counts()\n",
    "hour_MCI_AT=df_Toronto.occurrencehour[df_Toronto[\"MCI\"]==\"Auto Theft\"].value_counts()\n",
    "hour_MCI_TO=df_Toronto.occurrencehour[df_Toronto[\"MCI\"]==\"Theft Over\"].value_counts()\n"
   ]
  },
  {
   "cell_type": "code",
   "execution_count": 113,
   "metadata": {},
   "outputs": [
    {
     "data": {
      "image/png": "[encoded data removed]",
      "text/plain": [
       "<Figure size 432x288 with 1 Axes>"
      ]
     },
     "metadata": {
      "needs_background": "light"
     },
     "output_type": "display_data"
    }
   ],
   "source": [
    "#sns.barplot(hour_MCI_Assault.index, hour_MCI_Assault.values)\n",
    "#sns.barplot(hour_MCI_BaE.index, hour_MCI_BaE.values)\n",
    "#sns.barplot(hour_MCI_Robbery.index, hour_MCI_Robbery.values)\n",
    "#sns.barplot(hour_MCI_AT.index, hour_MCI_AT.values)\n",
    "sns.barplot(hour_MCI_TO.index, hour_MCI_TO.values)\n",
    "\n",
    "#import pylab as pl\n",
    "#pl.xticks(rotation = 90)\n",
    "plt.title('Number of Theft Over by Hour of the Day')\n",
    "plt.ylabel('Number of crimes', fontsize=12)\n",
    "plt.xlabel('Hour of the Day', fontsize=12)\n",
    "plt.show()"
   ]
  },
  {
   "cell_type": "code",
   "execution_count": 114,
   "metadata": {},
   "outputs": [
    {
     "data": {
      "image/png": "[encoded data removed]",
      "text/plain": [
       "<Figure size 432x288 with 1 Axes>"
      ]
     },
     "metadata": {
      "needs_background": "light"
     },
     "output_type": "display_data"
    }
   ],
   "source": [
    "sns.barplot(hour_MCI_Assault.index, hour_MCI_Assault.values)\n",
    "#sns.barplot(hour_MCI_BaE.index, hour_MCI_BaE.values)\n",
    "#sns.barplot(hour_MCI_Robbery.index, hour_MCI_Robbery.values)\n",
    "#sns.barplot(hour_MCI_AT.index, hour_MCI_AT.values)\n",
    "#sns.barplot(hour_MCI_TO.index, hour_MCI_TO.values)\n",
    "\n",
    "#import pylab as pl\n",
    "#pl.xticks(rotation = 90)\n",
    "plt.title('Number of Assault by Hour of the Day')\n",
    "plt.ylabel('Number of crimes', fontsize=12)\n",
    "plt.xlabel('Hour of the Day', fontsize=12)\n",
    "plt.show()"
   ]
  },
  {
   "cell_type": "code",
   "execution_count": 115,
   "metadata": {},
   "outputs": [
    {
     "data": {
      "image/png": "[encoded data removed]",
      "text/plain": [
       "<Figure size 1440x720 with 5 Axes>"
      ]
     },
     "metadata": {
      "needs_background": "light"
     },
     "output_type": "display_data"
    }
   ],
   "source": [
    "plt.figure(figsize=(20,10))\n",
    "plt.subplot(2, 3, 1)\n",
    "sns.barplot(hour_MCI_Assault.index, hour_MCI_Assault.values)\n",
    "plt.text(5, 0.95*max(hour_MCI_Assault.values), \"Assault\",\n",
    "             fontsize=18, ha='center')\n",
    "plt.subplot(2, 3, 2)\n",
    "sns.barplot(hour_MCI_BaE.index, hour_MCI_BaE.values)\n",
    "plt.text(7, 0.95*max(hour_MCI_BaE.values), \"Break and Enter\",\n",
    "             fontsize=18, ha='center')\n",
    "plt.subplot(2, 3, 3)\n",
    "sns.barplot(hour_MCI_Robbery.index, hour_MCI_Robbery.values)\n",
    "plt.text(5, 0.95*max(hour_MCI_Robbery.values), \"Robbery\",\n",
    "             fontsize=18, ha='center')\n",
    "plt.subplot(2, 3, 4)\n",
    "sns.barplot(hour_MCI_AT.index, hour_MCI_AT.values)\n",
    "plt.text(5, 0.95*max(hour_MCI_AT.values), \"Auto Theft\",\n",
    "             fontsize=18, ha='center')\n",
    "plt.subplot(2, 3, 5)\n",
    "sns.barplot(hour_MCI_TO.index, hour_MCI_TO.values)\n",
    "plt.text(5, 0.95*max(hour_MCI_TO.values), \"Theft Over\",\n",
    "             fontsize=18, ha='center')\n",
    "plt.show()"
   ]
  },
  {
   "cell_type": "code",
   "execution_count": 116,
   "metadata": {},
   "outputs": [],
   "source": [
    "list(df_Toronto.columns);"
   ]
  },
  {
   "cell_type": "markdown",
   "metadata": {},
   "source": [
    "## 5 Predit the occurrence of crime using Machine Learning "
   ]
  },
  {
   "cell_type": "markdown",
   "metadata": {},
   "source": [
    "### Model Data preparation"
   ]
  },
  {
   "cell_type": "markdown",
   "metadata": {},
   "source": [
    "We are going to import all the necessary packages below:"
   ]
  },
  {
   "cell_type": "code",
   "execution_count": 117,
   "metadata": {},
   "outputs": [],
   "source": [
    "from sklearn import preprocessing as prep\n",
    "from sklearn import svm\n",
    "import itertools\n",
    "\n",
    "from sklearn.tree import DecisionTreeClassifier\n",
    "from sklearn.linear_model import LogisticRegression\n",
    "\n",
    "from sklearn.metrics import classification_report, confusion_matrix\n",
    "\n",
    "from sklearn.metrics import jaccard_similarity_score\n",
    "from sklearn.metrics import f1_score\n",
    "from sklearn.metrics import log_loss\n",
    "from sklearn.model_selection import train_test_split\n"
   ]
  },
  {
   "cell_type": "code",
   "execution_count": 118,
   "metadata": {},
   "outputs": [
    {
     "name": "stdout",
     "output_type": "stream",
     "text": [
      "Train set: (2766, 287) (2766, 1)\n",
      "Test set: (1186, 287) (1186, 1)\n"
     ]
    }
   ],
   "source": [
    "Feature=df_Toronto.drop(['X', 'Y', 'Index_', 'event_unique_id', \n",
    "                       'occurrencedate', 'reporteddate', 'ucr_code', 'ucr_ext', 'offence', \n",
    "                       'reportedyear', 'reportedmonth', 'reportedday', 'reporteddayofyear', \n",
    "                       'reporteddayofweek', 'reportedhour', 'occurrenceyear', 'occurrencemonth', \n",
    "                       'occurrenceday', 'occurrencedayofyear', 'occurrencedayofweek', 'occurrencehour', \n",
    "                       'MCI', 'Division', 'Hood_ID', 'Neighbourhood_x', 'Lat', 'Long', 'ObjectId', \n",
    "                       'NeighbourName', 'Neighbourhood_y'],axis=1)\n",
    "\n",
    "Feature = pd.concat([Feature,pd.get_dummies(df_Toronto['premisetype'])], axis=1)\n",
    "Feature = pd.concat([Feature,pd.get_dummies(df_Toronto['Postcode'])], axis=1)\n",
    "\n",
    "Feature.drop([\"premisetype\",\"occdate\",\"repdate\",\"occtime\",\"reptime\",\"Postcode\"],axis=1,inplace=True)\n",
    "X_all=Feature\n",
    "y_all=df_Toronto[['MCI']];\n",
    "\n",
    "X_train, X_test, y_train, y_test = train_test_split( X_all, y_all, test_size=0.3, random_state=4)\n",
    "print ('Train set:', X_train.shape,  y_train.shape)\n",
    "print ('Test set:', X_test.shape,  y_test.shape)"
   ]
  },
  {
   "cell_type": "code",
   "execution_count": 119,
   "metadata": {},
   "outputs": [
    {
     "data": {
      "text/html": [
       "<div>\n",
       "<style scoped>\n",
       "    .dataframe tbody tr th:only-of-type {\n",
       "        vertical-align: middle;\n",
       "    }\n",
       "\n",
       "    .dataframe tbody tr th {\n",
       "        vertical-align: top;\n",
       "    }\n",
       "\n",
       "    .dataframe thead th {\n",
       "        text-align: right;\n",
       "    }\n",
       "</style>\n",
       "<table border=\"1\" class=\"dataframe\">\n",
       "  <thead>\n",
       "    <tr style=\"text-align: right;\">\n",
       "      <th></th>\n",
       "      <th>occyear</th>\n",
       "      <th>occmonth</th>\n",
       "      <th>occday</th>\n",
       "      <th>occhour</th>\n",
       "      <th>Adult Boutique</th>\n",
       "      <th>Afghan Restaurant</th>\n",
       "      <th>African Restaurant</th>\n",
       "      <th>Airport</th>\n",
       "      <th>Airport Lounge</th>\n",
       "      <th>American Restaurant</th>\n",
       "      <th>...</th>\n",
       "      <th>Venue value counts</th>\n",
       "      <th>Apartment</th>\n",
       "      <th>Commercial</th>\n",
       "      <th>House</th>\n",
       "      <th>Other</th>\n",
       "      <th>Outside</th>\n",
       "      <th>M4E</th>\n",
       "      <th>M5A</th>\n",
       "      <th>M6J</th>\n",
       "      <th>M6R</th>\n",
       "    </tr>\n",
       "  </thead>\n",
       "  <tbody>\n",
       "    <tr>\n",
       "      <th>0</th>\n",
       "      <td>2014</td>\n",
       "      <td>1</td>\n",
       "      <td>1</td>\n",
       "      <td>11</td>\n",
       "      <td>0</td>\n",
       "      <td>0</td>\n",
       "      <td>0</td>\n",
       "      <td>0</td>\n",
       "      <td>0</td>\n",
       "      <td>0</td>\n",
       "      <td>...</td>\n",
       "      <td>100</td>\n",
       "      <td>0</td>\n",
       "      <td>0</td>\n",
       "      <td>0</td>\n",
       "      <td>0</td>\n",
       "      <td>1</td>\n",
       "      <td>0</td>\n",
       "      <td>1</td>\n",
       "      <td>0</td>\n",
       "      <td>0</td>\n",
       "    </tr>\n",
       "    <tr>\n",
       "      <th>1</th>\n",
       "      <td>2014</td>\n",
       "      <td>1</td>\n",
       "      <td>13</td>\n",
       "      <td>21</td>\n",
       "      <td>0</td>\n",
       "      <td>0</td>\n",
       "      <td>0</td>\n",
       "      <td>0</td>\n",
       "      <td>0</td>\n",
       "      <td>0</td>\n",
       "      <td>...</td>\n",
       "      <td>100</td>\n",
       "      <td>0</td>\n",
       "      <td>0</td>\n",
       "      <td>0</td>\n",
       "      <td>0</td>\n",
       "      <td>1</td>\n",
       "      <td>0</td>\n",
       "      <td>1</td>\n",
       "      <td>0</td>\n",
       "      <td>0</td>\n",
       "    </tr>\n",
       "    <tr>\n",
       "      <th>2</th>\n",
       "      <td>2014</td>\n",
       "      <td>3</td>\n",
       "      <td>2</td>\n",
       "      <td>2</td>\n",
       "      <td>0</td>\n",
       "      <td>0</td>\n",
       "      <td>0</td>\n",
       "      <td>0</td>\n",
       "      <td>0</td>\n",
       "      <td>0</td>\n",
       "      <td>...</td>\n",
       "      <td>100</td>\n",
       "      <td>0</td>\n",
       "      <td>1</td>\n",
       "      <td>0</td>\n",
       "      <td>0</td>\n",
       "      <td>0</td>\n",
       "      <td>0</td>\n",
       "      <td>1</td>\n",
       "      <td>0</td>\n",
       "      <td>0</td>\n",
       "    </tr>\n",
       "    <tr>\n",
       "      <th>3</th>\n",
       "      <td>2014</td>\n",
       "      <td>1</td>\n",
       "      <td>8</td>\n",
       "      <td>10</td>\n",
       "      <td>0</td>\n",
       "      <td>0</td>\n",
       "      <td>0</td>\n",
       "      <td>0</td>\n",
       "      <td>0</td>\n",
       "      <td>0</td>\n",
       "      <td>...</td>\n",
       "      <td>100</td>\n",
       "      <td>1</td>\n",
       "      <td>0</td>\n",
       "      <td>0</td>\n",
       "      <td>0</td>\n",
       "      <td>0</td>\n",
       "      <td>0</td>\n",
       "      <td>1</td>\n",
       "      <td>0</td>\n",
       "      <td>0</td>\n",
       "    </tr>\n",
       "    <tr>\n",
       "      <th>4</th>\n",
       "      <td>2014</td>\n",
       "      <td>1</td>\n",
       "      <td>8</td>\n",
       "      <td>10</td>\n",
       "      <td>0</td>\n",
       "      <td>0</td>\n",
       "      <td>0</td>\n",
       "      <td>0</td>\n",
       "      <td>0</td>\n",
       "      <td>0</td>\n",
       "      <td>...</td>\n",
       "      <td>100</td>\n",
       "      <td>1</td>\n",
       "      <td>0</td>\n",
       "      <td>0</td>\n",
       "      <td>0</td>\n",
       "      <td>0</td>\n",
       "      <td>0</td>\n",
       "      <td>1</td>\n",
       "      <td>0</td>\n",
       "      <td>0</td>\n",
       "    </tr>\n",
       "  </tbody>\n",
       "</table>\n",
       "<p>5 rows × 287 columns</p>\n",
       "</div>"
      ],
      "text/plain": [
       "   occyear  occmonth  occday  occhour  Adult Boutique  Afghan Restaurant  \\\n",
       "0     2014         1       1       11               0                  0   \n",
       "1     2014         1      13       21               0                  0   \n",
       "2     2014         3       2        2               0                  0   \n",
       "3     2014         1       8       10               0                  0   \n",
       "4     2014         1       8       10               0                  0   \n",
       "\n",
       "   African Restaurant  Airport  Airport Lounge  American Restaurant  ...  \\\n",
       "0                   0        0               0                    0  ...   \n",
       "1                   0        0               0                    0  ...   \n",
       "2                   0        0               0                    0  ...   \n",
       "3                   0        0               0                    0  ...   \n",
       "4                   0        0               0                    0  ...   \n",
       "\n",
       "   Venue value counts  Apartment  Commercial  House  Other  Outside  M4E  M5A  \\\n",
       "0                 100          0           0      0      0        1    0    1   \n",
       "1                 100          0           0      0      0        1    0    1   \n",
       "2                 100          0           1      0      0        0    0    1   \n",
       "3                 100          1           0      0      0        0    0    1   \n",
       "4                 100          1           0      0      0        0    0    1   \n",
       "\n",
       "   M6J  M6R  \n",
       "0    0    0  \n",
       "1    0    0  \n",
       "2    0    0  \n",
       "3    0    0  \n",
       "4    0    0  \n",
       "\n",
       "[5 rows x 287 columns]"
      ]
     },
     "execution_count": 119,
     "metadata": {},
     "output_type": "execute_result"
    }
   ],
   "source": [
    "X_all.head()"
   ]
  },
  {
   "cell_type": "code",
   "execution_count": 120,
   "metadata": {},
   "outputs": [],
   "source": [
    "def plot_confusion_matrix(cm, classes,\n",
    "                          normalize=False,\n",
    "                          title='Confusion matrix',\n",
    "                          cmap=plt.cm.Blues):\n",
    "    \"\"\"\n",
    "    This function prints and plots the confusion matrix.\n",
    "    Normalization can be applied by setting `normalize=True`.\n",
    "    \"\"\"\n",
    "    if normalize:\n",
    "        cm = cm.astype('float') / cm.sum(axis=1)[:, np.newaxis]\n",
    "        print(\"Normalized confusion matrix\")\n",
    "    else:\n",
    "        print('Confusion matrix, without normalization')\n",
    "\n",
    "    print(cm)\n",
    "\n",
    "    plt.imshow(cm, interpolation='nearest', cmap=cmap)\n",
    "    plt.title(title)\n",
    "    plt.colorbar()\n",
    "    tick_marks = np.arange(len(classes))\n",
    "    plt.xticks(tick_marks, classes, rotation=45)\n",
    "    plt.yticks(tick_marks, classes)\n",
    "\n",
    "    fmt = '.2f' if normalize else 'd'\n",
    "    thresh = cm.max() / 2.\n",
    "    for i, j in itertools.product(range(cm.shape[0]), range(cm.shape[1])):\n",
    "        plt.text(j, i, format(cm[i, j], fmt),\n",
    "                 horizontalalignment=\"center\",\n",
    "                 color=\"white\" if cm[i, j] > thresh else \"black\")\n",
    "\n",
    "    plt.tight_layout()\n",
    "    plt.ylabel('True label')\n",
    "    plt.xlabel('Predicted label')"
   ]
  },
  {
   "cell_type": "markdown",
   "metadata": {},
   "source": [
    "### Decision Tree"
   ]
  },
  {
   "cell_type": "code",
   "execution_count": 121,
   "metadata": {},
   "outputs": [
    {
     "data": {
      "text/plain": [
       "DecisionTreeClassifier(class_weight=None, criterion='entropy', max_depth=4,\n",
       "            max_features=None, max_leaf_nodes=None,\n",
       "            min_impurity_decrease=0.0, min_impurity_split=None,\n",
       "            min_samples_leaf=1, min_samples_split=2,\n",
       "            min_weight_fraction_leaf=0.0, presort=False, random_state=None,\n",
       "            splitter='best')"
      ]
     },
     "execution_count": 121,
     "metadata": {},
     "output_type": "execute_result"
    }
   ],
   "source": [
    "Tree = DecisionTreeClassifier(criterion=\"entropy\", max_depth = 4)\n",
    "Tree # it shows the default parameters"
   ]
  },
  {
   "cell_type": "code",
   "execution_count": null,
   "metadata": {},
   "outputs": [],
   "source": []
  },
  {
   "cell_type": "code",
   "execution_count": 122,
   "metadata": {},
   "outputs": [
    {
     "data": {
      "text/plain": [
       "DecisionTreeClassifier(class_weight=None, criterion='entropy', max_depth=4,\n",
       "            max_features=None, max_leaf_nodes=None,\n",
       "            min_impurity_decrease=0.0, min_impurity_split=None,\n",
       "            min_samples_leaf=1, min_samples_split=2,\n",
       "            min_weight_fraction_leaf=0.0, presort=False, random_state=None,\n",
       "            splitter='best')"
      ]
     },
     "execution_count": 122,
     "metadata": {},
     "output_type": "execute_result"
    }
   ],
   "source": [
    "Tree.fit(X_train,y_train)"
   ]
  },
  {
   "cell_type": "code",
   "execution_count": 123,
   "metadata": {},
   "outputs": [],
   "source": [
    "y_hat_Tree = Tree.predict(X_test)"
   ]
  },
  {
   "cell_type": "code",
   "execution_count": 124,
   "metadata": {},
   "outputs": [
    {
     "name": "stdout",
     "output_type": "stream",
     "text": [
      "['Assault' 'Assault' 'Break and Enter' 'Assault' 'Assault']\n",
      "                  MCI\n",
      "984           Assault\n",
      "3864  Break and Enter\n",
      "29    Break and Enter\n",
      "2806          Assault\n",
      "859           Assault\n"
     ]
    }
   ],
   "source": [
    "print (y_hat_Tree [0:5])\n",
    "print (y_test [0:5])"
   ]
  },
  {
   "cell_type": "code",
   "execution_count": 125,
   "metadata": {},
   "outputs": [
    {
     "data": {
      "text/plain": [
       "Assault            706\n",
       "Break and Enter    261\n",
       "Robbery            108\n",
       "Auto Theft          77\n",
       "Theft Over          34\n",
       "Name: MCI, dtype: int64"
      ]
     },
     "execution_count": 125,
     "metadata": {},
     "output_type": "execute_result"
    }
   ],
   "source": [
    "y_test.MCI.value_counts()"
   ]
  },
  {
   "cell_type": "markdown",
   "metadata": {},
   "source": [
    "# K Nearest Neighbor(KNN)\n",
    "Notice: You should find the best k to build the model with the best accuracy.  \n",
    "**warning:** You should not use the __loan_test.csv__ for finding the best k, however, you can split your train_loan.csv into train and test to find the best __k__."
   ]
  },
  {
   "cell_type": "code",
   "execution_count": 126,
   "metadata": {},
   "outputs": [
    {
     "data": {
      "text/plain": [
       "KNeighborsClassifier(algorithm='auto', leaf_size=30, metric='minkowski',\n",
       "           metric_params=None, n_jobs=None, n_neighbors=5, p=2,\n",
       "           weights='uniform')"
      ]
     },
     "execution_count": 126,
     "metadata": {},
     "output_type": "execute_result"
    }
   ],
   "source": [
    "from sklearn.neighbors import KNeighborsClassifier\n",
    "k = 5\n",
    "#Train Model and Predict  \n",
    "neigh = KNeighborsClassifier(n_neighbors = k).fit(X_train,y_train.values.ravel())\n",
    "neigh"
   ]
  },
  {
   "cell_type": "code",
   "execution_count": 127,
   "metadata": {},
   "outputs": [
    {
     "data": {
      "text/plain": [
       "array(['Assault', 'Assault', 'Assault', 'Robbery', 'Assault'],\n",
       "      dtype=object)"
      ]
     },
     "execution_count": 127,
     "metadata": {},
     "output_type": "execute_result"
    }
   ],
   "source": [
    "y_hat_KNN = neigh.predict(X_test)\n",
    "y_hat_KNN[0:5]"
   ]
  },
  {
   "cell_type": "code",
   "execution_count": 128,
   "metadata": {},
   "outputs": [
    {
     "name": "stdout",
     "output_type": "stream",
     "text": [
      "                 precision    recall  f1-score   support\n",
      "\n",
      "        Assault       0.61      0.85      0.71       706\n",
      "     Auto Theft       0.32      0.09      0.14        77\n",
      "Break and Enter       0.30      0.15      0.20       261\n",
      "        Robbery       0.22      0.09      0.13       108\n",
      "     Theft Over       0.00      0.00      0.00        34\n",
      "\n",
      "      micro avg       0.55      0.55      0.55      1186\n",
      "      macro avg       0.29      0.24      0.24      1186\n",
      "   weighted avg       0.47      0.55      0.49      1186\n",
      "\n",
      "Confusion matrix, without normalization\n",
      "[[601  10  73  20   2]\n",
      " [ 62   7   4   4   0]\n",
      " [213   1  38   9   0]\n",
      " [ 88   1   9  10   0]\n",
      " [ 27   3   2   2   0]]\n"
     ]
    },
    {
     "data": {
      "image/png": "[encoded data removed]",
      "text/plain": [
       "<Figure size 432x288 with 2 Axes>"
      ]
     },
     "metadata": {
      "needs_background": "light"
     },
     "output_type": "display_data"
    }
   ],
   "source": [
    "# Compute confusion matrix\n",
    "KNN_cnf_matrix = confusion_matrix(y_test, y_hat_KNN)\n",
    "np.set_printoptions(precision=2)\n",
    "\n",
    "print (classification_report(y_test, y_hat_KNN))\n",
    "\n",
    "# Plot non-normalized confusion matrix\n",
    "plt.figure()\n",
    "plot_confusion_matrix(KNN_cnf_matrix, classes=['Assault','Auto Theft', 'Break and Enter','Robbery','Theft Over'],normalize= False,  title='Confusion matrix')"
   ]
  },
  {
   "cell_type": "markdown",
   "metadata": {},
   "source": [
    "# Support Vector Machine"
   ]
  },
  {
   "cell_type": "code",
   "execution_count": 129,
   "metadata": {},
   "outputs": [
    {
     "data": {
      "text/plain": [
       "SVC(C=1.0, cache_size=200, class_weight=None, coef0=0.0,\n",
       "  decision_function_shape='ovr', degree=3, gamma='scale', kernel='rbf',\n",
       "  max_iter=-1, probability=False, random_state=None, shrinking=True,\n",
       "  tol=0.001, verbose=False)"
      ]
     },
     "execution_count": 129,
     "metadata": {},
     "output_type": "execute_result"
    }
   ],
   "source": [
    "SVM = svm.SVC(kernel='rbf',gamma='scale')\n",
    "SVM.fit(X_train, y_train.values.ravel()) "
   ]
  },
  {
   "cell_type": "code",
   "execution_count": 130,
   "metadata": {},
   "outputs": [
    {
     "data": {
      "text/plain": [
       "array(['Assault', 'Assault', 'Assault', 'Assault', 'Assault'],\n",
       "      dtype=object)"
      ]
     },
     "execution_count": 130,
     "metadata": {},
     "output_type": "execute_result"
    }
   ],
   "source": [
    "y_hat_SVM = SVM.predict(X_test)\n",
    "y_hat_SVM [0:5]"
   ]
  },
  {
   "cell_type": "code",
   "execution_count": 131,
   "metadata": {},
   "outputs": [
    {
     "name": "stderr",
     "output_type": "stream",
     "text": [
      "C:\\Users\\lujing\\AppData\\Local\\Continuum\\anaconda3\\lib\\site-packages\\sklearn\\metrics\\classification.py:1143: UndefinedMetricWarning: Precision and F-score are ill-defined and being set to 0.0 in labels with no predicted samples.\n",
      "  'precision', 'predicted', average, warn_for)\n",
      "C:\\Users\\lujing\\AppData\\Local\\Continuum\\anaconda3\\lib\\site-packages\\sklearn\\metrics\\classification.py:1143: UndefinedMetricWarning: Precision and F-score are ill-defined and being set to 0.0 in labels with no predicted samples.\n",
      "  'precision', 'predicted', average, warn_for)\n",
      "C:\\Users\\lujing\\AppData\\Local\\Continuum\\anaconda3\\lib\\site-packages\\sklearn\\metrics\\classification.py:1143: UndefinedMetricWarning: Precision and F-score are ill-defined and being set to 0.0 in labels with no predicted samples.\n",
      "  'precision', 'predicted', average, warn_for)\n"
     ]
    },
    {
     "name": "stdout",
     "output_type": "stream",
     "text": [
      "                 precision    recall  f1-score   support\n",
      "\n",
      "        Assault       0.60      1.00      0.75       706\n",
      "     Auto Theft       0.00      0.00      0.00        77\n",
      "Break and Enter       0.00      0.00      0.00       261\n",
      "        Robbery       0.00      0.00      0.00       108\n",
      "     Theft Over       0.00      0.00      0.00        34\n",
      "\n",
      "      micro avg       0.60      0.60      0.60      1186\n",
      "      macro avg       0.12      0.20      0.15      1186\n",
      "   weighted avg       0.35      0.60      0.44      1186\n",
      "\n",
      "Confusion matrix, without normalization\n",
      "[[706   0   0   0   0]\n",
      " [ 77   0   0   0   0]\n",
      " [261   0   0   0   0]\n",
      " [108   0   0   0   0]\n",
      " [ 34   0   0   0   0]]\n"
     ]
    },
    {
     "data": {
      "image/png": "[encoded data removed]",
      "text/plain": [
       "<Figure size 432x288 with 2 Axes>"
      ]
     },
     "metadata": {
      "needs_background": "light"
     },
     "output_type": "display_data"
    }
   ],
   "source": [
    "# Compute confusion matrix\n",
    "SVM_cnf_matrix = confusion_matrix(y_test, y_hat_SVM)\n",
    "np.set_printoptions(precision=2)\n",
    "\n",
    "print (classification_report(y_test, y_hat_SVM))\n",
    "\n",
    "# Plot non-normalized confusion matrix\n",
    "plt.figure()\n",
    "plot_confusion_matrix(SVM_cnf_matrix, classes=['Assault','Auto Theft', 'Break and Enter','Robbery','Theft Over'],normalize= False,  title='Confusion matrix')"
   ]
  },
  {
   "cell_type": "markdown",
   "metadata": {},
   "source": [
    "# Logistic Regression"
   ]
  },
  {
   "cell_type": "code",
   "execution_count": 132,
   "metadata": {},
   "outputs": [],
   "source": [
    "from sklearn.linear_model import LogisticRegression"
   ]
  },
  {
   "cell_type": "code",
   "execution_count": 133,
   "metadata": {},
   "outputs": [
    {
     "name": "stderr",
     "output_type": "stream",
     "text": [
      "C:\\Users\\lujing\\AppData\\Local\\Continuum\\anaconda3\\lib\\site-packages\\sklearn\\linear_model\\sag.py:334: ConvergenceWarning: The max_iter was reached which means the coef_ did not converge\n",
      "  \"the coef_ did not converge\", ConvergenceWarning)\n"
     ]
    },
    {
     "data": {
      "text/plain": [
       "LogisticRegression(C=0.01, class_weight=None, dual=False, fit_intercept=True,\n",
       "          intercept_scaling=1, max_iter=100, multi_class='multinomial',\n",
       "          n_jobs=None, penalty='l2', random_state=None, solver='saga',\n",
       "          tol=0.0001, verbose=0, warm_start=False)"
      ]
     },
     "execution_count": 133,
     "metadata": {},
     "output_type": "execute_result"
    }
   ],
   "source": [
    "LR = LogisticRegression(C=0.01, solver='saga',multi_class=\"multinomial\").fit(X_train,y_train.values.ravel())\n",
    "LR"
   ]
  },
  {
   "cell_type": "code",
   "execution_count": 134,
   "metadata": {},
   "outputs": [
    {
     "data": {
      "text/plain": [
       "array(['Assault', 'Assault', 'Assault', 'Assault', 'Assault'],\n",
       "      dtype=object)"
      ]
     },
     "execution_count": 134,
     "metadata": {},
     "output_type": "execute_result"
    }
   ],
   "source": [
    "y_hat_LR = LR.predict(X_test)\n",
    "y_hat_LR[0:5]"
   ]
  },
  {
   "cell_type": "code",
   "execution_count": 135,
   "metadata": {},
   "outputs": [
    {
     "data": {
      "text/plain": [
       "array([[0.55, 0.05, 0.28, 0.09, 0.02],\n",
       "       [0.53, 0.07, 0.27, 0.1 , 0.03],\n",
       "       [0.6 , 0.05, 0.23, 0.1 , 0.03],\n",
       "       [0.49, 0.08, 0.24, 0.15, 0.03],\n",
       "       [0.59, 0.05, 0.24, 0.1 , 0.03]])"
      ]
     },
     "execution_count": 135,
     "metadata": {},
     "output_type": "execute_result"
    }
   ],
   "source": [
    "y_hat_prob_LR = LR.predict_proba(X_test)\n",
    "y_hat_prob_LR[0:5]"
   ]
  },
  {
   "cell_type": "markdown",
   "metadata": {},
   "source": [
    "### Confusion Matrix for Logistic Regression"
   ]
  },
  {
   "cell_type": "code",
   "execution_count": 136,
   "metadata": {},
   "outputs": [
    {
     "name": "stderr",
     "output_type": "stream",
     "text": [
      "C:\\Users\\lujing\\AppData\\Local\\Continuum\\anaconda3\\lib\\site-packages\\sklearn\\metrics\\classification.py:1143: UndefinedMetricWarning: Precision and F-score are ill-defined and being set to 0.0 in labels with no predicted samples.\n",
      "  'precision', 'predicted', average, warn_for)\n",
      "C:\\Users\\lujing\\AppData\\Local\\Continuum\\anaconda3\\lib\\site-packages\\sklearn\\metrics\\classification.py:1143: UndefinedMetricWarning: Precision and F-score are ill-defined and being set to 0.0 in labels with no predicted samples.\n",
      "  'precision', 'predicted', average, warn_for)\n",
      "C:\\Users\\lujing\\AppData\\Local\\Continuum\\anaconda3\\lib\\site-packages\\sklearn\\metrics\\classification.py:1143: UndefinedMetricWarning: Precision and F-score are ill-defined and being set to 0.0 in labels with no predicted samples.\n",
      "  'precision', 'predicted', average, warn_for)\n"
     ]
    },
    {
     "name": "stdout",
     "output_type": "stream",
     "text": [
      "                 precision    recall  f1-score   support\n",
      "\n",
      "        Assault       0.60      1.00      0.75       706\n",
      "     Auto Theft       0.00      0.00      0.00        77\n",
      "Break and Enter       0.00      0.00      0.00       261\n",
      "        Robbery       0.00      0.00      0.00       108\n",
      "     Theft Over       0.00      0.00      0.00        34\n",
      "\n",
      "      micro avg       0.60      0.60      0.60      1186\n",
      "      macro avg       0.12      0.20      0.15      1186\n",
      "   weighted avg       0.35      0.60      0.44      1186\n",
      "\n",
      "Confusion matrix, without normalization\n",
      "[[706   0   0   0   0]\n",
      " [ 77   0   0   0   0]\n",
      " [261   0   0   0   0]\n",
      " [108   0   0   0   0]\n",
      " [ 34   0   0   0   0]]\n"
     ]
    },
    {
     "data": {
      "image/png": "[encoded data removed]",
      "text/plain": [
       "<Figure size 432x288 with 2 Axes>"
      ]
     },
     "metadata": {
      "needs_background": "light"
     },
     "output_type": "display_data"
    }
   ],
   "source": [
    "# Compute confusion matrix\n",
    "LR_cnf_matrix = confusion_matrix(y_test, y_hat_LR)\n",
    "np.set_printoptions(precision=2)\n",
    "\n",
    "print (classification_report(y_test, y_hat_LR))\n",
    "\n",
    "# Plot non-normalized confusion matrix\n",
    "plt.figure()\n",
    "plot_confusion_matrix(LR_cnf_matrix, classes=['Assault','Auto Theft', 'Break and Enter','Robbery','Theft Over'],normalize= False,  title='Confusion matrix')"
   ]
  },
  {
   "cell_type": "markdown",
   "metadata": {},
   "source": [
    "### Neural Network"
   ]
  },
  {
   "cell_type": "code",
   "execution_count": 137,
   "metadata": {},
   "outputs": [
    {
     "name": "stderr",
     "output_type": "stream",
     "text": [
      "C:\\Users\\lujing\\AppData\\Local\\Continuum\\anaconda3\\lib\\site-packages\\sklearn\\preprocessing\\data.py:645: DataConversionWarning: Data with input dtype uint8, int32, int64 were all converted to float64 by StandardScaler.\n",
      "  return self.partial_fit(X, y)\n"
     ]
    },
    {
     "data": {
      "text/plain": [
       "StandardScaler(copy=True, with_mean=True, with_std=True)"
      ]
     },
     "execution_count": 137,
     "metadata": {},
     "output_type": "execute_result"
    }
   ],
   "source": [
    "from sklearn.preprocessing import StandardScaler\n",
    "scaler = StandardScaler()\n",
    "# Fit only to the training data\n",
    "scaler.fit(X_train)"
   ]
  },
  {
   "cell_type": "code",
   "execution_count": 138,
   "metadata": {},
   "outputs": [
    {
     "name": "stderr",
     "output_type": "stream",
     "text": [
      "C:\\Users\\lujing\\AppData\\Local\\Continuum\\anaconda3\\lib\\site-packages\\ipykernel_launcher.py:2: DataConversionWarning: Data with input dtype uint8, int32, int64 were all converted to float64 by StandardScaler.\n",
      "  \n",
      "C:\\Users\\lujing\\AppData\\Local\\Continuum\\anaconda3\\lib\\site-packages\\ipykernel_launcher.py:3: DataConversionWarning: Data with input dtype uint8, int32, int64 were all converted to float64 by StandardScaler.\n",
      "  This is separate from the ipykernel package so we can avoid doing imports until\n"
     ]
    }
   ],
   "source": [
    "# Now apply the transformations to the data:\n",
    "X_train = scaler.transform(X_train)\n",
    "X_test = scaler.transform(X_test)"
   ]
  },
  {
   "cell_type": "code",
   "execution_count": 139,
   "metadata": {},
   "outputs": [],
   "source": [
    "from sklearn.neural_network import MLPClassifier"
   ]
  },
  {
   "cell_type": "code",
   "execution_count": 140,
   "metadata": {},
   "outputs": [],
   "source": [
    "mlp = MLPClassifier(hidden_layer_sizes=(30,30,30))"
   ]
  },
  {
   "cell_type": "code",
   "execution_count": 141,
   "metadata": {},
   "outputs": [
    {
     "name": "stderr",
     "output_type": "stream",
     "text": [
      "C:\\Users\\lujing\\AppData\\Local\\Continuum\\anaconda3\\lib\\site-packages\\sklearn\\neural_network\\multilayer_perceptron.py:916: DataConversionWarning: A column-vector y was passed when a 1d array was expected. Please change the shape of y to (n_samples, ), for example using ravel().\n",
      "  y = column_or_1d(y, warn=True)\n",
      "C:\\Users\\lujing\\AppData\\Local\\Continuum\\anaconda3\\lib\\site-packages\\sklearn\\neural_network\\multilayer_perceptron.py:562: ConvergenceWarning: Stochastic Optimizer: Maximum iterations (200) reached and the optimization hasn't converged yet.\n",
      "  % self.max_iter, ConvergenceWarning)\n"
     ]
    },
    {
     "data": {
      "text/plain": [
       "MLPClassifier(activation='relu', alpha=0.0001, batch_size='auto', beta_1=0.9,\n",
       "       beta_2=0.999, early_stopping=False, epsilon=1e-08,\n",
       "       hidden_layer_sizes=(30, 30, 30), learning_rate='constant',\n",
       "       learning_rate_init=0.001, max_iter=200, momentum=0.9,\n",
       "       n_iter_no_change=10, nesterovs_momentum=True, power_t=0.5,\n",
       "       random_state=None, shuffle=True, solver='adam', tol=0.0001,\n",
       "       validation_fraction=0.1, verbose=False, warm_start=False)"
      ]
     },
     "execution_count": 141,
     "metadata": {},
     "output_type": "execute_result"
    }
   ],
   "source": [
    "mlp.fit(X_train,y_train)"
   ]
  },
  {
   "cell_type": "code",
   "execution_count": 142,
   "metadata": {},
   "outputs": [],
   "source": [
    "y_hat_mlp = mlp.predict(X_test)"
   ]
  },
  {
   "cell_type": "code",
   "execution_count": 143,
   "metadata": {},
   "outputs": [
    {
     "name": "stderr",
     "output_type": "stream",
     "text": [
      "C:\\Users\\lujing\\AppData\\Local\\Continuum\\anaconda3\\lib\\site-packages\\sklearn\\metrics\\classification.py:1143: UndefinedMetricWarning: Precision and F-score are ill-defined and being set to 0.0 in labels with no predicted samples.\n",
      "  'precision', 'predicted', average, warn_for)\n",
      "C:\\Users\\lujing\\AppData\\Local\\Continuum\\anaconda3\\lib\\site-packages\\sklearn\\metrics\\classification.py:1143: UndefinedMetricWarning: Precision and F-score are ill-defined and being set to 0.0 in labels with no predicted samples.\n",
      "  'precision', 'predicted', average, warn_for)\n",
      "C:\\Users\\lujing\\AppData\\Local\\Continuum\\anaconda3\\lib\\site-packages\\sklearn\\metrics\\classification.py:1143: UndefinedMetricWarning: Precision and F-score are ill-defined and being set to 0.0 in labels with no predicted samples.\n",
      "  'precision', 'predicted', average, warn_for)\n"
     ]
    },
    {
     "name": "stdout",
     "output_type": "stream",
     "text": [
      "                 precision    recall  f1-score   support\n",
      "\n",
      "        Assault       0.60      1.00      0.75       706\n",
      "     Auto Theft       0.00      0.00      0.00        77\n",
      "Break and Enter       0.00      0.00      0.00       261\n",
      "        Robbery       0.00      0.00      0.00       108\n",
      "     Theft Over       0.00      0.00      0.00        34\n",
      "\n",
      "      micro avg       0.60      0.60      0.60      1186\n",
      "      macro avg       0.12      0.20      0.15      1186\n",
      "   weighted avg       0.35      0.60      0.44      1186\n",
      "\n",
      "Confusion matrix, without normalization\n",
      "[[706   0   0   0   0]\n",
      " [ 77   0   0   0   0]\n",
      " [261   0   0   0   0]\n",
      " [108   0   0   0   0]\n",
      " [ 34   0   0   0   0]]\n"
     ]
    },
    {
     "data": {
      "image/png": "[encoded data removed]",
      "text/plain": [
       "<Figure size 432x288 with 2 Axes>"
      ]
     },
     "metadata": {
      "needs_background": "light"
     },
     "output_type": "display_data"
    }
   ],
   "source": [
    "# Compute confusion matrix\n",
    "mlp_cnf_matrix = confusion_matrix(y_test, y_hat_mlp)\n",
    "np.set_printoptions(precision=2)\n",
    "\n",
    "print (classification_report(y_test, y_hat_LR))\n",
    "\n",
    "# Plot non-normalized confusion matrix\n",
    "plt.figure()\n",
    "plot_confusion_matrix(LR_cnf_matrix, classes=['Assault','Auto Theft', 'Break and Enter','Robbery','Theft Over'],normalize= False,  title='Confusion matrix')"
   ]
  },
  {
   "cell_type": "markdown",
   "metadata": {},
   "source": [
    "### Random Forest"
   ]
  },
  {
   "cell_type": "code",
   "execution_count": 144,
   "metadata": {},
   "outputs": [],
   "source": [
    "from sklearn.ensemble import RandomForestClassifier\n",
    "#Create a Gaussian Classifier\n",
    "RF=RandomForestClassifier(n_estimators=100)\n",
    "\n",
    "#Train the model using the training sets y_pred=clf.predict(X_test)\n",
    "RF.fit(X_train,y_train.values.ravel())\n",
    "\n",
    "y_pred_RF=RF.predict(X_test)"
   ]
  },
  {
   "cell_type": "code",
   "execution_count": 145,
   "metadata": {},
   "outputs": [
    {
     "name": "stdout",
     "output_type": "stream",
     "text": [
      "Accuracy: 0.6214165261382799\n"
     ]
    }
   ],
   "source": [
    "#Import scikit-learn metrics module for accuracy calculation\n",
    "from sklearn import metrics\n",
    "# Model Accuracy, how often is the classifier correct?\n",
    "print(\"Accuracy:\",metrics.accuracy_score(y_test, y_pred_RF))"
   ]
  },
  {
   "cell_type": "code",
   "execution_count": 146,
   "metadata": {},
   "outputs": [
    {
     "data": {
      "text/plain": [
       "Index(['occyear', 'occmonth', 'occday', 'occhour', 'Adult Boutique',\n",
       "       'Afghan Restaurant', 'African Restaurant', 'Airport', 'Airport Lounge',\n",
       "       'American Restaurant',\n",
       "       ...\n",
       "       'Venue value counts', 'Apartment', 'Commercial', 'House', 'Other',\n",
       "       'Outside', 'M4E', 'M5A', 'M6J', 'M6R'],\n",
       "      dtype='object', length=287)"
      ]
     },
     "execution_count": 146,
     "metadata": {},
     "output_type": "execute_result"
    }
   ],
   "source": [
    "X_all.columns"
   ]
  },
  {
   "cell_type": "code",
   "execution_count": 147,
   "metadata": {},
   "outputs": [
    {
     "data": {
      "text/plain": [
       "occday                   0.264740\n",
       "occhour                  0.250496\n",
       "occmonth                 0.206828\n",
       "occyear                  0.128972\n",
       "Outside                  0.047729\n",
       "House                    0.028399\n",
       "Commercial               0.024202\n",
       "Apartment                0.024179\n",
       "Other                    0.011548\n",
       "Gym / Fitness Center     0.000317\n",
       "Café                     0.000301\n",
       "Asian Restaurant         0.000272\n",
       "Park                     0.000263\n",
       "Breakfast Spot           0.000262\n",
       "Pizza Place              0.000255\n",
       "Restaurant               0.000234\n",
       "Gym Pool                 0.000226\n",
       "Cosmetics Shop           0.000225\n",
       "BBQ Joint                0.000220\n",
       "Bakery                   0.000210\n",
       "Pool                     0.000210\n",
       "Bagel Shop               0.000203\n",
       "Bar                      0.000191\n",
       "Korean Restaurant        0.000185\n",
       "Beach                    0.000181\n",
       "Pub                      0.000179\n",
       "Food Truck               0.000177\n",
       "Coffee Shop              0.000176\n",
       "Spa                      0.000166\n",
       "Art Gallery              0.000162\n",
       "                           ...   \n",
       "Discount Store           0.000000\n",
       "Pool Hall                0.000000\n",
       "Portuguese Restaurant    0.000000\n",
       "Design Studio            0.000000\n",
       "Deli / Bodega            0.000000\n",
       "Opera House              0.000000\n",
       "Dance Studio             0.000000\n",
       "Cycle Studio             0.000000\n",
       "Racetrack                0.000000\n",
       "Recording Studio         0.000000\n",
       "Rental Car Location      0.000000\n",
       "Creperie                 0.000000\n",
       "Doner Restaurant         0.000000\n",
       "Donut Shop               0.000000\n",
       "Dumpling Restaurant      0.000000\n",
       "Plaza                    0.000000\n",
       "Egyptian Restaurant      0.000000\n",
       "Pie Shop                 0.000000\n",
       "Ethiopian Restaurant     0.000000\n",
       "Pide Place               0.000000\n",
       "Persian Restaurant       0.000000\n",
       "Farm                     0.000000\n",
       "Pastry Shop              0.000000\n",
       "Fast Food Restaurant     0.000000\n",
       "Filipino Restaurant      0.000000\n",
       "Fish & Chips Shop        0.000000\n",
       "Pakistani Restaurant     0.000000\n",
       "Flea Market              0.000000\n",
       "Organic Grocery          0.000000\n",
       "Coworking Space          0.000000\n",
       "Length: 287, dtype: float64"
      ]
     },
     "execution_count": 147,
     "metadata": {},
     "output_type": "execute_result"
    }
   ],
   "source": [
    "feature_imp = pd.Series(RF.feature_importances_,index=X_all.columns).sort_values(ascending=False)\n",
    "feature_imp"
   ]
  },
  {
   "cell_type": "code",
   "execution_count": 148,
   "metadata": {},
   "outputs": [
    {
     "name": "stderr",
     "output_type": "stream",
     "text": [
      "No handles with labels found to put in legend.\n"
     ]
    },
    {
     "data": {
      "image/png": "[encoded data removed]",
      "text/plain": [
       "<Figure size 432x288 with 1 Axes>"
      ]
     },
     "metadata": {
      "needs_background": "light"
     },
     "output_type": "display_data"
    }
   ],
   "source": [
    "sns.barplot(x=feature_imp[0:12], y=feature_imp.index[0:12])\n",
    "# Add labels to your graph\n",
    "plt.xlabel('Feature Importance Score')\n",
    "plt.ylabel('Features')\n",
    "plt.title(\"Visualizing Important Features\")\n",
    "plt.legend()\n",
    "plt.show()"
   ]
  },
  {
   "cell_type": "code",
   "execution_count": null,
   "metadata": {},
   "outputs": [],
   "source": []
  },
  {
   "cell_type": "code",
   "execution_count": null,
   "metadata": {},
   "outputs": [],
   "source": []
  }
 ],
 "metadata": {
  "kernelspec": {
   "display_name": "Python 3",
   "language": "python",
   "name": "python3"
  },
  "language_info": {
   "codemirror_mode": {
    "name": "ipython",
    "version": 3
   },
   "file_extension": ".py",
   "mimetype": "text/x-python",
   "name": "python",
   "nbconvert_exporter": "python",
   "pygments_lexer": "ipython3",
   "version": "3.7.3"
  }
 },
 "nbformat": 4,
 "nbformat_minor": 2
}
